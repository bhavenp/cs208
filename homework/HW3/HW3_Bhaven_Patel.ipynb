{
 "cells": [
  {
   "cell_type": "markdown",
   "metadata": {},
   "source": [
    "# HW3: The Centralized Curator Model\n",
    "\n",
    "### Bhaven Patel\n",
    "### 4/2/2019\n",
    "\n",
    "I worked with Anthony Rentsch, Lipika Ramaswamy, and Karina Huang on this homework.\n",
    "\n",
    "My code can be found on my [Github](https://github.com/bhavenp/cs208/blob/master/homework/HW3/HW3_Bhaven_Patel.ipynb)."
   ]
  },
  {
   "cell_type": "markdown",
   "metadata": {},
   "source": [
    "## Problem 1: Tails, Trimming, and Winsorization"
   ]
  },
  {
   "cell_type": "markdown",
   "metadata": {},
   "source": [
    "\n",
    "**(a)**<br>\n",
    "\n",
    "$$\n",
    "M(x)=\\dfrac{1}{0.9n}\\left(\\sum_{P_0.05 \\leq x_i \\leq P_0.95} x_i\\right) + Lap\\left( \\dfrac{D}{0.9n\\epsilon} \\right)\n",
    "$$\n",
    "\n",
    "This implementation of the Trimmed mean is $\\epsilon$-DP if the trimming transformation $T$ on $x$ ($x$ is trimmed from its 5th to its 95th percentile) is c-Lipschitz with $c=1$ and the mechanism $M$ is $\\epsilon$-DP.\n",
    "\n",
    "First, we can show that the trimming transformation $T$ on $x$ is c-Lipschitz with $c=1$:<br>\n",
    "Begin with $x$ and $x'$, which hold $n$=20 values each in the range [0,...,D]\n",
    "$$\n",
    "x = [x_1, ..., x_{20}]\\\\\n",
    "x' = [x_2, ..., x_{21}]\\\\\n",
    "$$\n",
    "\n",
    "The trimming transformation $T$ applied to $x$ and $x'$ would result in\n",
    "$$\n",
    "T(x) = [x_2, ..., x_{19}]\\\\\n",
    "T(x') = [x_3, ..., x_{20}]\\\\\n",
    "$$\n",
    "\n",
    "$T(x)$ is $c$-Lipschitz if $\\forall x,x' \\;\\; d(T(x), T(x')) \\leq c\\cdot d(x, x')$, where $d(x, x')$ denotes the distance between datasets $x$ and $x'$ defined by the number of rows you would need to change in $x'$ to make it the same as $x$. In this case, $d(x, x') = 1$ and $d(T(x), T(x')) = 1$, so $c=1$. Thus, $T(x)$ is $c$-Lipschitz with $c=1$. This would hold for any value of $n$.\n",
    "\n",
    "A mechanism $M$ is $\\epsilon$-DP when adding Laplace noise sampled from $Lap\\left(\\dfrac{GS}{\\epsilon}\\right)$, where $GS$ is the global sensitivity. In our case, the $GS = \\dfrac{D}{0.9n}$ and we are adding $Lap\\left(\\dfrac{D}{0.9n\\epsilon}\\right)$ noise, so our mechanism is $\\epsilon$-DP. From the lemma in class, since $M$ is $\\epsilon$-DP and $T$ is $1$-Lipschitz, then $M\\circ T$ is $1 \\cdot \\epsilon$-DP. Thus, this Trimmed mean algorithm is $\\epsilon$-DP.\n",
    "\n",
    "\n",
    "The code for the implementation is below."
   ]
  },
  {
   "cell_type": "code",
   "execution_count": 1,
   "metadata": {},
   "outputs": [],
   "source": [
    "rm(list=ls())\t\t# Remove any objects in memory\n",
    "\n",
    "#### Parameters ####\n",
    "\n",
    "# Random draw from Laplace distribution\n",
    "#\n",
    "# mu numeric, center of the distribution\n",
    "# b numeric, spread\n",
    "# size integer, number of draws\n",
    "# \n",
    "# return Random draws from Laplace distribution\n",
    "# example:\n",
    "# \n",
    "# rlap(size=1000)\n",
    "\n",
    "rlap = function(mu=0, b=1, size=1) {\n",
    "    p <- runif(size) - 0.5\n",
    "    draws <- mu - b * sgn(p) * log(1 - 2 * abs(p))\n",
    "    return(draws)\n",
    "}\n",
    "\n",
    "# Sign function\n",
    "# \n",
    "# Function to determine what the sign of the passed values should be.\n",
    "#\n",
    "# x numeric, value or vector or values\n",
    "# return The sign of passed values\n",
    "# example:\n",
    "#\n",
    "# sgn(rnorm(10))\n",
    "\n",
    "\n",
    "sgn <- function(x) {\n",
    "    return(ifelse(x < 0, -1, 1))\n",
    "}"
   ]
  },
  {
   "cell_type": "code",
   "execution_count": 2,
   "metadata": {},
   "outputs": [],
   "source": [
    "# Generate a dataset of size\n",
    "#\n",
    "# max_value- maximum value any element in the dataset should take on\n",
    "# size- number of elements to include in dataset\n",
    "# \n",
    "# returns a differentially private mean release from the trimmed data\n",
    "\n",
    "create_dataset = function(max_value, size){\n",
    "    return(sample(0:max_value, size = size, replace = TRUE));\n",
    "}"
   ]
  },
  {
   "cell_type": "code",
   "execution_count": 3,
   "metadata": {},
   "outputs": [],
   "source": [
    "# Trimmed mean function for releasing a DP mean from data trimmed to its 5% to 95% intervals\n",
    "#\n",
    "# x- numeric vector of values\n",
    "# max_value- maximum value any element in 'x' may take\n",
    "# epsilon- privacy loss parameter\n",
    "# \n",
    "# returns a differentially private mean release from the trimmed data\n",
    "\n",
    "trimmed_mean = function(x, max_value, epsilon){\n",
    "    n <- length(x); #get number of elements in x\n",
    "    #get 5% and 95% cutoff values\n",
    "    cutoffs <- quantile(x, probs = c(0.05, 0.95) )\n",
    "    lower = cutoffs[1];\n",
    "    upper = cutoffs[2];\n",
    "    x.trimmed <- x[x >= lower & x <= upper]; #trim x\n",
    "    \n",
    "    sensitivity <- max_value/ (0.9*n);\n",
    "    scale <- sensitivity / epsilon; #scale for Laplace noise\n",
    "\n",
    "    sensitiveValue <- mean(x.trimmed)\n",
    "    DPrelease <- sensitiveValue + rlap(mu=0, b=scale, size=1)\n",
    "\n",
    "    return(list(release=DPrelease, true=sensitiveValue));\n",
    "}"
   ]
  },
  {
   "cell_type": "code",
   "execution_count": 4,
   "metadata": {},
   "outputs": [
    {
     "name": "stdout",
     "output_type": "stream",
     "text": [
      " [1]  1  7  3  7  9  5  9  5  7  9  3  4  4  1  2  4  8  6 10  8\n"
     ]
    },
    {
     "data": {
      "text/html": [
       "<dl>\n",
       "\t<dt>$release</dt>\n",
       "\t\t<dd>6.44091814068076</dd>\n",
       "\t<dt>$true</dt>\n",
       "\t\t<dd>5.36842105263158</dd>\n",
       "</dl>\n"
      ],
      "text/latex": [
       "\\begin{description}\n",
       "\\item[\\$release] 6.44091814068076\n",
       "\\item[\\$true] 5.36842105263158\n",
       "\\end{description}\n"
      ],
      "text/markdown": [
       "$release\n",
       ":   6.44091814068076\n",
       "$true\n",
       ":   5.36842105263158\n",
       "\n",
       "\n"
      ],
      "text/plain": [
       "$release\n",
       "[1] 6.440918\n",
       "\n",
       "$true\n",
       "[1] 5.368421\n"
      ]
     },
     "metadata": {},
     "output_type": "display_data"
    }
   ],
   "source": [
    "max_value = 10;\n",
    "size = 20;\n",
    "\n",
    "test <- create_dataset(max_value, size);\n",
    "print(test)\n",
    "\n",
    "trimmed_mean(test, max_value = max_value, epsilon = 0.4)"
   ]
  },
  {
   "cell_type": "markdown",
   "metadata": {},
   "source": [
    "<hr>"
   ]
  },
  {
   "cell_type": "markdown",
   "metadata": {},
   "source": [
    "**(b)**<br>"
   ]
  },
  {
   "cell_type": "markdown",
   "metadata": {},
   "source": []
  },
  {
   "cell_type": "markdown",
   "metadata": {},
   "source": [
    "<hr>"
   ]
  },
  {
   "cell_type": "markdown",
   "metadata": {},
   "source": [
    "**(c)**<br>"
   ]
  },
  {
   "cell_type": "markdown",
   "metadata": {},
   "source": [
    "## Need to describe implementation of percentile release"
   ]
  },
  {
   "cell_type": "code",
   "execution_count": 8,
   "metadata": {},
   "outputs": [],
   "source": [
    "# percentile mean function for releasing a DP percentile from data \n",
    "#\n",
    "# x- numeric vector of values\n",
    "# tperc- percentile for which value from x should be chosen\n",
    "# epsilon- privacy loss parameter\n",
    "# \n",
    "# returns a differentially private percentile release from the data\n",
    "percentileRelease <- function(x, tperc, lower, upper, nbins=0, epsilon){\n",
    "\tn <- length(x);\n",
    "    xSorted <- sort(x, decreasing = FALSE);\n",
    "\tif(nbins==0){\n",
    "\t\tbins <- floor(lower):ceiling(upper);    # For integers, this is just lower:upper\n",
    "        nbins <- length(bins);\n",
    "    }\n",
    "    else{\n",
    "        #get vector of bin values\n",
    "        bins <- seq(from=xSorted[1], to=xSorted[n], by=nbins);\n",
    "    }\n",
    "# \tx.clipped <- clip(x, lower, upper)\n",
    "    sensitiveValue <- quantile(x, probs = c(percentile)); #get the true value at the desired percentile \n",
    "\n",
    "\tutilities <- rep(NA, nbins); #create vector to hold utility score for each bin\n",
    "\tfor(i in 1:length(utilities)){ #calculate the utility of each bin\n",
    "        \n",
    "\t\tcntBelow <- sum(x.clipped<=bins[i]);\n",
    "        cntAbove <- sum(x.clipped>=bins[i]);\n",
    "        diff = t/(1-t) - cntBelow/cntAbove; #get difference between the true ratio of percentiles\n",
    "        utilities[i] <- 1 - abs(diff);   \n",
    "\t}\n",
    "    #calculate the actual probabilities for each bin\n",
    "\tlikelihoods <- exp(epsilon * utilities / 2);\n",
    "\tprobabilities <- likelihoods/sum(likelihoods);\n",
    "    \n",
    "    flag <- runif(n=1, min=0, max=1) < cumsum(probabilities) # See also rmultinom()\n",
    "    DPrelease <- min(bins[flag]) \n",
    "\n",
    "    return(list(release=DPrelease, true=sensitiveValue))\n",
    "}\n"
   ]
  },
  {
   "cell_type": "markdown",
   "metadata": {},
   "source": [
    "<hr>"
   ]
  },
  {
   "cell_type": "markdown",
   "metadata": {},
   "source": [
    "**(d)**<br>"
   ]
  },
  {
   "cell_type": "code",
   "execution_count": null,
   "metadata": {},
   "outputs": [],
   "source": []
  },
  {
   "cell_type": "markdown",
   "metadata": {},
   "source": [
    "<hr>"
   ]
  },
  {
   "cell_type": "markdown",
   "metadata": {},
   "source": [
    "## Problem 2: Composition"
   ]
  },
  {
   "cell_type": "code",
   "execution_count": null,
   "metadata": {},
   "outputs": [],
   "source": [
    "## PARAMETERS\n",
    "delta = 10**(-9);\n",
    "globalEps = 1;\n",
    "\n",
    "kVals <- seq(from=1, to=1000, by=2); #get sequence of values for k\n",
    "\n",
    "results <- matrix( rep(NA,length(kVals)*3), nrow=length(kVals), ncol=4);\n",
    "\n",
    "for(i in 1:length(kVals)){\n",
    "    k = kVals[i];\n",
    "    #calculate standard deviation for basic epsilon\n",
    "    epsBasic = globalEps / k;\n",
    "    stdBasic = sqrt(2) / epsBasic;\n",
    "    #calculate standard deviation for basic epsilon\n",
    "    epsAdv = globalEps / sqrt(2*k*log(1/delta));\n",
    "    stdAdv = sqrt(2) / epsAdv;\n",
    "    \n",
    "    #calculate standard deviation for \n",
    "    \n",
    "    results[i, ] <- c(k, stdBasic, stdAdv, 0);\n",
    "}"
   ]
  },
  {
   "cell_type": "code",
   "execution_count": 15,
   "metadata": {},
   "outputs": [
    {
     "name": "stderr",
     "output_type": "stream",
     "text": [
      "Loading required package: devtools\n",
      "Warning message in library(package, lib.loc = lib.loc, character.only = TRUE, logical.return = TRUE, :\n",
      "“there is no package called ‘devtools’”also installing the dependencies ‘desc’, ‘xopen’, ‘git2r’, ‘pkgbuild’, ‘pkgload’, ‘rcmdcheck’, ‘remotes’\n",
      "\n"
     ]
    },
    {
     "name": "stdout",
     "output_type": "stream",
     "text": [
      "\n",
      "  There are binary versions available but the source versions are later:\n",
      "         binary source needs_compilation\n",
      "git2r    0.25.1 0.25.2              TRUE\n",
      "pkgbuild  1.0.2  1.0.3             FALSE\n",
      "devtools 1.13.6  2.0.1             FALSE\n",
      "\n",
      "\n",
      "The downloaded binary packages are in\n",
      "\t/var/folders/xq/l7fqjmss7pl_8cy28n_fz7680000gp/T//RtmpCMQ6GZ/downloaded_packages\n"
     ]
    },
    {
     "name": "stderr",
     "output_type": "stream",
     "text": [
      "installing the source packages ‘git2r’, ‘pkgbuild’, ‘devtools’\n",
      "\n",
      "Warning message in install.packages(packageList[i], repos = useRepos):\n",
      "“installation of package ‘pkgbuild’ had non-zero exit status”Warning message in install.packages(packageList[i], repos = useRepos):\n",
      "“installation of package ‘devtools’ had non-zero exit status”Loading required package: jsonlite\n",
      "Warning message:\n",
      "“package ‘jsonlite’ was built under R version 3.4.4”Loading required package: openssl\n",
      "Warning message:\n",
      "“package ‘openssl’ was built under R version 3.4.4”Error: package or namespace load failed for ‘openssl’ in loadNamespace(i, c(lib.loc, .libPaths()), versionCheck = vI[[i]]):\n",
      " there is no package called ‘askpass’\n",
      "also installing the dependencies ‘sys’, ‘askpass’\n",
      "\n"
     ]
    },
    {
     "name": "stdout",
     "output_type": "stream",
     "text": [
      "\n",
      "  There is a binary version available but the source version is later:\n",
      "        binary source needs_compilation\n",
      "openssl  1.2.2    1.3              TRUE\n",
      "\n",
      "\n",
      "The downloaded binary packages are in\n",
      "\t/var/folders/xq/l7fqjmss7pl_8cy28n_fz7680000gp/T//RtmpCMQ6GZ/downloaded_packages\n"
     ]
    },
    {
     "name": "stderr",
     "output_type": "stream",
     "text": [
      "installing the source package ‘openssl’\n",
      "\n",
      "Warning message in install.packages(packageList[i], repos = useRepos):\n",
      "“installation of package ‘openssl’ had non-zero exit status”"
     ]
    },
    {
     "name": "stdout",
     "output_type": "stream",
     "text": [
      "\n",
      "  There is a binary version available but the source version is later:\n",
      "        binary source needs_compilation\n",
      "openssl  1.2.2    1.3              TRUE\n",
      "\n"
     ]
    },
    {
     "name": "stderr",
     "output_type": "stream",
     "text": [
      "installing the source package ‘openssl’\n",
      "\n",
      "Warning message in install.packages(update[instlib == l, \"Package\"], l, repos = repos, :\n",
      "“installation of package ‘openssl’ had non-zero exit status”"
     ]
    }
   ],
   "source": [
    "james_update_packages <- function(packageList){\n",
    "\tavailableRepos <- getCRANmirrors()\n",
    "\tflag <- availableRepos$Country==\"USA\" & grepl(\"https\",availableRepos$URL,)\n",
    "\tuseRepos <- sample(availableRepos$URL[flag],1)\n",
    "\n",
    "\t## install missing packages, and update if newer version available\n",
    "\tfor(i in 1:length(packageList)){\n",
    "\t\tif (!require(packageList[i],character.only = TRUE)){\n",
    "    \t\tinstall.packages(packageList[i], repos=useRepos)\n",
    "   \t\t}\n",
    "\t}\n",
    "\n",
    "\tupdate.packages(ask = FALSE, dependencies = c('Suggests'), oldPkgs=packageList, repos=useRepos)\n",
    "}\n",
    "\n",
    "packagelist <- c(\"devtools\", \"jsonlite\", \"openssl\")\n",
    "james_update_packages(packagelist)"
   ]
  },
  {
   "cell_type": "code",
   "execution_count": 14,
   "metadata": {},
   "outputs": [
    {
     "ename": "ERROR",
     "evalue": "Error in loadNamespace(name): there is no package called ‘devtools’\n",
     "output_type": "error",
     "traceback": [
      "Error in loadNamespace(name): there is no package called ‘devtools’\nTraceback:\n",
      "1. devtools::install_github",
      "2. getExportedValue(pkg, name)",
      "3. asNamespace(ns)",
      "4. getNamespace(ns)",
      "5. tryCatch(loadNamespace(name), error = function(e) stop(e))",
      "6. tryCatchList(expr, classes, parentenv, handlers)",
      "7. tryCatchOne(expr, names, parentenv, handlers[[1L]])",
      "8. value[[3L]](cond)"
     ]
    }
   ],
   "source": [
    "devtools::install_github(\"privacytoolsproject/PSI-Library\", ref=\"develop\") \n",
    "library(\"PSIlence\")"
   ]
  },
  {
   "cell_type": "code",
   "execution_count": 13,
   "metadata": {},
   "outputs": [
    {
     "ename": "ERROR",
     "evalue": "Error in get(name, envir = asNamespace(pkg), inherits = FALSE): object 'update_parameters' not found\n",
     "output_type": "error",
     "traceback": [
      "Error in get(name, envir = asNamespace(pkg), inherits = FALSE): object 'update_parameters' not found\nTraceback:\n",
      "1. PSIlence:::update_parameters",
      "2. get(name, envir = asNamespace(pkg), inherits = FALSE)"
     ]
    }
   ],
   "source": [
    "library(PSIlence)\n",
    "k <- 3;\n",
    "init <- rep(c(1/k, 0), k )\n",
    "params <- matrix(init, nrow=k, ncol=2, byrow=TRUE)\n",
    "inverse <- PSIlence:::update_parameters(params=params, hold=0, eps=globalEps, del=delta)\n",
    "print(inverse)"
   ]
  },
  {
   "cell_type": "code",
   "execution_count": 6,
   "metadata": {},
   "outputs": [
    {
     "data": {
      "image/png": "[encoded data removed]",
      "text/plain": [
       "plot without title"
      ]
     },
     "metadata": {},
     "output_type": "display_data"
    }
   ],
   "source": [
    "library(ggplot2)\n",
    "library(grid)\n",
    "\n",
    "final_results <- as.data.frame(results);\n",
    "colnames(final_results) <- c(\"k\", \"Std_Basic_Comp\", \"Std_Adv_Comp\", \"Std_Opt_Comp\");\n",
    "f_size = 16;\n",
    "fifty = 0.5;\n",
    "# Plot average RMSE of reconstruction against noise input\n",
    "p_rmse <- ggplot(data = final_results) + geom_line(aes(x=final_results$k, y=final_results$Std_Basic_Comp, color=\"Basic\")) + geom_line(aes(x=final_results$k, y=final_results$Std_Adv_Comp, color=\"Advanced\")); \n",
    "p_rmse <- p_rmse + labs(title=\"Laplace Noise Standard Deviations depending on epsilon composition strategies\", x=\"k Count Queries\", y = \"Standard Deviation of Laplace Noise\") + theme(plot.title = element_text(hjust=0.5), text = element_text(size=f_size-2));\n",
    "options(repr.plot.width=10, repr.plot.height=4); #set plot dimensions\n",
    "p_rmse #show plot"
   ]
  }
 ],
 "metadata": {
  "kernelspec": {
   "display_name": "R",
   "language": "R",
   "name": "ir"
  },
  "language_info": {
   "codemirror_mode": "r",
   "file_extension": ".r",
   "mimetype": "text/x-r-source",
   "name": "R",
   "pygments_lexer": "r",
   "version": "3.4.3"
  }
 },
 "nbformat": 4,
 "nbformat_minor": 2
}
