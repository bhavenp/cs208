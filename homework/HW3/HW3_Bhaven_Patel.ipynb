{
 "cells": [
  {
   "cell_type": "markdown",
   "metadata": {},
   "source": [
    "# HW3: The Centralized Curator Model\n",
    "\n",
    "### Bhaven Patel\n",
    "### 4/2/2019\n",
    "\n",
    "I worked with Anthony Rentsch, Lipika Ramaswamy, and Karina Huang on this homework.\n",
    "\n",
    "My code can be found on my [Github](https://github.com/bhavenp/cs208/blob/master/homework/HW3/HW3_Bhaven_Patel.ipynb)."
   ]
  },
  {
   "cell_type": "markdown",
   "metadata": {},
   "source": [
    "## Problem 1: Tails, Trimming, and Winsorization"
   ]
  },
  {
   "cell_type": "markdown",
   "metadata": {},
   "source": [
    "**(a)**<br>\n",
    "\n",
    "$$\n",
    "M(x)=\\dfrac{1}{0.9n}\\left(\\sum_{P_0.05 \\leq x_i \\leq P_0.95} x_i\\right) + Lap\\left( \\dfrac{D}{0.9n\\epsilon} \\right)\n",
    "$$\n",
    "\n",
    "This implementation of the Trimmed mean is $\\epsilon$-DP if the trimming transformation $T$ on $x$ ($x$ is trimmed from its 5th to its 95th percentile) is c-Lipschitz with $c=1$ and the mechanism $M$ is $\\epsilon$-DP.\n",
    "\n",
    "First, we can show that the trimming transformation $T$ on $x$ is c-Lipschitz with $c=1$:<br>\n",
    "Begin with $x$ and $x'$, which hold $n$=20 values each in the range [0,...,D]\n",
    "$$\n",
    "x = [x_1, ..., x_{20}]\\\\\n",
    "x' = [x_2, ..., x_{21}]\\\\\n",
    "$$\n",
    "\n",
    "The trimming transformation $T$ applied to $x$ and $x'$ would result in\n",
    "$$\n",
    "T(x) = [x_2, ..., x_{19}]\\\\\n",
    "T(x') = [x_3, ..., x_{20}]\\\\\n",
    "$$\n",
    "\n",
    "$T(x)$ is $c$-Lipschitz if $\\forall x,x' \\;\\; d(T(x), T(x')) \\leq c\\cdot d(x, x')$, where $d(x, x')$ denotes the distance between datasets $x$ and $x'$ defined by the number of rows you would need to change in $x'$ to make it the same as $x$. In this case, $d(x, x') = 1$ and $d(T(x), T(x')) = 1$, so $c=1$. Thus, $T(x)$ is $c$-Lipschitz with $c=1$. This would hold for any value of $n$.\n",
    "\n",
    "A mechanism $M$ is $\\epsilon$-DP when adding Laplace noise sampled from $Lap\\left(\\dfrac{GS}{\\epsilon}\\right)$, where $GS$ is the global sensitivity. In our case, the $GS = \\dfrac{D}{0.9n}$ and we are adding $Lap\\left(\\dfrac{D}{0.9n\\epsilon}\\right)$ noise, so our mechanism is $\\epsilon$-DP. From the lemma in class, since $M$ is $\\epsilon$-DP and $T$ is $1$-Lipschitz, then $M\\circ T$ is $1 \\cdot \\epsilon$-DP. Thus, this Trimmed mean algorithm is $\\epsilon$-DP.\n",
    "\n",
    "\n",
    "The code for the implementation is below."
   ]
  },
  {
   "cell_type": "code",
   "execution_count": 1,
   "metadata": {},
   "outputs": [],
   "source": [
    "rm(list=ls())\t\t# Remove any objects in memory\n",
    "\n",
    "#### Parameters ####\n",
    "\n",
    "# Random draw from Laplace distribution\n",
    "#\n",
    "# mu numeric, center of the distribution\n",
    "# b numeric, spread\n",
    "# size integer, number of draws\n",
    "# \n",
    "# return Random draws from Laplace distribution\n",
    "# example:\n",
    "# \n",
    "# rlap(size=1000)\n",
    "\n",
    "rlap = function(mu=0, b=1, size=1) {\n",
    "    p <- runif(size) - 0.5\n",
    "    draws <- mu - b * sgn(p) * log(1 - 2 * abs(p))\n",
    "    return(draws)\n",
    "}\n",
    "\n",
    "# Sign function\n",
    "# \n",
    "# Function to determine what the sign of the passed values should be.\n",
    "#\n",
    "# x numeric, value or vector or values\n",
    "# return The sign of passed values\n",
    "# example:\n",
    "#\n",
    "# sgn(rnorm(10))\n",
    "\n",
    "\n",
    "sgn <- function(x) {\n",
    "    return(ifelse(x < 0, -1, 1))\n",
    "}\n",
    "\n",
    "\n",
    "## Bound/Censor/Clip a variable to a range\n",
    "clip <- function(x, lower, upper){\n",
    "\tx.clipped <- x\n",
    "\tx.clipped[x.clipped<lower] <- lower\n",
    "\tx.clipped[x.clipped>upper] <- upper\n",
    "\treturn(x.clipped)\t\n",
    "}\n",
    "\n",
    "## Post-process a vector or matrix of DP count releases, into probabilities\n",
    "normalize <- function(x){\n",
    "\tx[x<0] <- 0\n",
    "\tx <- x/sum(x)\n",
    "\treturn(x)\n",
    "}"
   ]
  },
  {
   "cell_type": "code",
   "execution_count": 2,
   "metadata": {},
   "outputs": [],
   "source": [
    "# Generate a dataset of size\n",
    "#\n",
    "# max_value- maximum value any element in the dataset should take on\n",
    "# size- number of elements to include in dataset\n",
    "# \n",
    "# returns a differentially private mean release from the trimmed data\n",
    "\n",
    "create_dataset = function(max_value, size){\n",
    "    return(sample(0:max_value, size = size, replace = TRUE));\n",
    "}"
   ]
  },
  {
   "cell_type": "code",
   "execution_count": 3,
   "metadata": {},
   "outputs": [],
   "source": [
    "# Trimmed mean function for releasing a DP mean from data trimmed to its 5% to 95% intervals\n",
    "#\n",
    "# x- numeric vector of values\n",
    "# max_value- maximum value any element in 'x' may take\n",
    "# epsilon- privacy loss parameter\n",
    "# \n",
    "# returns a differentially private mean release from the trimmed data\n",
    "\n",
    "trimmed_mean = function(x, max_value, epsilon){\n",
    "    n <- length(x); #get number of elements in x\n",
    "    #get 5% and 95% cutoff values\n",
    "    cutoffs <- quantile(x, probs = c(0.05, 0.95) )\n",
    "    lower = cutoffs[1];\n",
    "    upper = cutoffs[2];\n",
    "    x.trimmed <- x[x >= lower & x <= upper]; #trim x\n",
    "    \n",
    "    sensitivity <- max_value/ (0.9*n);\n",
    "    scale <- sensitivity / epsilon; #scale for Laplace noise\n",
    "\n",
    "    sensitiveValue <- mean(x.trimmed)\n",
    "    DPrelease <- sensitiveValue + rlap(mu=0, b=scale, size=1)\n",
    "\n",
    "    return(list(release=DPrelease, true=sensitiveValue));\n",
    "}"
   ]
  },
  {
   "cell_type": "code",
   "execution_count": 4,
   "metadata": {},
   "outputs": [
    {
     "name": "stdout",
     "output_type": "stream",
     "text": [
      " [1]  7  7 10  7  1  7  7  6  0  1  2  0  3  4  8  3  8  8  3  3\n"
     ]
    },
    {
     "data": {
      "text/html": [
       "<dl>\n",
       "\t<dt>$release</dt>\n",
       "\t\t<dd>5.92692864157448</dd>\n",
       "\t<dt>$true</dt>\n",
       "\t\t<dd>4.47368421052632</dd>\n",
       "</dl>\n"
      ],
      "text/latex": [
       "\\begin{description}\n",
       "\\item[\\$release] 5.92692864157448\n",
       "\\item[\\$true] 4.47368421052632\n",
       "\\end{description}\n"
      ],
      "text/markdown": [
       "$release\n",
       ":   5.92692864157448\n",
       "$true\n",
       ":   4.47368421052632\n",
       "\n",
       "\n"
      ],
      "text/plain": [
       "$release\n",
       "[1] 5.926929\n",
       "\n",
       "$true\n",
       "[1] 4.473684\n"
      ]
     },
     "metadata": {},
     "output_type": "display_data"
    }
   ],
   "source": [
    "max_value = 10;\n",
    "size = 20;\n",
    "\n",
    "test <- create_dataset(max_value, size);\n",
    "print(test)\n",
    "\n",
    "trimmed_mean(test, max_value = max_value, epsilon = 0.4)"
   ]
  },
  {
   "cell_type": "markdown",
   "metadata": {},
   "source": [
    "<hr>"
   ]
  },
  {
   "cell_type": "markdown",
   "metadata": {},
   "source": [
    "**(b)**<br>"
   ]
  },
  {
   "cell_type": "markdown",
   "metadata": {},
   "source": [
    "$$\n",
    "M(x)=\\dfrac{1}{n}\\sum_{i=1}^n [x_i]_{P_{0.05}}^{P_{0.95}} + Lap\\left( \\dfrac{D}{n\\epsilon} \\right)\n",
    "$$\n",
    "\n",
    "This implementation of the Winsorized mean is $\\epsilon$-DP if the Winsorization transformation $T$ on $x$ ($x$ is clipped at its 5th and 95th percentiles) is c-Lipschitz with $c=1$ and the mechanism $M$ is $\\epsilon$-DP.\n",
    "\n",
    "First, we must determine the Lipschitz constant for the Winsorization transformation $T$ on $x$:<br>\n",
    "We define $x$ as an ordered dataset with $n$ values, where $x_i \\in [0,D]$:\n",
    "$$\n",
    "x = [x_1, ..., x_n]\\\\\n",
    "$$\n",
    "We also define $x_{0.05}$ and $x_{0.95}$ as the values from $x$ at the 5th and 95th percentiles.\n",
    "<br><br>\n",
    "We now define $x'$ as an ordered dataset with $n$ values identical to $x$ except that the $x_{0.05}$ value has been changed to $D$. This left shifts the values in $x'$ that are greater than $x_{0.05}$, so $x'_{0.05}\\neq x_{0.05}$ and $x'_{0.95} \\neq x_{0.95}$.\n",
    "\n",
    "\n",
    "When the Winsorization transformation $T$ is applied to $x$ and $x'$, the results would be\n",
    "$$\n",
    "T(x) = [x_{0.05},...,x_{0.05}, x_t, x_{0.95}, x_{0.95}]\\\\\n",
    "T(x') = [x'_{0.05},...,x'_{0.05}, x'_t, x'_{0.95},..., x'_{0.95}]\\\\\n",
    "$$\n",
    "where $x_t$ and $x'_t$ refer to any values between the 5th and 95th percentiles in $x$ and $x'$ respectively.\n",
    "\n",
    "We define $d(x, x')$ as the distance between datasets $x$ and $x'$ defined by the number of values/rows you would need to change in $x'$ to make it the same as $x$. For our case, $d(x, x')=1$.\n",
    "$T(x)$ is $c$-Lipschitz if $\\forall x,x' \\;\\; d(T(x), T(x')) \\leq c\\cdot d(x, x')$. In this case, $d(T(x), T(x')) = 0.1n$ because $x_{0.05}\\neq x'_{0.05}$ and $x_{0.95} \\neq x'_{0.95}$. Thus, the clipped values at the ends of the dataset will be different, resulting in $0.1n$ different values between the datasets $T(x)$ and $T(x')$. Thus, $T$ is $c$-Lipschitz with $c=0.1n$. This would hold for any value of $n$.\n",
    "\n",
    "A mechanism $M$ is $\\epsilon$-DP when adding Laplace noise sampled from $Lap\\left(\\dfrac{GS}{\\epsilon}\\right)$, where $GS$ is the global sensitivity. In our case, the $GS = \\dfrac{D}{n}$ and we are adding $Lap\\left(\\dfrac{D}{n\\epsilon}\\right)$ noise, so our mechanism is $\\epsilon$-DP.\n",
    "\n",
    "From the lemma in class, since $M$ is $\\epsilon$-DP and $T$ is $0.1n$-Lipschitz, then $M\\circ T$ is $0.1n \\cdot \\epsilon$-DP. Thus, this Winsorized mean algorithm is $0.1n \\cdot\\epsilon$-DP. However when $n$ becomes very large and $\\epsilon$ is fixed, this algorithm will not be $\\epsilon$-DP because $T$ is not $1$-Lipschitz."
   ]
  },
  {
   "cell_type": "markdown",
   "metadata": {},
   "source": [
    "<hr>"
   ]
  },
  {
   "cell_type": "markdown",
   "metadata": {},
   "source": [
    "**(c)**<br>"
   ]
  },
  {
   "cell_type": "markdown",
   "metadata": {},
   "source": [
    "## Need to describe implementation of percentile release"
   ]
  },
  {
   "cell_type": "code",
   "execution_count": 4,
   "metadata": {},
   "outputs": [],
   "source": [
    "# percentile mean function for releasing a DP percentile from data \n",
    "#\n",
    "# x- numeric vector of values\n",
    "# tperc- percentile for which value from x should be chosen (0,100)\n",
    "# epsilon- privacy loss parameter\n",
    "# \n",
    "# returns a differentially private percentile release from the data\n",
    "percentileRelease <- function(x, tperc, epsilon){\n",
    "\tn <- length(x); #get number of values in x\n",
    "\tbins <- sort(x, decreasing = FALSE); #making a new copy of x to keep downstream variable names the same\n",
    "    sensitiveValue <- quantile(bins, probs = c(tperc)); #get the true value at the desired percentile \n",
    "    \n",
    "    sensitivity = 1/n; #sensitivity for our utility function is 1\n",
    "\tlikelihoods <- rep(NA, n); #create vector to hold the likelihood for each bin\n",
    "\n",
    "\tfor(i in 1:n){ #calculate the utility of each bin\n",
    "        #the number of values in 'x' below and equal to the current value is 'i'\n",
    "#         util = n - abs(n*tperc - i); #get difference between the true percentile and fraction of\n",
    "        util = 1 - abs(tperc - i/n);\n",
    "        distToNextValue = 1;\n",
    "        if(i != n){\n",
    "            distToNextValue = bins[i+1] - bins[i] + 1; \n",
    "        }\n",
    "        #the likelihood needs to get scaled \n",
    "        likelihoods[i] <- distToNextValue * exp(epsilon * util / (2 * sensitivity));\n",
    "\t}\n",
    "    \n",
    "    #calculate the actual probabilities for each bin\n",
    "\tprobabilities <- likelihoods/sum(likelihoods);\n",
    "    \n",
    "    flag <- runif(n=1, min=0, max=1) < cumsum(probabilities) # See also rmultinom()\n",
    "    bInd <- which(flag == 1)[1]; #get the index of the first bin with probability\n",
    "    \n",
    "    #determine if this bin covers a range of values\n",
    "    DPrelease <- bins[bInd]; #get initial value for DPrelease of percentile\n",
    "    if(bInd + 1 < n){ #check if there is a bin larger than chosen bin\n",
    "        distToNextValue = bins[bInd+1] - bins[bInd]; #determine distance between\n",
    "        if(distToNextValue > 1){\n",
    "            DPrelease <- runif(n=1, min=bins[bInd], max=bins[bInd+1]-1 );\n",
    "        }\n",
    "    }\n",
    "\n",
    "    return(list(release=DPrelease, true=sensitiveValue))\n",
    "}\n"
   ]
  },
  {
   "cell_type": "markdown",
   "metadata": {},
   "source": [
    "To test my `percentileRelease` function, I ran the following test below. I create a dataset of 100 randomly sampled values from 0 to 100 and perform a DP release for the 30th percentile 100 times using a $\\epsilon=0.5$. The true value for the 30th percentile is 27, and the histogram illustrates that most of the DP-released values are centered around the true value."
   ]
  },
  {
   "cell_type": "code",
   "execution_count": 42,
   "metadata": {},
   "outputs": [
    {
     "name": "stdout",
     "output_type": "stream",
     "text": [
      "  [1]  9 13 11 88 79 18 40 84 30 82 97 31 38 86 22 60 90  4 55 14 79 36 31 55 60\n",
      " [26] 58 93 87 96 58 66 31 57 11 64 61 98 53 29 42 27 55 96 14 14 50 91 31  5  2\n",
      " [51] 59 88  8  2 98 69 83 77  7 56 79 67 54 83  2 36  5 31 38 34 15 24  2 37 63\n",
      " [76] 65 78 92 85 66 69 70  2 14 49  5 85  5 34 56 65 84 53 37 75  6  7 90 22 73\n",
      "True 30th percentile: 30.7"
     ]
    },
    {
     "data": {
      "image/png": "[encoded data removed]",
      "text/plain": [
       "Plot with title “Histogram of results”"
      ]
     },
     "metadata": {},
     "output_type": "display_data"
    }
   ],
   "source": [
    "#test if my percentile release is working\n",
    "numSims = 100;\n",
    "data <- create_dataset(max_value = 100, size = 100);\n",
    "print(data)\n",
    "results <- c();\n",
    "true_val <- -1;\n",
    "for(i in 1:numSims){\n",
    "    \n",
    "    r <- percentileRelease(data, tperc = 0.3, epsilon = 0.5);\n",
    "    true_val <- r$true\n",
    "    results <- c(results, r$release);\n",
    "}\n",
    "\n",
    "cat(\"True 30th percentile:\", true_val)\n",
    "\n",
    "#graph the results\n",
    "hist(results, col=\"dodgerblue3\");\n",
    "abline(v=true_val, col=\"red\", lwd=1.5, lty=2);"
   ]
  },
  {
   "cell_type": "markdown",
   "metadata": {},
   "source": [
    "<hr>"
   ]
  },
  {
   "cell_type": "markdown",
   "metadata": {},
   "source": [
    "**(d)**<br>"
   ]
  },
  {
   "cell_type": "code",
   "execution_count": 5,
   "metadata": {},
   "outputs": [],
   "source": [
    "# Trimmed mean function for releasing a DP mean from data trimmed to DP-released 5th and 95th percentiles\n",
    "#\n",
    "# x- numeric vector of values\n",
    "# max_value- maximum value any element in 'x' may take\n",
    "# epsilon- total epsilon to use as privacy loss parameter\n",
    "# \n",
    "# returns a differentially private mean release from the trimmed data\n",
    "\n",
    "trimmed_mean_DP = function(x, epsilon){\n",
    "    n <- length(x); #get number of elements in x\n",
    "    #get DP releases for 5th and 95th percentiles\n",
    "    lower <- percentileRelease(x, tperc = 0.05, epsilon = epsilon/3);\n",
    "    upper <- percentileRelease(x, tperc = 0.95, epsilon = epsilon/3);\n",
    "    \n",
    "    x.trimmed <- x[x >= lower$release & x <= upper$release]; #trim x based on DP percentile values\n",
    "    \n",
    "    sensitivity <- (upper$release - lower$release) / (0.9*n);\n",
    "    scale <- sensitivity / (epsilon/3); #scale for Laplace noise. Divide epsilon by 3\n",
    "\n",
    "    sensitiveValue <- mean(x.trimmed);\n",
    "    DPrelease <- sensitiveValue + rlap(mu=0, b=scale, size=1);\n",
    "\n",
    "    return(list(release=DPrelease, true=sensitiveValue));\n",
    "}"
   ]
  },
  {
   "cell_type": "markdown",
   "metadata": {},
   "source": [
    "To test my `trimmed_mean_DP` function, I ran the following test below. I create a dataset of 100 randomly sampled values from 0 to 100 and perform a DP release for the mean 100 times. The true value for the mean is 52.34, and the histogram illustrates that most of the DP-released values are centered around the true value."
   ]
  },
  {
   "cell_type": "code",
   "execution_count": 6,
   "metadata": {},
   "outputs": [
    {
     "name": "stdout",
     "output_type": "stream",
     "text": [
      "  [1]  18  69  33  16  44  13  49  25  32   1  43  19  14  49  78   0  86  18\n",
      " [19]  66  55  45  61  37  40  41 100  13  77  74  38  25  14  89  15  75  40\n",
      " [37]   8  86  80  33   1  57  22  29  33  70   1  51  62  13  19  57  30  46\n",
      " [55]  82  51  46  86  36  71  63  33  79  35  24  17  29  96 100  60  63  20\n",
      " [73]  98  22   1  48  39   4  45  72   4  56  96  46  73  15  67  41   9  98\n",
      " [91]  16  37  40  18  75  19  71  12   1  66\n",
      "[1] 44.37349\n"
     ]
    },
    {
     "data": {
      "image/png": "[encoded data removed]",
      "text/plain": [
       "Plot with title “Histogram of results”"
      ]
     },
     "metadata": {},
     "output_type": "display_data"
    }
   ],
   "source": [
    "#test trimmed_mean_DP functon\n",
    "numSims = 100;\n",
    "data <- create_dataset(max_value = 100, size = 100);\n",
    "print(data)\n",
    "results <- c();\n",
    "true_val <- -1;\n",
    "for(i in 1:numSims){\n",
    "    \n",
    "    r <- trimmed_mean_DP(data, epsilon = 1);\n",
    "    true_val <- r$true;\n",
    "    results <- c(results, r$release);\n",
    "}\n",
    "print(true_val)\n",
    "\n",
    "#graph the results\n",
    "hist(results, col=\"dodgerblue3\");\n",
    "abline(v=true_val, col=\"red\", lwd=1.5, lty=2);"
   ]
  },
  {
   "cell_type": "markdown",
   "metadata": {},
   "source": [
    "<hr>"
   ]
  },
  {
   "cell_type": "markdown",
   "metadata": {},
   "source": [
    "**(e)**<br>"
   ]
  },
  {
   "cell_type": "code",
   "execution_count": null,
   "metadata": {},
   "outputs": [],
   "source": []
  },
  {
   "cell_type": "markdown",
   "metadata": {},
   "source": [
    "<hr>"
   ]
  },
  {
   "cell_type": "markdown",
   "metadata": {},
   "source": [
    "**(f)**<br>"
   ]
  },
  {
   "cell_type": "code",
   "execution_count": 7,
   "metadata": {},
   "outputs": [],
   "source": [
    "#read in the the 5% PUMS Census file for Massachusetts\n",
    "pums_data <- read.csv(file = \"../../data/MaPUMS5full.csv\");"
   ]
  },
  {
   "cell_type": "code",
   "execution_count": 8,
   "metadata": {},
   "outputs": [],
   "source": [
    "##functions taken from J. Honaker's laplaceMeanReleaseFull\n",
    "\n",
    "## Bound/Censor/Clip a variable to a range\n",
    "clip <- function(x, lower, upper){\n",
    "\tx.clipped <- x\n",
    "\tx.clipped[x.clipped<lower] <- lower\n",
    "\tx.clipped[x.clipped>upper] <- upper\n",
    "\treturn(x.clipped)\t\n",
    "}\n",
    "\n",
    "## Differentially private mean release\n",
    "meanRelease <- function(x, lower, upper, epsilon){\n",
    "    n <- length(x)\n",
    "    \n",
    "    sensitivity <- (upper - lower)/n\n",
    "    scale <- sensitivity / epsilon\n",
    "\n",
    "    x.clipped <- clip(x, lower, upper)\n",
    "    sensitiveValue <- mean(x.clipped)\n",
    "    DPrelease <- sensitiveValue + rlap(mu=0, b=scale, size=1)\n",
    "\n",
    "    return(list(release=DPrelease, true=sensitiveValue))\n",
    "}\n",
    "\n",
    "## function to calculate the RMSE given the true values and predictions for a dataset\n",
    "calcRMSE <- function(trueVals, predictions){\n",
    "    diff = trueVals - predictions;\n",
    "    rmse = mean(diff^2)^(0.5);\n",
    "    return(rmse);\n",
    "}"
   ]
  },
  {
   "cell_type": "code",
   "execution_count": 15,
   "metadata": {},
   "outputs": [],
   "source": [
    "epsilon = 1;\n",
    "D = 10^6;\n",
    "\n",
    "unqPumsReg <- unique(pums_data$puma); #get vector of unique PUMA regions\n",
    "\n",
    "history <- matrix(NA, nrow=length(unqPumsReg), ncol=3); #matrix to hold results\n",
    "for(i in 1:length(unqPumsReg)){\n",
    "    region <- unqPumsReg[i]; #get the region number\n",
    "    region_data <- pums_data[pums_data$puma == region, ]; #get the data for this region\n",
    "    #get ordinary Laplace mean release\n",
    "    dpLapMean <- meanRelease(x = region_data$income, lower = 0, upper = D, epsilon = epsilon);\n",
    "    history[i, ] <- c(region, dpLapMean$true, dpLapMean$release);\n",
    "}"
   ]
  },
  {
   "cell_type": "code",
   "execution_count": 16,
   "metadata": {
    "scrolled": false
   },
   "outputs": [
    {
     "data": {
      "text/html": [
       "254.858597458192"
      ],
      "text/latex": [
       "254.858597458192"
      ],
      "text/markdown": [
       "254.858597458192"
      ],
      "text/plain": [
       "[1] 254.8586"
      ]
     },
     "metadata": {},
     "output_type": "display_data"
    }
   ],
   "source": [
    "#create dataframe from history matrix\n",
    "history_df <- as.data.frame(history);\n",
    "colnames(history_df) <- c(\"PUMA\", \"TrueValue\", \"DPrelease\")\n",
    "calcRMSE(trueVals = history_df$TrueValue, predictions = history_df$DPrelease)"
   ]
  },
  {
   "cell_type": "markdown",
   "metadata": {},
   "source": [
    "<hr>"
   ]
  },
  {
   "cell_type": "markdown",
   "metadata": {},
   "source": [
    "## Problem 2: Composition"
   ]
  },
  {
   "cell_type": "code",
   "execution_count": 1,
   "metadata": {},
   "outputs": [],
   "source": [
    "library(\"PSIlence\")\n",
    "## PARAMETERS\n",
    "delta = 10**(-9);\n",
    "globalEps = 1;\n",
    "\n",
    "kVals <- seq(from=1, to=100, by=1); #get sequence of values for k\n",
    "#create\n",
    "results <- matrix( rep(NA,length(kVals)*3), nrow=length(kVals), ncol=4);\n",
    "\n",
    "for(i in 1:length(kVals)){\n",
    "    k = kVals[i];\n",
    "    #calculate standard deviation for epsilon split based on basic composition\n",
    "    epsBasic = globalEps / k;\n",
    "    stdBasic = sqrt(2) / epsBasic;\n",
    "    #calculate standard deviation for epsilon split based on advanced composition\n",
    "    epsAdv = globalEps / sqrt(2*k*log(1/delta));\n",
    "    stdAdv = sqrt(2) / epsAdv;\n",
    "    \n",
    "    #calculate standard deviation for epsilon split based on optimal composition\n",
    "    init <- rep(c(0, 0), k ); \n",
    "    params <- matrix(init, nrow=k, ncol=2, byrow=TRUE); #create matrix to feed to update_parameters\n",
    "    inverse <- PSIlence:::update_parameters(params=params, hold=0, eps=globalEps, del=delta)\n",
    "    stdOpt = sqrt(2) / inverse[1,1];\n",
    "\n",
    "    \n",
    "    results[i, ] <- c(k, stdBasic, stdAdv, stdOpt);\n",
    "}"
   ]
  },
  {
   "cell_type": "code",
   "execution_count": 2,
   "metadata": {},
   "outputs": [
    {
     "name": "stderr",
     "output_type": "stream",
     "text": [
      "Warning message:\n",
      "“package ‘ggplot2’ was built under R version 3.4.4”"
     ]
    },
    {
     "data": {
      "image/png": "[encoded data removed]",
      "text/plain": [
       "plot without title"
      ]
     },
     "metadata": {},
     "output_type": "display_data"
    }
   ],
   "source": [
    "library(ggplot2)\n",
    "library(grid)\n",
    "\n",
    "final_results <- as.data.frame(results);\n",
    "colnames(final_results) <- c(\"k\", \"Std_Basic_Comp\", \"Std_Adv_Comp\", \"Std_Opt_Comp\");\n",
    "f_size = 16;\n",
    "fifty = 0.5;\n",
    "# Plot the standard deviations \n",
    "p <- ggplot(data = final_results) + geom_line(aes(x=final_results$k, y=final_results$Std_Basic_Comp, color=\"Basic Comp\")) + geom_line(aes(x=final_results$k, y=final_results$Std_Adv_Comp, color=\"Advanced Comp\")) + geom_line(aes(x=final_results$k, y=final_results$Std_Opt_Comp, color=\"Optimal Comp\")); \n",
    "\n",
    "p <- p + labs(title=\"Laplace Noise Standard Deviations depending on epsilon composition strategies\", x=\"k Count Queries\", y = \"Standard Deviation of Laplace Noise\") + theme(plot.title = element_text(hjust=0.5), text = element_text(size=f_size-2));\n",
    "\n",
    "options(repr.plot.width=10, repr.plot.height=4); #set plot dimensions\n",
    "p #show plot"
   ]
  },
  {
   "cell_type": "code",
   "execution_count": 10,
   "metadata": {
    "scrolled": true
   },
   "outputs": [],
   "source": [
    "#code for finding the smallest k at which Advanced and Optimal compositions improve upon basic composition\n",
    "# final_results[final_results$Std_Adv_Comp < final_results$Std_Basic_Comp, ]\n",
    "# final_results[final_results$Std_Opt_Comp < final_results$Std_Basic_Comp, ]"
   ]
  },
  {
   "cell_type": "markdown",
   "metadata": {},
   "source": [
    "In the graph above, we can see the expected trends:\n",
    "1. For basic composition, the standard deviation of the Laplace noise added to each query answer increases linearly with the number of queries. This is because $\\epsilon_0$ decrease proportional to $1/k$ so more noise is added with smaller $\\epsilon_0$s. <br>\n",
    "2. Advanced composition adds more noise to the queries for small $k$ than basic composition. However after $k=42$, advanced composition adds less noise than basic composition for higher values of $k$, so each answer has more utility.\n",
    "<br>\n",
    "3. Optimal composition does better than advanced composition for every value of $k$. Optimal composition does just as good as basic composition until $k=21$, after which it does much better than basic composition. It is obvious that optimal composition provides the best utility for any value of $k$."
   ]
  },
  {
   "cell_type": "markdown",
   "metadata": {},
   "source": [
    "## Problem 3: Synthetic Data"
   ]
  },
  {
   "cell_type": "code",
   "execution_count": 2,
   "metadata": {},
   "outputs": [],
   "source": [
    "#read in the PUMS dataset\n",
    "pums_df <- read.csv(\"../../data/MaPUMS5full.csv\");\n",
    "\n",
    "#trim dataset to 'income','educ','age' columns\n",
    "pums_df_trimmed <- subset(pums_df, select = c('age', 'educ', 'income') ); "
   ]
  },
  {
   "cell_type": "code",
   "execution_count": 8,
   "metadata": {},
   "outputs": [
    {
     "name": "stderr",
     "output_type": "stream",
     "text": [
      "Warning message in hist(log10(pums_df_trimmed$income)):\n",
      "“NaNs produced”"
     ]
    },
    {
     "data": {
      "image/png": "[encoded data removed]",
      "text/plain": [
       "Plot with title “Histogram of log10(pums_df_trimmed$income)”"
      ]
     },
     "metadata": {},
     "output_type": "display_data"
    }
   ],
   "source": [
    "# pums_df_trimmed[0:10, ]\n",
    "hist(log10(pums_df_trimmed$income))"
   ]
  },
  {
   "cell_type": "code",
   "execution_count": 4,
   "metadata": {},
   "outputs": [],
   "source": [
    "## Differentially private histogram release for continuous data binned on 3 categories.\n",
    "## Adapted from J. Honaker's xyHistogramRelease function\n",
    "xyzHistogramRelease <- function(z, y, x, zlower, zupper, ylower, yupper, xlower, xupper, xnbins=0, ynbins=0, znbins=0, epsilon){\n",
    "\tn <- length(x); #get length of first vector\n",
    "\tif(xnbins==0){\n",
    "\t\txlower <- floor(xlower); #floor and ceiling\n",
    "\t\txupper <- ceiling(xupper);\n",
    "\t\txbins <- xlower:(xupper+1); #generate vector of values to define thresholds for each bin\n",
    "        xnbins <- length(xbins)-1; #actual number of bins we're using\n",
    "\t\txgranularity <- 1; #distance between bins\n",
    "\t\txcodebook <- xbins[1:xnbins]; #left thresholds for the bin\n",
    "    } else {\n",
    "    \txbins <- seq(from=xlower, to=xupper, length=xnbins+1)\n",
    "    \txgranularity <- (xupper-xlower)/xnbins\n",
    "    \txbins[xnbins+1] <-  xbins[xnbins+1] + xgranularity\n",
    "\t\txcodebook <- xbins[1:xnbins] + 0.5*xgranularity\n",
    "    }\n",
    "\n",
    "\tif(ynbins==0){\n",
    "\t\tylower <- floor(ylower)\n",
    "\t\tyupper <- ceiling(yupper)\n",
    "\t\tybins <- ylower:(yupper+1); #generate vector of values to define thresholds for each bin      \n",
    "\t\tynbins <- length(ybins)-1; #actual number of bins we're using\n",
    "\t\tygranularity <- 1; #distance between bins\n",
    "\t\tycodebook <- ybins[1:ynbins]; #left thresholds for the bin\n",
    "    } else {\n",
    "    \tybins <- seq(from=ylower, to=yupper, length=ynbins+1)\n",
    "    \tygranularity <- (yupper-ylower)/ynbins\n",
    "    \tybins[ynbins+1] <-  ybins[ynbins+1] + ygranularity\n",
    "    \tycodebook <- ybins[1:ynbins] + 0.5*ygranularity\n",
    "    }\n",
    "    \n",
    "    if(znbins==0){\n",
    "\t\tzlower <- floor(zlower)\n",
    "\t\tzupper <- ceiling(zupper)\n",
    "\t\tzbins <- zlower:(zupper+1); #generate vector of values to define thresholds for each bin    \n",
    "\t\tznbins <- length(zbins)-1; #actual number of bins we're using\n",
    "\t\tzgranularity <- 1; #distance between bins\n",
    "\t\tzcodebook <- zbins[1:znbins]; #left thresholds for the bin\n",
    "    } else {\n",
    "    \tzbins <- seq(from=zlower, to=zupper, length=znbins+1)\n",
    "    \tzgranularity <- (zupper-zlower)/znbins\n",
    "    \tzbins[znbins+1] <-  zbins[znbins+1] + zgranularity\n",
    "    \tzcodebook <- zbins[1:znbins] + 0.5*zgranularity\n",
    "    }\n",
    "#     cat('xnbins:',xnbins,'\\n ynbins', ynbins, '\\n znbins', znbins, '\\n');\n",
    "    #clip x,y,z values\n",
    "    x.clipped <- clip(x=x, lower=xlower, upper=xupper);\n",
    "    y.clipped <- clip(x=y, lower=ylower, upper=yupper);\n",
    "    z.clipped <- clip(x=z, lower=zlower, upper=zupper);\n",
    "\n",
    "\tsensitivity <- 2; #GS is 2 because changing one value changes counts of 2 bins\n",
    "\tscale <- sensitivity / (epsilon);\n",
    "    #number of rows is the total combinations given by xnbinsn\n",
    "# \tsensitiveValue <- DPrelease <- matrix(NA, nrow=xnbins*ynbins*znbins, ncol=4);\n",
    "    DPrelease <- matrix(NA, nrow=xnbins*ynbins*znbins, ncol=5);\n",
    "    rCounter = 1;\n",
    "\tfor(i in 1:xnbins){\n",
    "\t\tfor(j in 1:ynbins){\n",
    "            for(k in 1:znbins){\n",
    "                binVal <- sum(x.clipped >= xbins[i] & x.clipped < xbins[i+1] \n",
    "                              & y.clipped >= ybins[j] & y.clipped < ybins[j+1] \n",
    "                              & z.clipped >= zbins[k] & z.clipped < zbins[k+1]);\n",
    "#                 sensitiveValue[rCounter, ] <- c(i, j, k, binVal); #save actual count for this bin\n",
    "                dpAnswer <- binVal + rlap(mu=0, b=scale, size=1); #calculate DP release for this bin\n",
    "                DPrelease[rCounter, ] <- c(xcodebook[i], ycodebook[j], zcodebook[k], binVal, dpAnswer); #\n",
    "                rCounter = rCounter + 1; #update the row counter for inputting data into the matrix\n",
    "            }\n",
    "        }\n",
    "\t}\n",
    "\n",
    "# \treturn(list(release=DPrelease, true=sensitiveValue, xcodebook=xcodebook, ycodebook=ycodebook, zcodebook=zcodebook))\n",
    "    return(list(release=DPrelease, xcodebook=xcodebook, ycodebook=ycodebook, zcodebook=zcodebook))\n",
    "}"
   ]
  },
  {
   "cell_type": "markdown",
   "metadata": {},
   "source": [
    "I clip *age* from 18 to 100 because the PUMS survey is only taken by adults, so everyone has to be 18 years or older; I chose 100 for the upper bound on *age* arbitrarily, since most individuals should be less than 100 years old. I clip *education* from 1 to 16, since the PUMS codebook specifies these values as the lower and upper bounds for the *education* category."
   ]
  },
  {
   "cell_type": "code",
   "execution_count": 13,
   "metadata": {},
   "outputs": [
    {
     "data": {
      "text/plain": [
       "[1] \"2019-03-31 23:40:51 EDT\""
      ]
     },
     "metadata": {},
     "output_type": "display_data"
    },
    {
     "data": {
      "text/plain": [
       "[1] \"2019-03-31 23:47:14 EDT\""
      ]
     },
     "metadata": {},
     "output_type": "display_data"
    }
   ],
   "source": [
    "## FOR TESTING\n",
    "Sys.time() #for timing\n",
    "\n",
    "#get DP histogram release for income, education, and age\n",
    "xyzOut <- xyzHistogramRelease(z=pums_df_trimmed$income, y=pums_df_trimmed$educ, x=pums_df_trimmed$age, zlower=0, zupper=10^6, ylower=1, yupper=16, xlower=18, xupper=100, znbins=20, epsilon=0.5);\n",
    "\n",
    "Sys.time() #for timing"
   ]
  },
  {
   "cell_type": "code",
   "execution_count": 6,
   "metadata": {
    "scrolled": true
   },
   "outputs": [
    {
     "data": {
      "text/plain": [
       "[1] \"2019-04-01 07:50:58 EDT\""
      ]
     },
     "metadata": {},
     "output_type": "display_data"
    },
    {
     "name": "stderr",
     "output_type": "stream",
     "text": [
      "on simulation  1\n"
     ]
    },
    {
     "name": "stdout",
     "output_type": "stream",
     "text": [
      "      [,1] [,2]  [,3]\n",
      " [1,]   19    7 50000\n",
      " [2,]   47   13 50000\n",
      " [3,]   50   11 50000\n",
      " [4,]   40   12 50000\n",
      " [5,]   28   10 50000\n",
      " [6,]   19    9 50000\n",
      " [7,]   67    9 50000\n",
      " [8,]   56    9 50000\n",
      " [9,]   48   13 50000\n",
      "[10,]   38    9 50000\n"
     ]
    },
    {
     "name": "stderr",
     "output_type": "stream",
     "text": [
      "on simulation  2\n"
     ]
    },
    {
     "name": "stdout",
     "output_type": "stream",
     "text": [
      "      [,1] [,2]  [,3]\n",
      " [1,]   25   13 50000\n",
      " [2,]   81    3 50000\n",
      " [3,]   60   12 50000\n",
      " [4,]   49   10 50000\n",
      " [5,]   39    9 50000\n",
      " [6,]   30   13 50000\n",
      " [7,]   51    9 50000\n",
      " [8,]   28   11 50000\n",
      " [9,]   50   11 50000\n",
      "[10,]   83    8 50000\n"
     ]
    },
    {
     "name": "stderr",
     "output_type": "stream",
     "text": [
      "on simulation  3\n"
     ]
    },
    {
     "name": "stdout",
     "output_type": "stream",
     "text": [
      "      [,1] [,2]   [,3]\n",
      " [1,]   59   16  50000\n",
      " [2,]   38    9  50000\n",
      " [3,]   45    9  50000\n",
      " [4,]   71   11  50000\n",
      " [5,]   29   13  50000\n",
      " [6,]   84   13  50000\n",
      " [7,]   93    9  50000\n",
      " [8,]   20   11  50000\n",
      " [9,]   94    6 250000\n",
      "[10,]   51   11  50000\n"
     ]
    },
    {
     "name": "stderr",
     "output_type": "stream",
     "text": [
      "on simulation  4\n"
     ]
    },
    {
     "name": "stdout",
     "output_type": "stream",
     "text": [
      "      [,1] [,2]   [,3]\n",
      " [1,]   35   13  50000\n",
      " [2,]   45    9 650000\n",
      " [3,]   21    9  50000\n",
      " [4,]   59   11  50000\n",
      " [5,]   38    2  50000\n",
      " [6,]   58   14  50000\n",
      " [7,]   34   13 150000\n",
      " [8,]   35   12  50000\n",
      " [9,]   31   14  50000\n",
      "[10,]   45   13  50000\n"
     ]
    },
    {
     "name": "stderr",
     "output_type": "stream",
     "text": [
      "on simulation  5\n"
     ]
    },
    {
     "name": "stdout",
     "output_type": "stream",
     "text": [
      "      [,1] [,2]   [,3]\n",
      " [1,]   52   11  50000\n",
      " [2,]   72    9  50000\n",
      " [3,]   50   12  50000\n",
      " [4,]   93   13  50000\n",
      " [5,]   50   11  50000\n",
      " [6,]   58   11  50000\n",
      " [7,]   66   12  50000\n",
      " [8,]   39   10  50000\n",
      " [9,]   89   12 350000\n",
      "[10,]   42   16 150000\n"
     ]
    },
    {
     "name": "stderr",
     "output_type": "stream",
     "text": [
      "on simulation  6\n"
     ]
    },
    {
     "name": "stdout",
     "output_type": "stream",
     "text": [
      "      [,1] [,2]   [,3]\n",
      " [1,]   39   14 750000\n",
      " [2,]   75    9  50000\n",
      " [3,]   74    9  50000\n",
      " [4,]   48    9  50000\n",
      " [5,]   40    9  50000\n",
      " [6,]   20    9  50000\n",
      " [7,]   45    9  50000\n",
      " [8,]   65   10  50000\n",
      " [9,]   38    9  50000\n",
      "[10,]   35   13  50000\n"
     ]
    },
    {
     "name": "stderr",
     "output_type": "stream",
     "text": [
      "on simulation  7\n"
     ]
    },
    {
     "name": "stdout",
     "output_type": "stream",
     "text": [
      "      [,1] [,2]   [,3]\n",
      " [1,]   47   11  50000\n",
      " [2,]   79    3  50000\n",
      " [3,]   76    4  50000\n",
      " [4,]   92    8 450000\n",
      " [5,]   69    1 350000\n",
      " [6,]   43   12  50000\n",
      " [7,]   39   12  50000\n",
      " [8,]   30   13  50000\n",
      " [9,]   25    9  50000\n",
      "[10,]   21   11  50000\n"
     ]
    },
    {
     "name": "stderr",
     "output_type": "stream",
     "text": [
      "on simulation  8\n"
     ]
    },
    {
     "name": "stdout",
     "output_type": "stream",
     "text": [
      "      [,1] [,2]   [,3]\n",
      " [1,]   25   12 250000\n",
      " [2,]   20    9  50000\n",
      " [3,]   57    9  50000\n",
      " [4,]   57    9  50000\n",
      " [5,]   28   13  50000\n",
      " [6,]   25   10 850000\n",
      " [7,]   20   11  50000\n",
      " [8,]   39   13  50000\n",
      " [9,]   59   15  50000\n",
      "[10,]   98    8 150000\n"
     ]
    },
    {
     "name": "stderr",
     "output_type": "stream",
     "text": [
      "on simulation  9\n"
     ]
    },
    {
     "name": "stdout",
     "output_type": "stream",
     "text": [
      "      [,1] [,2]   [,3]\n",
      " [1,]   73    9  50000\n",
      " [2,]   51   13  50000\n",
      " [3,]   55   15 150000\n",
      " [4,]   54   15 250000\n",
      " [5,]   34   13  50000\n",
      " [6,]   32   16 150000\n",
      " [7,]   73    7  50000\n",
      " [8,]   18    6  50000\n",
      " [9,]   40   16 150000\n",
      "[10,]   19   10  50000\n"
     ]
    },
    {
     "name": "stderr",
     "output_type": "stream",
     "text": [
      "on simulation  10\n"
     ]
    },
    {
     "name": "stdout",
     "output_type": "stream",
     "text": [
      "      [,1] [,2]   [,3]\n",
      " [1,]   31    9  50000\n",
      " [2,]   37   14  50000\n",
      " [3,]   81    9  50000\n",
      " [4,]   36   13  50000\n",
      " [5,]   19   10  50000\n",
      " [6,]   22   11  50000\n",
      " [7,]   35    9  50000\n",
      " [8,]   80    9  50000\n",
      " [9,]   42    5  50000\n",
      "[10,]   21    4 950000\n"
     ]
    },
    {
     "name": "stderr",
     "output_type": "stream",
     "text": [
      "on simulation  11\n"
     ]
    },
    {
     "name": "stdout",
     "output_type": "stream",
     "text": [
      "      [,1] [,2]   [,3]\n",
      " [1,]   35    9  50000\n",
      " [2,]   54   12  50000\n",
      " [3,]   41   12  50000\n",
      " [4,]   87   15 750000\n",
      " [5,]   45   13  50000\n",
      " [6,]   33    8  50000\n",
      " [7,]   55    9  50000\n",
      " [8,]   82    9  50000\n",
      " [9,]   72    6 450000\n",
      "[10,]   67   10  50000\n"
     ]
    },
    {
     "name": "stderr",
     "output_type": "stream",
     "text": [
      "on simulation  12\n"
     ]
    },
    {
     "name": "stdout",
     "output_type": "stream",
     "text": [
      "      [,1] [,2]  [,3]\n",
      " [1,]   41   12 50000\n",
      " [2,]   47   13 50000\n",
      " [3,]   89    9 50000\n",
      " [4,]   21    9 50000\n",
      " [5,]   53   13 50000\n",
      " [6,]   34   13 50000\n",
      " [7,]   30   11 50000\n",
      " [8,]   31    9 50000\n",
      " [9,]   35    9 50000\n",
      "[10,]   32    9 50000\n"
     ]
    },
    {
     "name": "stderr",
     "output_type": "stream",
     "text": [
      "on simulation  13\n"
     ]
    },
    {
     "name": "stdout",
     "output_type": "stream",
     "text": [
      "      [,1] [,2]   [,3]\n",
      " [1,]   22   11  50000\n",
      " [2,]   63   10  50000\n",
      " [3,]   47   14  50000\n",
      " [4,]   19    9 250000\n",
      " [5,]   60   14  50000\n",
      " [6,]   82   11  50000\n",
      " [7,]   61    1 250000\n",
      " [8,]   79   10  50000\n",
      " [9,]   41    9  50000\n",
      "[10,]   76    9  50000\n"
     ]
    },
    {
     "name": "stderr",
     "output_type": "stream",
     "text": [
      "on simulation  14\n"
     ]
    },
    {
     "name": "stdout",
     "output_type": "stream",
     "text": [
      "      [,1] [,2]   [,3]\n",
      " [1,]   42   13  50000\n",
      " [2,]   32    9  50000\n",
      " [3,]   39   14 350000\n",
      " [4,]   36    9  50000\n",
      " [5,]   82    9  50000\n",
      " [6,]   49   13  50000\n",
      " [7,]   38    9  50000\n",
      " [8,]   82    6 250000\n",
      " [9,]   23   13  50000\n",
      "[10,]   49    9  50000\n"
     ]
    },
    {
     "name": "stderr",
     "output_type": "stream",
     "text": [
      "on simulation  15\n"
     ]
    },
    {
     "name": "stdout",
     "output_type": "stream",
     "text": [
      "      [,1] [,2]   [,3]\n",
      " [1,]   21   12  50000\n",
      " [2,]   41   10  50000\n",
      " [3,]   55    8  50000\n",
      " [4,]   50   13  50000\n",
      " [5,]   32   13  50000\n",
      " [6,]   29   15  50000\n",
      " [7,]   34   15 350000\n",
      " [8,]   58   10  50000\n",
      " [9,]   58    9  50000\n",
      "[10,]   64    7  50000\n"
     ]
    },
    {
     "name": "stderr",
     "output_type": "stream",
     "text": [
      "on simulation  16\n"
     ]
    },
    {
     "name": "stdout",
     "output_type": "stream",
     "text": [
      "      [,1] [,2]   [,3]\n",
      " [1,]   70   15 150000\n",
      " [2,]   89    4  50000\n",
      " [3,]   47    6  50000\n",
      " [4,]   48    6 150000\n",
      " [5,]   66    3  50000\n",
      " [6,]   19    7  50000\n",
      " [7,]   72   14 150000\n",
      " [8,]   35    9  50000\n",
      " [9,]   47   11  50000\n",
      "[10,]   53   10  50000\n"
     ]
    },
    {
     "name": "stderr",
     "output_type": "stream",
     "text": [
      "on simulation  17\n"
     ]
    },
    {
     "name": "stdout",
     "output_type": "stream",
     "text": [
      "      [,1] [,2]  [,3]\n",
      " [1,]   35   13 50000\n",
      " [2,]   45   11 50000\n",
      " [3,]   41    9 50000\n",
      " [4,]   48   12 50000\n",
      " [5,]   51   14 50000\n",
      " [6,]   79    8 50000\n",
      " [7,]   50   13 50000\n",
      " [8,]   40    2 50000\n",
      " [9,]   52   11 50000\n",
      "[10,]   30   14 50000\n"
     ]
    },
    {
     "name": "stderr",
     "output_type": "stream",
     "text": [
      "on simulation  18\n"
     ]
    },
    {
     "name": "stdout",
     "output_type": "stream",
     "text": [
      "      [,1] [,2]  [,3]\n",
      " [1,]   36    9 50000\n",
      " [2,]   47   13 50000\n",
      " [3,]   65   12 50000\n",
      " [4,]   43    8 50000\n",
      " [5,]   36   14 50000\n",
      " [6,]   68    9 50000\n",
      " [7,]   76    1 50000\n",
      " [8,]   20   11 50000\n",
      " [9,]   34   13 50000\n",
      "[10,]   39    9 50000\n"
     ]
    },
    {
     "name": "stderr",
     "output_type": "stream",
     "text": [
      "on simulation  19\n"
     ]
    },
    {
     "name": "stdout",
     "output_type": "stream",
     "text": [
      "      [,1] [,2]   [,3]\n",
      " [1,]   41   11  50000\n",
      " [2,]   19    9  50000\n",
      " [3,]   62    9  50000\n",
      " [4,]   48    9  50000\n",
      " [5,]   29    9  50000\n",
      " [6,]   59   13  50000\n",
      " [7,]   45    9  50000\n",
      " [8,]   38    9  50000\n",
      " [9,]   51   12  50000\n",
      "[10,]   47   15 750000\n"
     ]
    },
    {
     "name": "stderr",
     "output_type": "stream",
     "text": [
      "on simulation  20\n"
     ]
    },
    {
     "name": "stdout",
     "output_type": "stream",
     "text": [
      "      [,1] [,2]   [,3]\n",
      " [1,]   22    9  50000\n",
      " [2,]   44   13  50000\n",
      " [3,]   35   12  50000\n",
      " [4,]   91   13 150000\n",
      " [5,]   58    9  50000\n",
      " [6,]   25   13  50000\n",
      " [7,]   71    9  50000\n",
      " [8,]   85    9  50000\n",
      " [9,]   49   11 150000\n",
      "[10,]   32   13  50000\n"
     ]
    },
    {
     "name": "stderr",
     "output_type": "stream",
     "text": [
      "on simulation  21\n"
     ]
    },
    {
     "name": "stdout",
     "output_type": "stream",
     "text": [
      "      [,1] [,2]   [,3]\n",
      " [1,]   31    9  50000\n",
      " [2,]   52    9  50000\n",
      " [3,]   79   14 250000\n",
      " [4,]   41   13  50000\n",
      " [5,]   75    8  50000\n",
      " [6,]   45    9 150000\n",
      " [7,]   70   10  50000\n",
      " [8,]   56    8  50000\n",
      " [9,]   40   12  50000\n",
      "[10,]   20    1  50000\n"
     ]
    },
    {
     "name": "stderr",
     "output_type": "stream",
     "text": [
      "on simulation  22\n"
     ]
    },
    {
     "name": "stdout",
     "output_type": "stream",
     "text": [
      "      [,1] [,2]   [,3]\n",
      " [1,]   76    6  50000\n",
      " [2,]   38   14  50000\n",
      " [3,]   82   11  50000\n",
      " [4,]   32   11 150000\n",
      " [5,]   40    7  50000\n",
      " [6,]   80    4  50000\n",
      " [7,]   78   13 150000\n",
      " [8,]   19    6  50000\n",
      " [9,]   42    9  50000\n",
      "[10,]   44   12  50000\n"
     ]
    },
    {
     "name": "stderr",
     "output_type": "stream",
     "text": [
      "on simulation  23\n"
     ]
    },
    {
     "name": "stdout",
     "output_type": "stream",
     "text": [
      "      [,1] [,2]   [,3]\n",
      " [1,]   20   11  50000\n",
      " [2,]   71    9  50000\n",
      " [3,]   46   12  50000\n",
      " [4,]   93    1  50000\n",
      " [5,]   43    9  50000\n",
      " [6,]   46    1  50000\n",
      " [7,]   26    9  50000\n",
      " [8,]   53   15  50000\n",
      " [9,]   90    1 450000\n",
      "[10,]   35    8  50000\n"
     ]
    },
    {
     "name": "stderr",
     "output_type": "stream",
     "text": [
      "on simulation  24\n"
     ]
    },
    {
     "name": "stdout",
     "output_type": "stream",
     "text": [
      "      [,1] [,2]   [,3]\n",
      " [1,]   31   13  50000\n",
      " [2,]   69    1  50000\n",
      " [3,]   69    6  50000\n",
      " [4,]   40   14 350000\n",
      " [5,]   37    9  50000\n",
      " [6,]   42   13  50000\n",
      " [7,]   80   16 150000\n",
      " [8,]   19    9  50000\n",
      " [9,]   21    9  50000\n",
      "[10,]   60   14  50000\n"
     ]
    },
    {
     "name": "stderr",
     "output_type": "stream",
     "text": [
      "on simulation  25\n"
     ]
    },
    {
     "name": "stdout",
     "output_type": "stream",
     "text": [
      "      [,1] [,2]   [,3]\n",
      " [1,]   59   12 250000\n",
      " [2,]   30   13  50000\n",
      " [3,]   75    6  50000\n",
      " [4,]   75    7  50000\n",
      " [5,]   67   15  50000\n",
      " [6,]   54   11  50000\n",
      " [7,]   41   10 650000\n",
      " [8,]   50    8  50000\n",
      " [9,]   51    6  50000\n",
      "[10,]   25   13  50000\n"
     ]
    },
    {
     "name": "stderr",
     "output_type": "stream",
     "text": [
      "on simulation  26\n"
     ]
    },
    {
     "name": "stdout",
     "output_type": "stream",
     "text": [
      "      [,1] [,2]   [,3]\n",
      " [1,]   81   11  50000\n",
      " [2,]   45   11 150000\n",
      " [3,]   34   13  50000\n",
      " [4,]   40   11  50000\n",
      " [5,]   36   14  50000\n",
      " [6,]   54   13  50000\n",
      " [7,]   38   13  50000\n",
      " [8,]   22   11  50000\n",
      " [9,]   56    9  50000\n",
      "[10,]   37   12  50000\n"
     ]
    },
    {
     "name": "stderr",
     "output_type": "stream",
     "text": [
      "on simulation  27\n"
     ]
    },
    {
     "name": "stdout",
     "output_type": "stream",
     "text": [
      "      [,1] [,2]   [,3]\n",
      " [1,]   20   11  50000\n",
      " [2,]   37    9  50000\n",
      " [3,]   60   11  50000\n",
      " [4,]   35   11  50000\n",
      " [5,]   23   13  50000\n",
      " [6,]   42   13  50000\n",
      " [7,]   19   11  50000\n",
      " [8,]   41    4  50000\n",
      " [9,]   52   14 250000\n",
      "[10,]   56   12  50000\n"
     ]
    },
    {
     "name": "stderr",
     "output_type": "stream",
     "text": [
      "on simulation  28\n"
     ]
    },
    {
     "name": "stdout",
     "output_type": "stream",
     "text": [
      "      [,1] [,2]   [,3]\n",
      " [1,]   82    7  50000\n",
      " [2,]   48    9 350000\n",
      " [3,]   27   13  50000\n",
      " [4,]   40   10  50000\n",
      " [5,]   40   15 150000\n",
      " [6,]   25    9  50000\n",
      " [7,]   49   11  50000\n",
      " [8,]   22    9  50000\n",
      " [9,]   63    9  50000\n",
      "[10,]   43   10  50000\n"
     ]
    },
    {
     "name": "stderr",
     "output_type": "stream",
     "text": [
      "on simulation  29\n"
     ]
    },
    {
     "name": "stdout",
     "output_type": "stream",
     "text": [
      "      [,1] [,2]  [,3]\n",
      " [1,]   81   13 50000\n",
      " [2,]   41    8 50000\n",
      " [3,]   20    9 50000\n",
      " [4,]   93    9 50000\n",
      " [5,]   37   11 50000\n",
      " [6,]   28   14 50000\n",
      " [7,]   37   10 50000\n",
      " [8,]   62   13 50000\n",
      " [9,]   35    9 50000\n",
      "[10,]   49   11 50000\n"
     ]
    },
    {
     "name": "stderr",
     "output_type": "stream",
     "text": [
      "on simulation  30\n"
     ]
    },
    {
     "name": "stdout",
     "output_type": "stream",
     "text": [
      "      [,1] [,2]   [,3]\n",
      " [1,]   39    9  50000\n",
      " [2,]   45   10  50000\n",
      " [3,]   76   11  50000\n",
      " [4,]   28    9  50000\n",
      " [5,]   58   15  50000\n",
      " [6,]   48   13  50000\n",
      " [7,]   57   11  50000\n",
      " [8,]   64   13  50000\n",
      " [9,]   46   16 650000\n",
      "[10,]   38   15 550000\n"
     ]
    },
    {
     "name": "stderr",
     "output_type": "stream",
     "text": [
      "on simulation  31\n"
     ]
    },
    {
     "name": "stdout",
     "output_type": "stream",
     "text": [
      "      [,1] [,2]   [,3]\n",
      " [1,]   52   15  50000\n",
      " [2,]   24    6  50000\n",
      " [3,]   19   10  50000\n",
      " [4,]   52   13  50000\n",
      " [5,]   56   13 150000\n",
      " [6,]   62   11 350000\n",
      " [7,]   33   13  50000\n",
      " [8,]   53    7 150000\n",
      " [9,]   44    8  50000\n",
      "[10,]   18   10  50000\n"
     ]
    },
    {
     "name": "stderr",
     "output_type": "stream",
     "text": [
      "on simulation  32\n"
     ]
    },
    {
     "name": "stdout",
     "output_type": "stream",
     "text": [
      "      [,1] [,2]  [,3]\n",
      " [1,]   75    9 50000\n",
      " [2,]   31   13 50000\n",
      " [3,]   50   14 50000\n",
      " [4,]   36    9 50000\n",
      " [5,]   28   14 50000\n",
      " [6,]   18    5 50000\n",
      " [7,]   43   13 50000\n",
      " [8,]   59   14 50000\n",
      " [9,]   36    9 50000\n",
      "[10,]   84    3 50000\n"
     ]
    },
    {
     "name": "stderr",
     "output_type": "stream",
     "text": [
      "on simulation  33\n"
     ]
    },
    {
     "name": "stdout",
     "output_type": "stream",
     "text": [
      "      [,1] [,2]   [,3]\n",
      " [1,]   35   14  50000\n",
      " [2,]   78   13  50000\n",
      " [3,]   25   13  50000\n",
      " [4,]   42    9  50000\n",
      " [5,]   38    3  50000\n",
      " [6,]   69   13  50000\n",
      " [7,]   48   13 150000\n",
      " [8,]   65   12  50000\n",
      " [9,]   32   12 750000\n",
      "[10,]   38    9  50000\n"
     ]
    },
    {
     "name": "stderr",
     "output_type": "stream",
     "text": [
      "on simulation  34\n"
     ]
    },
    {
     "name": "stdout",
     "output_type": "stream",
     "text": [
      "      [,1] [,2]   [,3]\n",
      " [1,]   53    4  50000\n",
      " [2,]   20    9  50000\n",
      " [3,]   47   11  50000\n",
      " [4,]   53   10  50000\n",
      " [5,]   56    9  50000\n",
      " [6,]   36   14  50000\n",
      " [7,]   63    2 350000\n",
      " [8,]   22   13  50000\n",
      " [9,]   69    8  50000\n",
      "[10,]   52   16  50000\n"
     ]
    },
    {
     "name": "stderr",
     "output_type": "stream",
     "text": [
      "on simulation  35\n"
     ]
    },
    {
     "name": "stdout",
     "output_type": "stream",
     "text": [
      "      [,1] [,2]   [,3]\n",
      " [1,]   48   14  50000\n",
      " [2,]   22   12 350000\n",
      " [3,]   53   13  50000\n",
      " [4,]   34   15  50000\n",
      " [5,]   49    9  50000\n",
      " [6,]   48   15 450000\n",
      " [7,]   29   12  50000\n",
      " [8,]   84   13  50000\n",
      " [9,]   43   16 850000\n",
      "[10,]   49   11  50000\n"
     ]
    },
    {
     "name": "stderr",
     "output_type": "stream",
     "text": [
      "on simulation  36\n"
     ]
    },
    {
     "name": "stdout",
     "output_type": "stream",
     "text": [
      "      [,1] [,2]   [,3]\n",
      " [1,]   47   11  50000\n",
      " [2,]   87    6 450000\n",
      " [3,]   70   13  50000\n",
      " [4,]   77    5  50000\n",
      " [5,]   28   12 250000\n",
      " [6,]   32   14  50000\n",
      " [7,]   19    9  50000\n",
      " [8,]   75    9  50000\n",
      " [9,]   87   10 850000\n",
      "[10,]   19   11  50000\n"
     ]
    },
    {
     "name": "stderr",
     "output_type": "stream",
     "text": [
      "on simulation  37\n"
     ]
    },
    {
     "name": "stdout",
     "output_type": "stream",
     "text": [
      "      [,1] [,2]  [,3]\n",
      " [1,]   50    1 50000\n",
      " [2,]   50   11 50000\n",
      " [3,]   51   14 50000\n",
      " [4,]   27   11 50000\n",
      " [5,]   71   12 50000\n",
      " [6,]   49   13 50000\n",
      " [7,]   68    5 50000\n",
      " [8,]   68    6 50000\n",
      " [9,]   79   13 50000\n",
      "[10,]   22    6 50000\n"
     ]
    },
    {
     "name": "stderr",
     "output_type": "stream",
     "text": [
      "on simulation  38\n"
     ]
    },
    {
     "name": "stdout",
     "output_type": "stream",
     "text": [
      "      [,1] [,2]  [,3]\n",
      " [1,]   47    9 50000\n",
      " [2,]   73    9 50000\n",
      " [3,]   65    9 50000\n",
      " [4,]   39   13 50000\n",
      " [5,]   52   10 50000\n",
      " [6,]   20   11 50000\n",
      " [7,]   63    7 50000\n",
      " [8,]   24   13 50000\n",
      " [9,]   50    9 50000\n",
      "[10,]   57   12 50000\n"
     ]
    },
    {
     "name": "stderr",
     "output_type": "stream",
     "text": [
      "on simulation  39\n"
     ]
    },
    {
     "name": "stdout",
     "output_type": "stream",
     "text": [
      "      [,1] [,2]   [,3]\n",
      " [1,]   70    7 150000\n",
      " [2,]   21   11  50000\n",
      " [3,]   70   13  50000\n",
      " [4,]   34   13  50000\n",
      " [5,]   83    9  50000\n",
      " [6,]   34    9  50000\n",
      " [7,]   78    9  50000\n",
      " [8,]   22   13  50000\n",
      " [9,]   34    9  50000\n",
      "[10,]   38    9  50000\n"
     ]
    },
    {
     "name": "stderr",
     "output_type": "stream",
     "text": [
      "on simulation  40\n"
     ]
    },
    {
     "name": "stdout",
     "output_type": "stream",
     "text": [
      "      [,1] [,2]   [,3]\n",
      " [1,]   18    8  50000\n",
      " [2,]   71   10  50000\n",
      " [3,]   39   13  50000\n",
      " [4,]   25   14  50000\n",
      " [5,]   37   13  50000\n",
      " [6,]   45    9  50000\n",
      " [7,]   60    9  50000\n",
      " [8,]   39   15 150000\n",
      " [9,]   18    7  50000\n",
      "[10,]   22    7  50000\n"
     ]
    },
    {
     "name": "stderr",
     "output_type": "stream",
     "text": [
      "on simulation  41\n"
     ]
    },
    {
     "name": "stdout",
     "output_type": "stream",
     "text": [
      "      [,1] [,2]  [,3]\n",
      " [1,]   63   11 50000\n",
      " [2,]   49    9 50000\n",
      " [3,]   77   13 50000\n",
      " [4,]   84    6 50000\n",
      " [5,]   78    9 50000\n",
      " [6,]   47   12 50000\n",
      " [7,]   69    9 50000\n",
      " [8,]   48   11 50000\n",
      " [9,]   29   13 50000\n",
      "[10,]   37   13 50000\n"
     ]
    },
    {
     "name": "stderr",
     "output_type": "stream",
     "text": [
      "on simulation  42\n"
     ]
    },
    {
     "name": "stdout",
     "output_type": "stream",
     "text": [
      "      [,1] [,2]   [,3]\n",
      " [1,]   81    6  50000\n",
      " [2,]   88   15 750000\n",
      " [3,]   59   13  50000\n",
      " [4,]   31   13  50000\n",
      " [5,]   89    9  50000\n",
      " [6,]   42   10 550000\n",
      " [7,]   84    3  50000\n",
      " [8,]   23   13  50000\n",
      " [9,]   40    9  50000\n",
      "[10,]   41    8  50000\n"
     ]
    },
    {
     "name": "stderr",
     "output_type": "stream",
     "text": [
      "on simulation  43\n"
     ]
    },
    {
     "name": "stdout",
     "output_type": "stream",
     "text": [
      "      [,1] [,2]  [,3]\n",
      " [1,]   20   11 50000\n",
      " [2,]   53   13 50000\n",
      " [3,]   75    9 50000\n",
      " [4,]   45   13 50000\n",
      " [5,]   50   11 50000\n",
      " [6,]   24    9 50000\n",
      " [7,]   36   13 50000\n",
      " [8,]   28    9 50000\n",
      " [9,]   42   14 50000\n",
      "[10,]   19    9 50000\n"
     ]
    },
    {
     "name": "stderr",
     "output_type": "stream",
     "text": [
      "on simulation  44\n"
     ]
    },
    {
     "name": "stdout",
     "output_type": "stream",
     "text": [
      "      [,1] [,2]   [,3]\n",
      " [1,]   49    4  50000\n",
      " [2,]   31    2 750000\n",
      " [3,]   20    9  50000\n",
      " [4,]   75    9  50000\n",
      " [5,]  100    7  50000\n",
      " [6,]   27    3 850000\n",
      " [7,]   33   11  50000\n",
      " [8,]   35   11 550000\n",
      " [9,]   30   13  50000\n",
      "[10,]   69   16 250000\n"
     ]
    },
    {
     "name": "stderr",
     "output_type": "stream",
     "text": [
      "on simulation  45\n"
     ]
    },
    {
     "name": "stdout",
     "output_type": "stream",
     "text": [
      "      [,1] [,2]   [,3]\n",
      " [1,]   25    9  50000\n",
      " [2,]   49   13  50000\n",
      " [3,]   23    8 150000\n",
      " [4,]   54   12  50000\n",
      " [5,]   38   13  50000\n",
      " [6,]   68   13  50000\n",
      " [7,]   27    9  50000\n",
      " [8,]   76    7  50000\n",
      " [9,]   61   13  50000\n",
      "[10,]   56   13  50000\n"
     ]
    },
    {
     "name": "stderr",
     "output_type": "stream",
     "text": [
      "on simulation  46\n"
     ]
    },
    {
     "name": "stdout",
     "output_type": "stream",
     "text": [
      "      [,1] [,2]   [,3]\n",
      " [1,]   31   10  50000\n",
      " [2,]   29   14  50000\n",
      " [3,]   46   11  50000\n",
      " [4,]   24    9  50000\n",
      " [5,]   66    9  50000\n",
      " [6,]   44   13  50000\n",
      " [7,]   28   12  50000\n",
      " [8,]   45   13  50000\n",
      " [9,]   21   13  50000\n",
      "[10,]   18   16 250000\n"
     ]
    },
    {
     "name": "stderr",
     "output_type": "stream",
     "text": [
      "on simulation  47\n"
     ]
    },
    {
     "name": "stdout",
     "output_type": "stream",
     "text": [
      "      [,1] [,2]   [,3]\n",
      " [1,]   53   11 150000\n",
      " [2,]   60    9 150000\n",
      " [3,]   57    9  50000\n",
      " [4,]   56    6 450000\n",
      " [5,]   53    9  50000\n",
      " [6,]   38    4 850000\n",
      " [7,]   34   13  50000\n",
      " [8,]   35    9  50000\n",
      " [9,]   44    9  50000\n",
      "[10,]   29    9  50000\n"
     ]
    },
    {
     "name": "stderr",
     "output_type": "stream",
     "text": [
      "on simulation  48\n"
     ]
    }
   ],
   "source": [
    "#run simulations for generating synthetic data from DP histogram releases and calculating betas for linear regression coefficients\n",
    "set.seed(24);\n",
    "nsims <- 50;\n",
    "# nsims <- 1;\n",
    "\n",
    "betahistory <-matrix(NA, nrow=nsims, ncol=3);\n",
    "Sys.time() #for timing\n",
    "for(i in 1:nsims){\n",
    "    message(paste(\"on simulation \", i));\n",
    "\txyzOut <- xyzHistogramRelease(z=pums_df_trimmed$income, y=pums_df_trimmed$educ, x=pums_df_trimmed$age, zlower=0, zupper=10^6, ylower=1, yupper=16, xlower=18, xupper=100, znbins=10, epsilon=0.5);\n",
    "\n",
    "\tsyn.prob <- as.vector(normalize(xyzOut$release[,5])); #normalize the DP histogram release counts\n",
    "    #sample row indices from the binned data using calculated probabilities\n",
    "\tsyn.x <- sample(x=1:nrow(xyzOut$release), size=nrow(pums_df_trimmed), prob=syn.prob, replace = TRUE);\n",
    "    synData <- xyzOut$release[syn.x, ]; #generate synthetic data\n",
    "    synData <- synData[, 1:3]; #we only need the first three columns, which correspond to age, education, income\n",
    "#     print(synData[1:10, ]);\n",
    "\tsampleOutput <- lm(synData[,3] ~ synData[,1] + synData[,2]); #generate linear model from the data\n",
    "    \n",
    "    #adding noise drives the correlation values down becausse we have less signal\n",
    "\tbetahistory[i,] <- c(sampleOutput$coef[1], sampleOutput$coef[2], sampleOutput$coef[3]);\n",
    "}\n",
    "Sys.time() #for timing\n",
    "\n",
    "#save the betas data from these simulations since it takes awhile to run\n",
    "goodhistory_df <- as.data.frame(goodhistory);\n",
    "colnames(goodhistory_df) <- c(\"beta0\", \"beta1Age\", \"beta2Educ\");\n",
    "#save the data\n",
    "write.csv(goodhistory_df, file='betas_from_DPreleases.csv', row.names=FALSE);\n"
   ]
  },
  {
   "cell_type": "code",
   "execution_count": 9,
   "metadata": {},
   "outputs": [
    {
     "data": {
      "text/html": [
       "<table>\n",
       "<thead><tr><th scope=col>beta0</th><th scope=col>beta1Age</th><th scope=col>beta2Educ</th></tr></thead>\n",
       "<tbody>\n",
       "\t<tr><td>82570.42 </td><td>1225.113 </td><td>-4033.793</td></tr>\n",
       "</tbody>\n",
       "</table>\n"
      ],
      "text/latex": [
       "\\begin{tabular}{r|lll}\n",
       " beta0 & beta1Age & beta2Educ\\\\\n",
       "\\hline\n",
       "\t 82570.42  & 1225.113  & -4033.793\\\\\n",
       "\\end{tabular}\n"
      ],
      "text/markdown": [
       "\n",
       "| beta0 | beta1Age | beta2Educ |\n",
       "|---|---|---|\n",
       "| 82570.42  | 1225.113  | -4033.793 |\n",
       "\n"
      ],
      "text/plain": [
       "  beta0    beta1Age beta2Educ\n",
       "1 82570.42 1225.113 -4033.793"
      ]
     },
     "metadata": {},
     "output_type": "display_data"
    }
   ],
   "source": [
    "goodhistory_df"
   ]
  },
  {
   "cell_type": "code",
   "execution_count": 38,
   "metadata": {},
   "outputs": [
    {
     "name": "stdout",
     "output_type": "stream",
     "text": [
      "       age educ income\n",
      "70754   74   11  28000\n",
      "54386   51   12  48000\n",
      "170303  39   13 115900\n"
     ]
    }
   ],
   "source": [
    "#Calculating regression betas for 100 bootstrapped datasets, so we can calculate a baseline MSE\n",
    "set.seed(24);\n",
    "nBootstraps = 100;\n",
    "\n",
    "bsHistory <-matrix(NA, nrow=nBootstraps, ncol=3);\n",
    "for(i in 1:nBootstraps){\n",
    "\t#sample row indices for bootstrapped dataset\n",
    "\tbs.x <- sample(x=1:nrow(pums_df_trimmed), size=nrow(pums_df_trimmed), replace = TRUE);\n",
    "    bootstrappedData <- pums_df_trimmed[bs.x, ]; #get rows for bootstrapped data\n",
    "    #NEED TO FIX THIS\n",
    "\tprint(bootstrappedData[1:3, ])\n",
    "    bsOutput <- lm(bootstrappedData[,3] ~ bootstrappedData[,1] + bootstrappedData[,2]); #generate linear model from the bootstrapped data\n",
    "    \n",
    "    \n",
    "    #adding noise drives the correlation values down becausse we have less signal\n",
    "\tbsHistory[i,] <- c(bsOutput$coef[1], bsOutput$coef[2], bsOutput$coef[3]);\n",
    "#     break;\n",
    "}\n",
    "bsHistory_df <- as.data.frame(bsHistory);\n",
    "colnames(bsHistory_df) <- c(\"beta0\", \"beta1Age\", \"beta2Educ\");\n",
    "#save the data so I don't have to run this again\n",
    "# write.csv(bsHistory_df, file='betas_from_bootstraps.csv', row.names=FALSE);"
   ]
  },
  {
   "cell_type": "code",
   "execution_count": 3,
   "metadata": {},
   "outputs": [
    {
     "data": {
      "text/html": [
       "<table>\n",
       "<thead><tr><th scope=col>beta0</th><th scope=col>beta1Age</th><th scope=col>beta2Educ</th></tr></thead>\n",
       "<tbody>\n",
       "\t<tr><td>-29159.11</td><td>212.2619 </td><td>5126.439 </td></tr>\n",
       "\t<tr><td>-29414.76</td><td>210.9873 </td><td>5149.084 </td></tr>\n",
       "\t<tr><td>-29322.58</td><td>207.3404 </td><td>5167.199 </td></tr>\n",
       "\t<tr><td>-29445.32</td><td>205.6178 </td><td>5182.781 </td></tr>\n",
       "\t<tr><td>-28781.95</td><td>201.4338 </td><td>5137.609 </td></tr>\n",
       "\t<tr><td>-29964.33</td><td>209.2768 </td><td>5223.746 </td></tr>\n",
       "\t<tr><td>-29814.34</td><td>214.6244 </td><td>5169.758 </td></tr>\n",
       "\t<tr><td>-29296.81</td><td>205.2314 </td><td>5170.191 </td></tr>\n",
       "\t<tr><td>-29192.66</td><td>208.1692 </td><td>5148.012 </td></tr>\n",
       "\t<tr><td>-29969.34</td><td>215.3290 </td><td>5182.095 </td></tr>\n",
       "\t<tr><td>-28965.39</td><td>207.0836 </td><td>5116.813 </td></tr>\n",
       "\t<tr><td>-28760.72</td><td>205.3344 </td><td>5116.361 </td></tr>\n",
       "\t<tr><td>-29127.45</td><td>204.1960 </td><td>5162.019 </td></tr>\n",
       "\t<tr><td>-28952.06</td><td>205.8633 </td><td>5130.875 </td></tr>\n",
       "\t<tr><td>-29474.23</td><td>208.7689 </td><td>5167.843 </td></tr>\n",
       "\t<tr><td>-29177.78</td><td>206.3304 </td><td>5148.210 </td></tr>\n",
       "\t<tr><td>-29471.64</td><td>208.7148 </td><td>5171.125 </td></tr>\n",
       "\t<tr><td>-29097.82</td><td>212.0218 </td><td>5113.118 </td></tr>\n",
       "\t<tr><td>-29171.22</td><td>203.4465 </td><td>5170.676 </td></tr>\n",
       "\t<tr><td>-28929.67</td><td>203.3879 </td><td>5129.225 </td></tr>\n",
       "\t<tr><td>-29204.00</td><td>206.4798 </td><td>5151.361 </td></tr>\n",
       "\t<tr><td>-28831.27</td><td>206.2843 </td><td>5104.510 </td></tr>\n",
       "\t<tr><td>-29373.33</td><td>201.5672 </td><td>5198.380 </td></tr>\n",
       "\t<tr><td>-28701.90</td><td>206.4574 </td><td>5098.325 </td></tr>\n",
       "\t<tr><td>-28600.40</td><td>204.4915 </td><td>5092.349 </td></tr>\n",
       "\t<tr><td>-28850.27</td><td>203.8937 </td><td>5131.662 </td></tr>\n",
       "\t<tr><td>-29324.28</td><td>206.2917 </td><td>5174.329 </td></tr>\n",
       "\t<tr><td>-29932.84</td><td>211.0057 </td><td>5207.966 </td></tr>\n",
       "\t<tr><td>-29039.92</td><td>206.9169 </td><td>5135.096 </td></tr>\n",
       "\t<tr><td>-29786.46</td><td>212.6881 </td><td>5196.336 </td></tr>\n",
       "\t<tr><td>⋮</td><td>⋮</td><td>⋮</td></tr>\n",
       "\t<tr><td>-29819.50</td><td>210.9256 </td><td>5197.397 </td></tr>\n",
       "\t<tr><td>-28288.51</td><td>204.7153 </td><td>5052.659 </td></tr>\n",
       "\t<tr><td>-29690.49</td><td>207.2042 </td><td>5200.249 </td></tr>\n",
       "\t<tr><td>-29630.25</td><td>210.5735 </td><td>5186.663 </td></tr>\n",
       "\t<tr><td>-29292.45</td><td>209.3884 </td><td>5149.320 </td></tr>\n",
       "\t<tr><td>-28750.74</td><td>205.8422 </td><td>5109.170 </td></tr>\n",
       "\t<tr><td>-29558.15</td><td>210.9823 </td><td>5178.935 </td></tr>\n",
       "\t<tr><td>-28907.58</td><td>204.9585 </td><td>5131.259 </td></tr>\n",
       "\t<tr><td>-29651.88</td><td>211.9341 </td><td>5183.639 </td></tr>\n",
       "\t<tr><td>-29481.17</td><td>209.0969 </td><td>5173.904 </td></tr>\n",
       "\t<tr><td>-28933.95</td><td>200.7615 </td><td>5151.591 </td></tr>\n",
       "\t<tr><td>-29445.40</td><td>207.6621 </td><td>5184.876 </td></tr>\n",
       "\t<tr><td>-29510.12</td><td>212.5054 </td><td>5152.655 </td></tr>\n",
       "\t<tr><td>-29231.81</td><td>210.0295 </td><td>5144.837 </td></tr>\n",
       "\t<tr><td>-28818.05</td><td>202.0183 </td><td>5135.191 </td></tr>\n",
       "\t<tr><td>-29374.00</td><td>207.6398 </td><td>5177.818 </td></tr>\n",
       "\t<tr><td>-29041.59</td><td>210.8362 </td><td>5109.841 </td></tr>\n",
       "\t<tr><td>-29283.13</td><td>203.8886 </td><td>5186.741 </td></tr>\n",
       "\t<tr><td>-29520.27</td><td>208.6258 </td><td>5181.374 </td></tr>\n",
       "\t<tr><td>-28902.99</td><td>202.1581 </td><td>5143.595 </td></tr>\n",
       "\t<tr><td>-29978.74</td><td>215.8789 </td><td>5194.143 </td></tr>\n",
       "\t<tr><td>-28877.74</td><td>201.7230 </td><td>5135.872 </td></tr>\n",
       "\t<tr><td>-29538.43</td><td>210.7416 </td><td>5170.336 </td></tr>\n",
       "\t<tr><td>-28688.84</td><td>203.4856 </td><td>5109.967 </td></tr>\n",
       "\t<tr><td>-29391.35</td><td>203.1831 </td><td>5191.853 </td></tr>\n",
       "\t<tr><td>-29327.94</td><td>209.6747 </td><td>5149.816 </td></tr>\n",
       "\t<tr><td>-30024.69</td><td>209.6626 </td><td>5237.920 </td></tr>\n",
       "\t<tr><td>-29366.21</td><td>205.0584 </td><td>5178.732 </td></tr>\n",
       "\t<tr><td>-28864.17</td><td>200.4528 </td><td>5143.950 </td></tr>\n",
       "\t<tr><td>-29204.82</td><td>208.1305 </td><td>5152.307 </td></tr>\n",
       "</tbody>\n",
       "</table>\n"
      ],
      "text/latex": [
       "\\begin{tabular}{r|lll}\n",
       " beta0 & beta1Age & beta2Educ\\\\\n",
       "\\hline\n",
       "\t -29159.11 & 212.2619  & 5126.439 \\\\\n",
       "\t -29414.76 & 210.9873  & 5149.084 \\\\\n",
       "\t -29322.58 & 207.3404  & 5167.199 \\\\\n",
       "\t -29445.32 & 205.6178  & 5182.781 \\\\\n",
       "\t -28781.95 & 201.4338  & 5137.609 \\\\\n",
       "\t -29964.33 & 209.2768  & 5223.746 \\\\\n",
       "\t -29814.34 & 214.6244  & 5169.758 \\\\\n",
       "\t -29296.81 & 205.2314  & 5170.191 \\\\\n",
       "\t -29192.66 & 208.1692  & 5148.012 \\\\\n",
       "\t -29969.34 & 215.3290  & 5182.095 \\\\\n",
       "\t -28965.39 & 207.0836  & 5116.813 \\\\\n",
       "\t -28760.72 & 205.3344  & 5116.361 \\\\\n",
       "\t -29127.45 & 204.1960  & 5162.019 \\\\\n",
       "\t -28952.06 & 205.8633  & 5130.875 \\\\\n",
       "\t -29474.23 & 208.7689  & 5167.843 \\\\\n",
       "\t -29177.78 & 206.3304  & 5148.210 \\\\\n",
       "\t -29471.64 & 208.7148  & 5171.125 \\\\\n",
       "\t -29097.82 & 212.0218  & 5113.118 \\\\\n",
       "\t -29171.22 & 203.4465  & 5170.676 \\\\\n",
       "\t -28929.67 & 203.3879  & 5129.225 \\\\\n",
       "\t -29204.00 & 206.4798  & 5151.361 \\\\\n",
       "\t -28831.27 & 206.2843  & 5104.510 \\\\\n",
       "\t -29373.33 & 201.5672  & 5198.380 \\\\\n",
       "\t -28701.90 & 206.4574  & 5098.325 \\\\\n",
       "\t -28600.40 & 204.4915  & 5092.349 \\\\\n",
       "\t -28850.27 & 203.8937  & 5131.662 \\\\\n",
       "\t -29324.28 & 206.2917  & 5174.329 \\\\\n",
       "\t -29932.84 & 211.0057  & 5207.966 \\\\\n",
       "\t -29039.92 & 206.9169  & 5135.096 \\\\\n",
       "\t -29786.46 & 212.6881  & 5196.336 \\\\\n",
       "\t ⋮ & ⋮ & ⋮\\\\\n",
       "\t -29819.50 & 210.9256  & 5197.397 \\\\\n",
       "\t -28288.51 & 204.7153  & 5052.659 \\\\\n",
       "\t -29690.49 & 207.2042  & 5200.249 \\\\\n",
       "\t -29630.25 & 210.5735  & 5186.663 \\\\\n",
       "\t -29292.45 & 209.3884  & 5149.320 \\\\\n",
       "\t -28750.74 & 205.8422  & 5109.170 \\\\\n",
       "\t -29558.15 & 210.9823  & 5178.935 \\\\\n",
       "\t -28907.58 & 204.9585  & 5131.259 \\\\\n",
       "\t -29651.88 & 211.9341  & 5183.639 \\\\\n",
       "\t -29481.17 & 209.0969  & 5173.904 \\\\\n",
       "\t -28933.95 & 200.7615  & 5151.591 \\\\\n",
       "\t -29445.40 & 207.6621  & 5184.876 \\\\\n",
       "\t -29510.12 & 212.5054  & 5152.655 \\\\\n",
       "\t -29231.81 & 210.0295  & 5144.837 \\\\\n",
       "\t -28818.05 & 202.0183  & 5135.191 \\\\\n",
       "\t -29374.00 & 207.6398  & 5177.818 \\\\\n",
       "\t -29041.59 & 210.8362  & 5109.841 \\\\\n",
       "\t -29283.13 & 203.8886  & 5186.741 \\\\\n",
       "\t -29520.27 & 208.6258  & 5181.374 \\\\\n",
       "\t -28902.99 & 202.1581  & 5143.595 \\\\\n",
       "\t -29978.74 & 215.8789  & 5194.143 \\\\\n",
       "\t -28877.74 & 201.7230  & 5135.872 \\\\\n",
       "\t -29538.43 & 210.7416  & 5170.336 \\\\\n",
       "\t -28688.84 & 203.4856  & 5109.967 \\\\\n",
       "\t -29391.35 & 203.1831  & 5191.853 \\\\\n",
       "\t -29327.94 & 209.6747  & 5149.816 \\\\\n",
       "\t -30024.69 & 209.6626  & 5237.920 \\\\\n",
       "\t -29366.21 & 205.0584  & 5178.732 \\\\\n",
       "\t -28864.17 & 200.4528  & 5143.950 \\\\\n",
       "\t -29204.82 & 208.1305  & 5152.307 \\\\\n",
       "\\end{tabular}\n"
      ],
      "text/markdown": [
       "\n",
       "| beta0 | beta1Age | beta2Educ |\n",
       "|---|---|---|\n",
       "| -29159.11 | 212.2619  | 5126.439  |\n",
       "| -29414.76 | 210.9873  | 5149.084  |\n",
       "| -29322.58 | 207.3404  | 5167.199  |\n",
       "| -29445.32 | 205.6178  | 5182.781  |\n",
       "| -28781.95 | 201.4338  | 5137.609  |\n",
       "| -29964.33 | 209.2768  | 5223.746  |\n",
       "| -29814.34 | 214.6244  | 5169.758  |\n",
       "| -29296.81 | 205.2314  | 5170.191  |\n",
       "| -29192.66 | 208.1692  | 5148.012  |\n",
       "| -29969.34 | 215.3290  | 5182.095  |\n",
       "| -28965.39 | 207.0836  | 5116.813  |\n",
       "| -28760.72 | 205.3344  | 5116.361  |\n",
       "| -29127.45 | 204.1960  | 5162.019  |\n",
       "| -28952.06 | 205.8633  | 5130.875  |\n",
       "| -29474.23 | 208.7689  | 5167.843  |\n",
       "| -29177.78 | 206.3304  | 5148.210  |\n",
       "| -29471.64 | 208.7148  | 5171.125  |\n",
       "| -29097.82 | 212.0218  | 5113.118  |\n",
       "| -29171.22 | 203.4465  | 5170.676  |\n",
       "| -28929.67 | 203.3879  | 5129.225  |\n",
       "| -29204.00 | 206.4798  | 5151.361  |\n",
       "| -28831.27 | 206.2843  | 5104.510  |\n",
       "| -29373.33 | 201.5672  | 5198.380  |\n",
       "| -28701.90 | 206.4574  | 5098.325  |\n",
       "| -28600.40 | 204.4915  | 5092.349  |\n",
       "| -28850.27 | 203.8937  | 5131.662  |\n",
       "| -29324.28 | 206.2917  | 5174.329  |\n",
       "| -29932.84 | 211.0057  | 5207.966  |\n",
       "| -29039.92 | 206.9169  | 5135.096  |\n",
       "| -29786.46 | 212.6881  | 5196.336  |\n",
       "| ⋮ | ⋮ | ⋮ |\n",
       "| -29819.50 | 210.9256  | 5197.397  |\n",
       "| -28288.51 | 204.7153  | 5052.659  |\n",
       "| -29690.49 | 207.2042  | 5200.249  |\n",
       "| -29630.25 | 210.5735  | 5186.663  |\n",
       "| -29292.45 | 209.3884  | 5149.320  |\n",
       "| -28750.74 | 205.8422  | 5109.170  |\n",
       "| -29558.15 | 210.9823  | 5178.935  |\n",
       "| -28907.58 | 204.9585  | 5131.259  |\n",
       "| -29651.88 | 211.9341  | 5183.639  |\n",
       "| -29481.17 | 209.0969  | 5173.904  |\n",
       "| -28933.95 | 200.7615  | 5151.591  |\n",
       "| -29445.40 | 207.6621  | 5184.876  |\n",
       "| -29510.12 | 212.5054  | 5152.655  |\n",
       "| -29231.81 | 210.0295  | 5144.837  |\n",
       "| -28818.05 | 202.0183  | 5135.191  |\n",
       "| -29374.00 | 207.6398  | 5177.818  |\n",
       "| -29041.59 | 210.8362  | 5109.841  |\n",
       "| -29283.13 | 203.8886  | 5186.741  |\n",
       "| -29520.27 | 208.6258  | 5181.374  |\n",
       "| -28902.99 | 202.1581  | 5143.595  |\n",
       "| -29978.74 | 215.8789  | 5194.143  |\n",
       "| -28877.74 | 201.7230  | 5135.872  |\n",
       "| -29538.43 | 210.7416  | 5170.336  |\n",
       "| -28688.84 | 203.4856  | 5109.967  |\n",
       "| -29391.35 | 203.1831  | 5191.853  |\n",
       "| -29327.94 | 209.6747  | 5149.816  |\n",
       "| -30024.69 | 209.6626  | 5237.920  |\n",
       "| -29366.21 | 205.0584  | 5178.732  |\n",
       "| -28864.17 | 200.4528  | 5143.950  |\n",
       "| -29204.82 | 208.1305  | 5152.307  |\n",
       "\n"
      ],
      "text/plain": [
       "    beta0     beta1Age beta2Educ\n",
       "1   -29159.11 212.2619 5126.439 \n",
       "2   -29414.76 210.9873 5149.084 \n",
       "3   -29322.58 207.3404 5167.199 \n",
       "4   -29445.32 205.6178 5182.781 \n",
       "5   -28781.95 201.4338 5137.609 \n",
       "6   -29964.33 209.2768 5223.746 \n",
       "7   -29814.34 214.6244 5169.758 \n",
       "8   -29296.81 205.2314 5170.191 \n",
       "9   -29192.66 208.1692 5148.012 \n",
       "10  -29969.34 215.3290 5182.095 \n",
       "11  -28965.39 207.0836 5116.813 \n",
       "12  -28760.72 205.3344 5116.361 \n",
       "13  -29127.45 204.1960 5162.019 \n",
       "14  -28952.06 205.8633 5130.875 \n",
       "15  -29474.23 208.7689 5167.843 \n",
       "16  -29177.78 206.3304 5148.210 \n",
       "17  -29471.64 208.7148 5171.125 \n",
       "18  -29097.82 212.0218 5113.118 \n",
       "19  -29171.22 203.4465 5170.676 \n",
       "20  -28929.67 203.3879 5129.225 \n",
       "21  -29204.00 206.4798 5151.361 \n",
       "22  -28831.27 206.2843 5104.510 \n",
       "23  -29373.33 201.5672 5198.380 \n",
       "24  -28701.90 206.4574 5098.325 \n",
       "25  -28600.40 204.4915 5092.349 \n",
       "26  -28850.27 203.8937 5131.662 \n",
       "27  -29324.28 206.2917 5174.329 \n",
       "28  -29932.84 211.0057 5207.966 \n",
       "29  -29039.92 206.9169 5135.096 \n",
       "30  -29786.46 212.6881 5196.336 \n",
       "⋮   ⋮         ⋮        ⋮        \n",
       "71  -29819.50 210.9256 5197.397 \n",
       "72  -28288.51 204.7153 5052.659 \n",
       "73  -29690.49 207.2042 5200.249 \n",
       "74  -29630.25 210.5735 5186.663 \n",
       "75  -29292.45 209.3884 5149.320 \n",
       "76  -28750.74 205.8422 5109.170 \n",
       "77  -29558.15 210.9823 5178.935 \n",
       "78  -28907.58 204.9585 5131.259 \n",
       "79  -29651.88 211.9341 5183.639 \n",
       "80  -29481.17 209.0969 5173.904 \n",
       "81  -28933.95 200.7615 5151.591 \n",
       "82  -29445.40 207.6621 5184.876 \n",
       "83  -29510.12 212.5054 5152.655 \n",
       "84  -29231.81 210.0295 5144.837 \n",
       "85  -28818.05 202.0183 5135.191 \n",
       "86  -29374.00 207.6398 5177.818 \n",
       "87  -29041.59 210.8362 5109.841 \n",
       "88  -29283.13 203.8886 5186.741 \n",
       "89  -29520.27 208.6258 5181.374 \n",
       "90  -28902.99 202.1581 5143.595 \n",
       "91  -29978.74 215.8789 5194.143 \n",
       "92  -28877.74 201.7230 5135.872 \n",
       "93  -29538.43 210.7416 5170.336 \n",
       "94  -28688.84 203.4856 5109.967 \n",
       "95  -29391.35 203.1831 5191.853 \n",
       "96  -29327.94 209.6747 5149.816 \n",
       "97  -30024.69 209.6626 5237.920 \n",
       "98  -29366.21 205.0584 5178.732 \n",
       "99  -28864.17 200.4528 5143.950 \n",
       "100 -29204.82 208.1305 5152.307 "
      ]
     },
     "metadata": {},
     "output_type": "display_data"
    },
    {
     "name": "stdout",
     "output_type": "stream",
     "text": [
      "[1] 208681.1\n",
      "[1] 15.82164\n",
      "[1] 1526.93\n"
     ]
    }
   ],
   "source": [
    "bootstrappedBetas <- read.csv(\"./betas_from_bootstraps.csv\", header = T);\n",
    "bootstrappedBetas[1:100, ]\n",
    "print(var(bootstrappedBetas$beta0));\n",
    "print(var(bootstrappedBetas$beta1Age));\n",
    "print(var(bootstrappedBetas$beta2Educ));"
   ]
  },
  {
   "cell_type": "code",
   "execution_count": 32,
   "metadata": {},
   "outputs": [],
   "source": [
    "##function to calculate the MSE between the true Betas and Betas generated from the synthetic data or bootstrapped data\n",
    "##\n",
    "## trueBetas <- vector of the true Betas\n",
    "## sampledBetas <- dataframe or matrix of Betas, where the i-th column is a list of calculated Betas for the i-th Beta in trueBetas\n",
    "\n",
    "#####NEED TO FIX\n",
    "calcMSE <- function(trueBetas, sampledBetas){\n",
    "    numBetas <- length(trueBetas);\n",
    "    mseHistory <- matrix(NA, nrow=numBetas, ncol=4);\n",
    "    for(i in 1:numBetas){\n",
    "        betaDiffs <- sampledBetas[,i] - trueBetas[i]; #subtract true Beta from calculated Betas\n",
    "        biasBeta <- mean(betaDiffs); #calculate bias\n",
    "#         varBeta <- mean(betaDiffs^2); #calculate the variance\n",
    "        varBeta <- var(sampledBetas[,i]);\n",
    "        mseBeta <- biasBeta^2 + varBeta; #calculate the MSE\n",
    "        betaName <- colnames(sampledBetas)[i];\n",
    "        mseHistory[i, ] <- c(betaName, mseBeta, biasBeta, varBeta);\n",
    "    }\n",
    "    \n",
    "    mseHistory_df <- as.data.frame(mseHistory);\n",
    "    colnames(mseHistory_df) <- c(\"Beta\", \"MSE\", \"Bias\", \"Variance\");\n",
    "    return(mseHistory_df);\n",
    "}"
   ]
  },
  {
   "cell_type": "code",
   "execution_count": 33,
   "metadata": {},
   "outputs": [
    {
     "name": "stdout",
     "output_type": "stream",
     "text": [
      "                 (Intercept)  pums_df_trimmed_clipped$age \n",
      "                 -29251.7586                     206.9598 \n",
      "pums_df_trimmed_clipped$educ \n",
      "                   5157.2185 \n"
     ]
    }
   ],
   "source": [
    "#calculate true betas\n",
    "pums_df_trimmed_clipped <- pums_df_trimmed; #create copy of pums_df_trimmed\n",
    "pums_df_trimmed_clipped$age[pums_df_trimmed_clipped$age < 18] <- 18; #lower bound of age is 18\n",
    "pums_df_trimmed_clipped$age[pums_df_trimmed_clipped$age > 100] <- 100; #upper bound of age is 100\n",
    "pums_df_trimmed_clipped$income[pums_df_trimmed_clipped$income < 0] <- 0; #lower bound of income is 0\n",
    "pums_df_trimmed_clipped$income[pums_df_trimmed_clipped$income > 10^6] <- 10^6; #lower bound of income is 1M\n",
    "\n",
    "true.output <- lm(pums_df_trimmed_clipped$income ~ pums_df_trimmed_clipped$age + pums_df_trimmed_clipped$educ)\n",
    "true.slope <- coef(true.output);\n",
    "#save true beta values\n",
    "trueBeta0 <- true.slope[1];\n",
    "trueBeta1 <- true.slope[2];\n",
    "trueBeta2 <- true.slope[3];\n",
    "\n",
    "trueBetas <- c(trueBeta0, trueBeta1, trueBeta2);\n",
    "print(trueBetas)"
   ]
  },
  {
   "cell_type": "code",
   "execution_count": 34,
   "metadata": {},
   "outputs": [
    {
     "data": {
      "text/html": [
       "<table>\n",
       "<thead><tr><th scope=col>Beta</th><th scope=col>MSE</th><th scope=col>Bias</th><th scope=col>Variance</th></tr></thead>\n",
       "<tbody>\n",
       "\t<tr><td>beta0            </td><td>209249.141019287 </td><td>-23.834392883592 </td><td>208681.062735158 </td></tr>\n",
       "\t<tr><td>beta1Age         </td><td>15.8870732255232 </td><td>0.255801969533068</td><td>15.8216385779062 </td></tr>\n",
       "\t<tr><td>beta2Educ        </td><td>1528.16488436953 </td><td>1.11108977234679 </td><td>1526.93036388731 </td></tr>\n",
       "</tbody>\n",
       "</table>\n"
      ],
      "text/latex": [
       "\\begin{tabular}{r|llll}\n",
       " Beta & MSE & Bias & Variance\\\\\n",
       "\\hline\n",
       "\t beta0             & 209249.141019287  & -23.834392883592  & 208681.062735158 \\\\\n",
       "\t beta1Age          & 15.8870732255232  & 0.255801969533068 & 15.8216385779062 \\\\\n",
       "\t beta2Educ         & 1528.16488436953  & 1.11108977234679  & 1526.93036388731 \\\\\n",
       "\\end{tabular}\n"
      ],
      "text/markdown": [
       "\n",
       "| Beta | MSE | Bias | Variance |\n",
       "|---|---|---|---|\n",
       "| beta0             | 209249.141019287  | -23.834392883592  | 208681.062735158  |\n",
       "| beta1Age          | 15.8870732255232  | 0.255801969533068 | 15.8216385779062  |\n",
       "| beta2Educ         | 1528.16488436953  | 1.11108977234679  | 1526.93036388731  |\n",
       "\n"
      ],
      "text/plain": [
       "  Beta      MSE              Bias              Variance        \n",
       "1 beta0     209249.141019287 -23.834392883592  208681.062735158\n",
       "2 beta1Age  15.8870732255232 0.255801969533068 15.8216385779062\n",
       "3 beta2Educ 1528.16488436953 1.11108977234679  1526.93036388731"
      ]
     },
     "metadata": {},
     "output_type": "display_data"
    }
   ],
   "source": [
    "#calculate the MSE, bias, and variance of each Beta\n",
    "mseDF <- calcMSE(trueBetas = trueBetas, bootstrappedBetas);\n",
    "mseDF"
   ]
  }
 ],
 "metadata": {
  "kernelspec": {
   "display_name": "R",
   "language": "R",
   "name": "ir"
  },
  "language_info": {
   "codemirror_mode": "r",
   "file_extension": ".r",
   "mimetype": "text/x-r-source",
   "name": "R",
   "pygments_lexer": "r",
   "version": "3.4.3"
  }
 },
 "nbformat": 4,
 "nbformat_minor": 2
}
