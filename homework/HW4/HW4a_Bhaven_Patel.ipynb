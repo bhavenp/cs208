{
 "cells": [
  {
   "cell_type": "markdown",
   "metadata": {},
   "source": [
    "# HW4A: The Local Model\n",
    "\n",
    "### Bhaven Patel\n",
    "### 4/16/2019\n",
    "\n",
    "I worked with Anthony Rentsch, Lipika Ramaswamy, and Karina Huang on this homework.\n",
    "\n",
    "My code can be found on my [Github](https://github.com/bhavenp/cs208/blob/master/homework/HW4/HW4_Bhaven_Patel.ipynb)."
   ]
  },
  {
   "cell_type": "markdown",
   "metadata": {},
   "source": [
    "## Problem 1: Learning Conjunctions in the SQ Model"
   ]
  },
  {
   "cell_type": "markdown",
   "metadata": {},
   "source": [
    "### Centralized Version of SQ Model"
   ]
  },
  {
   "cell_type": "markdown",
   "metadata": {},
   "source": [
    "For the centralized version of the SQ model, I chose to calculate $p_j = P[x[j]=0 \\,\\wedge\\, y=1]$ for $j=1,...,d$. Then, laplace noise is added to $p_j$ with a scale equal to $\\dfrac{GS}{\\tilde\\epsilon}$, where $GS=\\dfrac{1}{n}$ and $\\tilde\\epsilon= \\dfrac{\\epsilon}{d}$. Thus, every $p_j$ has a differentially private release $\\hat p_j$\n",
    "$$\n",
    "\\hat p_j = p_j + Lap\\left(\\dfrac{d}{n\\tilde\\epsilon}  \\right)\n",
    "$$"
   ]
  },
  {
   "cell_type": "markdown",
   "metadata": {},
   "source": [
    "Below are the helper functions we generally use."
   ]
  },
  {
   "cell_type": "code",
   "execution_count": 1,
   "metadata": {},
   "outputs": [],
   "source": [
    "rm(list=ls())\t\t# Remove any objects in memory\n",
    "set.seed(123)\n",
    "\n",
    "# Random draw from Laplace distribution\n",
    "#\n",
    "# mu numeric, center of the distribution\n",
    "# b numeric, spread\n",
    "# size integer, number of draws\n",
    "# \n",
    "# return Random draws from Laplace distribution\n",
    "# example:\n",
    "# \n",
    "# rlap(size=1000)\n",
    "\n",
    "rlap = function(mu=0, b=1, size=1) {\n",
    "    p <- runif(size) - 0.5\n",
    "    draws <- mu - b * sgn(p) * log(1 - 2 * abs(p))\n",
    "    return(draws)\n",
    "}\n",
    "\n",
    "# Sign function\n",
    "# \n",
    "# Function to determine what the sign of the passed values should be.\n",
    "#\n",
    "# x numeric, value or vector or values\n",
    "# return The sign of passed values\n",
    "# example:\n",
    "#\n",
    "# sgn(rnorm(10))\n",
    "\n",
    "sgn <- function(x) {\n",
    "    return(ifelse(x < 0, -1, 1))\n",
    "}"
   ]
  },
  {
   "cell_type": "code",
   "execution_count": 18,
   "metadata": {},
   "outputs": [],
   "source": [
    "##function to create the matrix that holds an indicator if x_j==0 & y==1\n",
    "createConjunctionMat <- function(xData, yData){\n",
    "    #create matrix to hold indicator if x_j==0 & y==1\n",
    "    result_matrix = matrix(0, nrow=nrow(xData), ncol=ncol(xData));\n",
    "    for(i in 1:nrow(xData)){\n",
    "        if(yData[i] == 1){ #only need to consider row if y=1\n",
    "            result_matrix[i, ] <- (xData[i, ] == 0); #check if x_j == 0\n",
    "        }\n",
    "    }\n",
    "    return(result_matrix);\n",
    "}\n",
    "\n",
    "#function to calculate DP-releases for each probability\n",
    "probRelease <- function(xMat, epsilon=1.0){\n",
    "    probs <- colMeans(xMat); #calculate true probabilities\n",
    "    sensitivity <- 1 / nrow(xMat); #sensitivity is 1/n\n",
    "    scale <- sensitivity / epsilon;\n",
    "    dpProbs <- probs + rlap(mu=0, b=scale, size=length(probs)); #add laplace noise to the true probabilities\n",
    "\n",
    "\treturn(list(release=dpProbs, true=probs) );\n",
    "}\n",
    "\n",
    "#function that ties together the different parts for doing a DP release of the probabilities for a \n",
    "## xData: matrix of {0,1}\n",
    "## yData: vector of {0,1}, same length as number of rows in xData\n",
    "## epsilon: total privacy-loss parameter. This will get split up by the number of columns in xData that \n",
    "##          we must release probabilities for\n",
    "## returns a vector of the indices corresponding to the columns of xData that predict yData well\n",
    "centrlDP_SQAlg <- function(xData, yData, totEpsilon=1.0, threshold=1e-4){\n",
    "    pMatrix <- createConjunctionMat(xData=xData, yData=yData); #create conjunction matrix\n",
    "    print(totEpsilon/ncol(xData))\n",
    "    dpRelease <- probRelease(pMatrix, epsilon = totEpsilon/ncol(xData) ); #get DP release of probabilities\n",
    "#     cat(dpRelease$true);\n",
    "#     cat(dpRelease$release);\n",
    "    indices <- which(dpRelease$release < threshold); #get indices with probability less than threshold\n",
    "    return(indices);\n",
    "}"
   ]
  },
  {
   "cell_type": "code",
   "execution_count": 19,
   "metadata": {},
   "outputs": [
    {
     "name": "stdout",
     "output_type": "stream",
     "text": [
      "[1] 0.05\n"
     ]
    },
    {
     "data": {
      "text/html": [
       "<ol class=list-inline>\n",
       "\t<li>1</li>\n",
       "\t<li>2</li>\n",
       "\t<li>3</li>\n",
       "</ol>\n"
      ],
      "text/latex": [
       "\\begin{enumerate*}\n",
       "\\item 1\n",
       "\\item 2\n",
       "\\item 3\n",
       "\\end{enumerate*}\n"
      ],
      "text/markdown": [
       "1. 1\n",
       "2. 2\n",
       "3. 3\n",
       "\n",
       "\n"
      ],
      "text/plain": [
       "[1] 1 2 3"
      ]
     },
     "metadata": {},
     "output_type": "display_data"
    }
   ],
   "source": [
    "#generate matrix of indicators\n",
    "# pMatrix <- createConjunctionMat(xData=mydata[,0:10], yData=mydata[['y']]);\n",
    "# dpRelease <- probRelease(pMatrix, epsilon = 0.5);\n",
    "# dpRelease$true\n",
    "# dpRelease$release\n",
    "\n",
    "#read in the test data\n",
    "mydata <- read.csv('../../data/hw4testdata.csv');\n",
    "# mydata[0:10, ]\n",
    "\n",
    "#get set of features to use as predictors\n",
    "centrlDP_SQAlg(xData = mydata[, 1:10], yData = mydata[['y']], totEpsilon = 0.5)"
   ]
  },
  {
   "cell_type": "markdown",
   "metadata": {},
   "source": [
    "### Local Model"
   ]
  },
  {
   "cell_type": "markdown",
   "metadata": {},
   "source": [
    "#### describe local model implementation"
   ]
  },
  {
   "cell_type": "code",
   "execution_count": null,
   "metadata": {},
   "outputs": [],
   "source": [
    "#\n",
    "#\n",
    "#\n",
    "#\n",
    "\n",
    "#mechanism works for x as a scalar or just a vector\n",
    "localRelease <- function(x, values=c(-1,1), epsilon){\n",
    "\tdraw <- runif(n=1, min=0, max=1);\n",
    "\tcutoff <- 1/(1+exp(epsilon));\n",
    "    if(draw < cutoff){ #we are going to flip the our value\n",
    "        return(values[ !values %in% x]); #create flag with (!values %in% x) for opposite value of 'x'\n",
    "    }else{ #draw > cutoff so we return true value\n",
    "        return(x);\n",
    "    }\n",
    "}\n",
    "\n",
    "correction <- function(release, epsilon){\n",
    "\tinflation <- (exp(epsilon) + 1)/(exp(epsilon) - 1)\n",
    "\texpectation <- mean(release * inflation)\n",
    "\treturn(expectation)\n",
    "}\n",
    "\n",
    "\n",
    "\n",
    "\n",
    "\n",
    "#function that ties together the different parts for doing a DP release of the probabilities for a local model\n",
    "## xData: matrix of {0,1}\n",
    "## yData: vector of {0,1}, same length as number of rows in xData\n",
    "## epsilon: total privacy-loss parameter. This will get split up by the number of columns in xData that \n",
    "##          we must release probabilities for\n",
    "## returns a vector of the indices corresponding to the columns of xData that predict yData well\n",
    "localDP_SQAlg <- function(xData, yData, totEpsilon=1.0, threshold=1e-4){\n",
    "    pMatrix <- createConjunctionMat(xData=xData, yData=yData); #create conjunction matrix\n",
    "\n",
    "    dpRelease <- probRelease(pMatrix, epsilon = totEpsilon/ncol(xData) ); #get DP release of probabilities\n",
    "#     cat(dpRelease$true);\n",
    "#     cat(dpRelease$release);\n",
    "    indices <- which(dpRelease$release < threshold); #get indices with probability less than threshold\n",
    "    return(indices);\n",
    "}"
   ]
  },
  {
   "cell_type": "code",
   "execution_count": 20,
   "metadata": {},
   "outputs": [
    {
     "data": {
      "text/html": [
       "<table>\n",
       "<tbody>\n",
       "\t<tr><td>0</td><td>0</td></tr>\n",
       "\t<tr><td>0</td><td>0</td></tr>\n",
       "</tbody>\n",
       "</table>\n"
      ],
      "text/latex": [
       "\\begin{tabular}{ll}\n",
       "\t 0 & 0\\\\\n",
       "\t 0 & 0\\\\\n",
       "\\end{tabular}\n"
      ],
      "text/markdown": [
       "\n",
       "| 0 | 0 |\n",
       "| 0 | 0 |\n",
       "\n"
      ],
      "text/plain": [
       "     [,1] [,2]\n",
       "[1,] 0    0   \n",
       "[2,] 0    0   "
      ]
     },
     "metadata": {},
     "output_type": "display_data"
    }
   ],
   "source": [
    "matrix(0, nrow = 2, ncol = 2)"
   ]
  }
 ],
 "metadata": {
  "kernelspec": {
   "display_name": "R",
   "language": "R",
   "name": "ir"
  },
  "language_info": {
   "codemirror_mode": "r",
   "file_extension": ".r",
   "mimetype": "text/x-r-source",
   "name": "R",
   "pygments_lexer": "r",
   "version": "3.5.3"
  }
 },
 "nbformat": 4,
 "nbformat_minor": 2
}
