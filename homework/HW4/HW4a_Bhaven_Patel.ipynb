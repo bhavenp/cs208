{
 "cells": [
  {
   "cell_type": "markdown",
   "metadata": {},
   "source": [
    "# HW4A: The Local Model\n",
    "\n",
    "### Bhaven Patel\n",
    "### 4/16/2019\n",
    "\n",
    "I worked with Anthony Rentsch, Lipika Ramaswamy, and Karina Huang on this homework.\n",
    "\n",
    "My code can be found on my [Github](https://github.com/bhavenp/cs208/blob/master/homework/HW4/HW4_Bhaven_Patel.ipynb)."
   ]
  },
  {
   "cell_type": "markdown",
   "metadata": {},
   "source": [
    "## Problem 1: Learning Conjunctions in the SQ Model"
   ]
  },
  {
   "cell_type": "markdown",
   "metadata": {},
   "source": [
    "### (a)"
   ]
  },
  {
   "cell_type": "markdown",
   "metadata": {},
   "source": [
    "### Centralized Version of SQ Model\n",
    "\n",
    "\n",
    "For the centralized version of the SQ model, I chose to calculate $p_j = P[x[j]=0 \\,\\wedge\\, y=1]$ for $j=1,...,d$. \n",
    "To do this, I create a \"conjunction matrix\" where the element at the $i$-th row ($i=1,...,n$) and the $j$-th column ($j=1,...,d$) contains an indicator as to whether $x_{ij}=0 \\wedge y_i=1$ in the original dataset. $p_j$ is just the mean of the $j$-th column in the conjunction matrix.\n",
    "\n",
    "Then, laplace noise is added to $p_j$ with a scale equal to $\\dfrac{GS}{\\tilde\\epsilon}$, where the global sensitivity $GS=\\dfrac{1}{n}$ and $\\tilde\\epsilon= \\dfrac{\\epsilon}{d}$. The $GS=\\dfrac{1}{n}$ because changing one value ($0\\rightarrow 1$ or $1\\rightarrow 0$) in the column $j$ changes $p_j$ by $\\dfrac{1}{n}$. Thus, every $p_j$ has a differentially private release $\\hat p_j$\n",
    "$$\n",
    "\\hat p_j = p_j + Lap\\left(\\dfrac{d}{n\\tilde\\epsilon}  \\right)\n",
    "$$\n",
    "\n",
    "Each $\\hat p_j$ is compared to a threshold $t$ to determine if the feature $j$ should be included in the set $\\hat S$ that is returned."
   ]
  },
  {
   "cell_type": "markdown",
   "metadata": {},
   "source": [
    "Below are the helper functions we generally use."
   ]
  },
  {
   "cell_type": "code",
   "execution_count": 1,
   "metadata": {},
   "outputs": [],
   "source": [
    "rm(list=ls())\t\t# Remove any objects in memory\n",
    "\n",
    "# Random draw from Laplace distribution\n",
    "#\n",
    "# mu numeric, center of the distribution\n",
    "# b numeric, spread\n",
    "# size integer, number of draws\n",
    "# \n",
    "# return Random draws from Laplace distribution\n",
    "# example:\n",
    "# \n",
    "# rlap(size=1000)\n",
    "\n",
    "rlap = function(mu=0, b=1, size=1) {\n",
    "    p <- runif(size) - 0.5\n",
    "    draws <- mu - b * sgn(p) * log(1 - 2 * abs(p))\n",
    "    return(draws)\n",
    "}\n",
    "\n",
    "# Sign function\n",
    "# \n",
    "# Function to determine what the sign of the passed values should be.\n",
    "#\n",
    "# x numeric, value or vector or values\n",
    "# return The sign of passed values\n",
    "# example:\n",
    "#\n",
    "# sgn(rnorm(10))\n",
    "\n",
    "sgn <- function(x) {\n",
    "    return(ifelse(x < 0, -1, 1))\n",
    "}"
   ]
  },
  {
   "cell_type": "code",
   "execution_count": 2,
   "metadata": {},
   "outputs": [],
   "source": [
    "##function to create the matrix that holds an indicator if x_j==0 & y==1\n",
    "createConjunctionMat <- function(xData, yData){\n",
    "    #create matrix to hold indicator if x_j==0 & y==1\n",
    "    result_matrix = matrix(0, nrow=nrow(xData), ncol=ncol(xData));\n",
    "    for(i in 1:nrow(xData)){\n",
    "        if(yData[i] == 1){ #only need to consider row if y=1\n",
    "            result_matrix[i, ] <- (xData[i, ] == 0); #check if x_j == 0\n",
    "        }\n",
    "    }\n",
    "    return(result_matrix);\n",
    "}\n",
    "\n",
    "#function to calculate DP-releases for each probability\n",
    "probRelease <- function(xMat, epsilon=1.0){\n",
    "    probs <- colMeans(xMat); #calculate true probabilities\n",
    "    sensitivity <- 1 / nrow(xMat); #sensitivity is 1/n\n",
    "    scale <- sensitivity / epsilon;\n",
    "    dpProbs <- probs + rlap(mu=0, b=scale, size=length(probs)); #add laplace noise to the true probabilities\n",
    "\n",
    "\treturn(list(release=dpProbs, true=probs) );\n",
    "}\n",
    "\n",
    "#function that ties together the different parts for doing a DP release of the probabilities for a \n",
    "## xData: matrix of {0,1}\n",
    "## yData: vector of {0,1}, same length as number of rows in xData\n",
    "## epsilon: total privacy-loss parameter. This will get split up by the number of columns in xData that \n",
    "##          we must release probabilities for\n",
    "## returns a list containing a vector of the indices corresponding to the columns of xData that predict yData well\n",
    "## and a vector of the DP released probabilities calculated for each column\n",
    "\n",
    "centrlDP_SQAlg <- function(xData, yData, totEpsilon=1.0, threshold=1e-4){\n",
    "    pMatrix <- createConjunctionMat(xData=xData, yData=yData); #create conjunction matrix\n",
    "\n",
    "    dpRelease <- probRelease(pMatrix, epsilon = totEpsilon/ncol(xData) ); #get DP release of probabilities\n",
    "#     cat(dpRelease$true);\n",
    "    indices <- which(dpRelease$release < threshold); #get indices with probability less than threshold\n",
    "    return(list(indices=indices, probs=dpRelease$release) );\n",
    "}"
   ]
  },
  {
   "cell_type": "markdown",
   "metadata": {},
   "source": [
    "Below I show that my centralized version of the SQ algorithm works for the *hw4testdata.csv* file."
   ]
  },
  {
   "cell_type": "code",
   "execution_count": 3,
   "metadata": {},
   "outputs": [
    {
     "data": {
      "text/html": [
       "<dl>\n",
       "\t<dt>$indices</dt>\n",
       "\t\t<dd><ol class=list-inline>\n",
       "\t<li>1</li>\n",
       "\t<li>2</li>\n",
       "\t<li>3</li>\n",
       "</ol>\n",
       "</dd>\n",
       "\t<dt>$probs</dt>\n",
       "\t\t<dd><ol class=list-inline>\n",
       "\t<li>0.00017696776001586</li>\n",
       "\t<li>0.000207267112552507</li>\n",
       "\t<li>-5.58128522710643e-05</li>\n",
       "\t<li>0.0620781446228576</li>\n",
       "\t<li>0.0605533364523468</li>\n",
       "\t<li>0.0611838940326656</li>\n",
       "\t<li>0.0616140889946548</li>\n",
       "\t<li>0.061668819397531</li>\n",
       "\t<li>0.0608976855174546</li>\n",
       "\t<li>0.0610927852373104</li>\n",
       "</ol>\n",
       "</dd>\n",
       "</dl>\n"
      ],
      "text/latex": [
       "\\begin{description}\n",
       "\\item[\\$indices] \\begin{enumerate*}\n",
       "\\item 1\n",
       "\\item 2\n",
       "\\item 3\n",
       "\\end{enumerate*}\n",
       "\n",
       "\\item[\\$probs] \\begin{enumerate*}\n",
       "\\item 0.00017696776001586\n",
       "\\item 0.000207267112552507\n",
       "\\item -5.58128522710643e-05\n",
       "\\item 0.0620781446228576\n",
       "\\item 0.0605533364523468\n",
       "\\item 0.0611838940326656\n",
       "\\item 0.0616140889946548\n",
       "\\item 0.061668819397531\n",
       "\\item 0.0608976855174546\n",
       "\\item 0.0610927852373104\n",
       "\\end{enumerate*}\n",
       "\n",
       "\\end{description}\n"
      ],
      "text/markdown": [
       "$indices\n",
       ":   1. 1\n",
       "2. 2\n",
       "3. 3\n",
       "\n",
       "\n",
       "\n",
       "$probs\n",
       ":   1. 0.00017696776001586\n",
       "2. 0.000207267112552507\n",
       "3. -5.58128522710643e-05\n",
       "4. 0.0620781446228576\n",
       "5. 0.0605533364523468\n",
       "6. 0.0611838940326656\n",
       "7. 0.0616140889946548\n",
       "8. 0.061668819397531\n",
       "9. 0.0608976855174546\n",
       "10. 0.0610927852373104\n",
       "\n",
       "\n",
       "\n",
       "\n",
       "\n"
      ],
      "text/plain": [
       "$indices\n",
       "[1] 1 2 3\n",
       "\n",
       "$probs\n",
       " [1]  1.769678e-04  2.072671e-04 -5.581285e-05  6.207814e-02  6.055334e-02\n",
       " [6]  6.118389e-02  6.161409e-02  6.166882e-02  6.089769e-02  6.109279e-02\n"
      ]
     },
     "metadata": {},
     "output_type": "display_data"
    }
   ],
   "source": [
    "#read in the test data\n",
    "mydata <- read.csv('../../data/hw4testdata.csv');\n",
    "# mydata[0:10, ]\n",
    "\n",
    "#get set of features to use as predictors\n",
    "set.seed(42);\n",
    "centrlDP_SQAlg(xData = mydata[, 1:10], yData = mydata[['y']], totEpsilon = 1.0, threshold = .01)"
   ]
  },
  {
   "cell_type": "markdown",
   "metadata": {},
   "source": [
    "### Local Model"
   ]
  },
  {
   "cell_type": "markdown",
   "metadata": {},
   "source": [
    "For the local model implementation of the SQ algorithm, I begin by creating a \"conjunction matrix\" where the element in the $i$-th row ($i=1,...,n$) and the $j$-th column ($j=1,...,d$) contains an indicator $\\hat x_{ij}$ as to whether $x_{ij}=0 \\wedge y_i=1$ in the original dataset. This is the same step I took for the centralized DP version of the SQ algorithm.  <br>\n",
    "\n",
    "Then, I perform a randomized response on each row of the conjunction matrix. My $\\epsilon$ is split into $\\tilde\\epsilon= \\dfrac{\\epsilon}{d}$, and each indicator variable $\\hat x_{ij}$ in the row is returned as follows \n",
    "$$\n",
    "Q(\\hat x_{ij}) = \n",
    "\\begin{cases}\n",
    "\\hat x_{ij}, &w.p. \\:\\: \\dfrac{e^{\\tilde\\epsilon} }{1 + e^{\\tilde\\epsilon}} \\\\\n",
    "\\\\\n",
    "1 - \\hat x_{ij}, &w.p. \\:\\: \\dfrac{1}{1 + e^{\\tilde\\epsilon} }\\\\\n",
    "\\end{cases}\n",
    "$$\n",
    "\n",
    "Using the randomized responses on the \"conjunction matrix\", I can calculate $\\hat p_j$ by taking the mean of each column $j$ in the randomized-response matrix. However, we need to calculate the correction factor to apply to the $\\hat p_j$s because want $E[\\hat p_j]=p_j$. We can begin with:\n",
    "$$\\begin{align}\n",
    "E[\\hat p_j] &= p_j\\\\\n",
    "\\\\\n",
    "E \\left[\\dfrac{1}{n} \\sum_{i=1}^n Q(\\hat x_{ij}) \\right] &= \\dfrac{1}{n} \\sum_{i=1}^n \\hat x_{ij}\\\\\n",
    "\\\\\n",
    "\\dfrac{1}{n} \\sum_{i=1}^n  E \\left[ Q(\\hat x_{ij}) \\right] &= \\dfrac{1}{n} \\sum_{i=1}^n \\hat x_{ij}\\\\\n",
    "\\\\\n",
    "\\sum_{i=1}^n  E \\left[ Q(\\hat x_{ij}) \\right] &= \\sum_{i=1}^n \\hat x_{ij}\\\\\n",
    "\\end{align}$$\n",
    "\n",
    "From the definition of $Q(\\hat x_{ij})$ above, we can calculate $E \\left[ Q(\\hat x_{ij}) \\right]$:\n",
    "$$\\begin{align}\n",
    "E \\left[ Q(\\hat x_{ij}) \\right] &= \\hat x_{ij}\\dfrac{e^\\tilde\\epsilon}{1 + e^\\tilde\\epsilon } + (1 - \\hat x_{ij})\\dfrac{ 1}{1 + e^\\tilde\\epsilon }\\\\\n",
    "&= \\hat x_{ij} \\dfrac{e^\\tilde\\epsilon - 1}{1 + e^\\tilde\\epsilon } + \\dfrac{1}{1 + e^\\tilde\\epsilon }\n",
    "\\end{align}$$\n",
    "\n",
    "We can substitute this result in to get\n",
    "$$\\begin{align}\n",
    "\\sum_{i=1}^n  E \\left[ Q(\\hat x_{ij}) \\right] &= \\sum_{i=1}^n \\hat x_{ij}\\\\\n",
    "\\\\\n",
    "\\sum_{i=1}^n \\left( \\hat x_{ij} \\dfrac{e^\\tilde\\epsilon - 1}{1 + e^\\tilde\\epsilon } + \\dfrac{1}{1 + e^\\tilde\\epsilon } \\right) &= \\sum_{i=1}^n \\hat x_{ij}\\\\\n",
    "\\\\\n",
    "\\dfrac{n}{1 + e^\\tilde\\epsilon } + \\dfrac{e^\\tilde\\epsilon - 1}{1 + e^\\tilde\\epsilon } \\sum_{i=1}^n \\hat x_{ij} &= \\sum_{i=1}^n \\hat x_{ij}\\\\\n",
    "\\end{align}$$\n",
    "\n",
    "From this result, we see that we need to multiply the left side by some factor $c$ and add a quantity $d$ so that it is equivalent to the right side.\n",
    "$$\n",
    "d + c\\cdot(\\dfrac{n}{1 + e^\\tilde\\epsilon } + \\dfrac{e^\\tilde\\epsilon - 1}{1 + e^\\tilde\\epsilon } \\sum_{i=1}^n \\hat x_{ij}) = \\sum_{i=1}^n \\hat x_{ij}\\\\\n",
    "$$\n",
    "If $c=\\dfrac{1 + e^\\tilde\\epsilon }{e^\\tilde\\epsilon - 1}$ and $d=\\dfrac{-n}{e^\\tilde\\epsilon -1}$, then the two sides of the equation are equivalent. Thus, we find that we must correct the sum $\\sum_{i=1}^n \\hat x_{ij}$ of each column $j$ by multiplying the sum by $\\dfrac{1 + e^\\tilde\\epsilon }{e^\\tilde\\epsilon - 1}$ and adding a factor $\\dfrac{-n}{e^\\tilde\\epsilon -1}$. We can then divide each of these corrected sums by $n$ to get our $\\hat p_j$s.\n",
    "\n",
    "Each $\\hat p_j$ is compared to a threshold $t$ to determine if the feature $j$ should be included in the set $\\hat S$ that is returned."
   ]
  },
  {
   "cell_type": "code",
   "execution_count": 3,
   "metadata": {},
   "outputs": [],
   "source": [
    "#local release mechanism works for x as a vector. Adjusted from J. Honaker's localRelease.ipynb.\n",
    "##\n",
    "## x: vector of {0,1} for which local release must be performed\n",
    "## values: vector of length two containing the possible values in vector 'x'\n",
    "## epsilon: privacy-loss parameter to use for flipping values in 'x'\n",
    "## returns a vector\n",
    "\n",
    "localReleaseVec <- function(x, values=c(0,1), epsilon){\n",
    "\tdraws <- runif(n=length(x), min=0, max=1); #get number of draws equal to length of the vector\n",
    "\tcutoff <- 1/(1+exp(epsilon));\n",
    "    release <- x; #make a copy of the vector x\n",
    "    for(i in 1:length(x)){\n",
    "        if(draws[i] < cutoff){ #we are going to flip the our value\n",
    "            release[i] <- values[ !values %in% x[i] ] ; #create flag with (!values %in% x) for opposite value of 'x'\n",
    "        }\n",
    "    } \n",
    "    return(release);\n",
    "}\n",
    "\n",
    "\n",
    "#function that ties together the different parts for doing a DP release of the probabilities for a local model\n",
    "## xData: matrix of {0,1}\n",
    "## yData: vector of {0,1}, same length as number of rows in xData\n",
    "## epsilon: total privacy-loss parameter. This will get split up by the number of columns in xData that \n",
    "##          we must release probabilities for\n",
    "## returns a list containing a vector of the indices corresponding to the columns of xData that predict yData well\n",
    "## and a vector of the DP released probabilities calculated for each column \n",
    "\n",
    "localDP_SQAlg <- function(xData, yData, totEpsilon=1.0, threshold=1e-4){\n",
    "    cjMatrix <- createConjunctionMat(xData=xData, yData=yData);#create conjunction matrix\n",
    "    epsSplit <- totEpsilon / ncol(xData); #divide the total epsilon by the number of features\n",
    "\n",
    "    #perform local release of conjunction matrix \n",
    "    lrMatrix <- cjMatrix; #create a copy of the conjunction matrix\n",
    "    for(r in 1:nrow(cjMatrix)){\n",
    "        lrMatrix[r, ] <- localReleaseVec(x=cjMatrix[r, ], values = c(0,1), epsilon = epsSplit);\n",
    "    }\n",
    "    \n",
    "    dpSums <- colSums(lrMatrix); #get sums of the local release of the conjunction matrix\n",
    "    #perform correction\n",
    "    inflation <- (exp(epsSplit) + 1) / (exp(epsSplit) - 1); #coefficient to multiply each sum by\n",
    "    n <- nrow(xData); #get number of rows\n",
    "    additive <- -n / (exp(epsSplit) - 1); #additive factor to apply for because data is {0,1}\n",
    "\n",
    "    dpProbs <- (dpSums * inflation + additive) / n;\n",
    "\n",
    "    indices <- which(dpProbs < threshold); #get indices with probability less than threshold\n",
    "    return(list(indices=indices, probs=dpProbs));\n",
    "}"
   ]
  },
  {
   "cell_type": "markdown",
   "metadata": {},
   "source": [
    "Below I show that my local version of the SQ algorithm works for the *hw4testdata.csv* file."
   ]
  },
  {
   "cell_type": "code",
   "execution_count": 5,
   "metadata": {},
   "outputs": [
    {
     "data": {
      "text/html": [
       "<dl>\n",
       "\t<dt>$indices</dt>\n",
       "\t\t<dd><ol class=list-inline>\n",
       "\t<li>1</li>\n",
       "\t<li>2</li>\n",
       "\t<li>3</li>\n",
       "</ol>\n",
       "</dd>\n",
       "\t<dt>$probs</dt>\n",
       "\t\t<dd><ol class=list-inline>\n",
       "\t<li>-0.0100245959057356</li>\n",
       "\t<li>-0.0558627562128042</li>\n",
       "\t<li>-0.0116259290168993</li>\n",
       "\t<li>0.083453224458464</li>\n",
       "\t<li>0.0722438926803158</li>\n",
       "\t<li>0.0502255624018109</li>\n",
       "\t<li>0.0828527245417773</li>\n",
       "\t<li>0.0898585569031199</li>\n",
       "\t<li>0.0510262289573927</li>\n",
       "\t<li>0.0758468921804347</li>\n",
       "</ol>\n",
       "</dd>\n",
       "</dl>\n"
      ],
      "text/latex": [
       "\\begin{description}\n",
       "\\item[\\$indices] \\begin{enumerate*}\n",
       "\\item 1\n",
       "\\item 2\n",
       "\\item 3\n",
       "\\end{enumerate*}\n",
       "\n",
       "\\item[\\$probs] \\begin{enumerate*}\n",
       "\\item -0.0100245959057356\n",
       "\\item -0.0558627562128042\n",
       "\\item -0.0116259290168993\n",
       "\\item 0.083453224458464\n",
       "\\item 0.0722438926803158\n",
       "\\item 0.0502255624018109\n",
       "\\item 0.0828527245417773\n",
       "\\item 0.0898585569031199\n",
       "\\item 0.0510262289573927\n",
       "\\item 0.0758468921804347\n",
       "\\end{enumerate*}\n",
       "\n",
       "\\end{description}\n"
      ],
      "text/markdown": [
       "$indices\n",
       ":   1. 1\n",
       "2. 2\n",
       "3. 3\n",
       "\n",
       "\n",
       "\n",
       "$probs\n",
       ":   1. -0.0100245959057356\n",
       "2. -0.0558627562128042\n",
       "3. -0.0116259290168993\n",
       "4. 0.083453224458464\n",
       "5. 0.0722438926803158\n",
       "6. 0.0502255624018109\n",
       "7. 0.0828527245417773\n",
       "8. 0.0898585569031199\n",
       "9. 0.0510262289573927\n",
       "10. 0.0758468921804347\n",
       "\n",
       "\n",
       "\n",
       "\n",
       "\n"
      ],
      "text/plain": [
       "$indices\n",
       "[1] 1 2 3\n",
       "\n",
       "$probs\n",
       " [1] -0.01002460 -0.05586276 -0.01162593  0.08345322  0.07224389  0.05022556\n",
       " [7]  0.08285272  0.08985856  0.05102623  0.07584689\n"
      ]
     },
     "metadata": {},
     "output_type": "display_data"
    }
   ],
   "source": [
    "set.seed(42);\n",
    "mydata <- read.csv('../../data/hw4testdata.csv');\n",
    "localDP_SQAlg(xData = mydata[, 1:10], yData = mydata[['y']], totEpsilon = 1.0, threshold = 0.01)"
   ]
  },
  {
   "cell_type": "markdown",
   "metadata": {},
   "source": [
    "### (b)"
   ]
  },
  {
   "cell_type": "markdown",
   "metadata": {},
   "source": [
    "### Centralized DP version of SQ algorithm\n",
    "\n",
    "I will refer to the $d$ columns in each dataset $x_i$ as features.<br>\n",
    "$P[\\hat S \\not\\supseteq S]$ is the probability that set $S$ contains a feature $j$ that $\\hat S$ does not. This equivalent to determining the probability that at least one of the features $j \\in S$ has DP-released $\\hat p_j$ that is greater than the threshold $t$ we specify. Thus, we get\n",
    "$$\n",
    "P[\\hat S \\not\\supseteq S] = \\sum_{j\\in S} P[\\hat p_j > t]\n",
    "$$\n",
    "\n",
    "For the centralized DP SQ algorithm, I chose $\\hat p_j = p_j + Lap\\left(\\dfrac{d}{n\\tilde\\epsilon}\\right)$. Additionally, we know that for each $j \\in S$, we have $p_j =0$. Thus, we get\n",
    "$$\\begin{align}\n",
    "P[\\hat S \\not\\supseteq S] &= \\sum_{j\\in S} P[p_j + Lap\\left(\\dfrac{d}{n\\tilde\\epsilon}\\right) > t]\\\\\n",
    "&= \\sum_{j\\in S} P[0 + Lap\\left(\\dfrac{d}{n\\tilde\\epsilon}\\right) > t]\n",
    "\\end{align}$$\n",
    "\n",
    "This can be equation can be expanded to be in terms of $t$, $n$, $\\epsilon$, and $|S|$ because we can expand the probability that a value chosen from the Laplace distribution is greater than $t$ and $\\sum_{j\\in S}=|S|$:\n",
    "$$\\begin{align}\n",
    "&= \\sum_{j\\in S} P[0 + Lap\\left(\\dfrac{d}{n\\tilde\\epsilon}\\right) > t] \\\\\n",
    "&= |S| \\cdot \\int_t^{\\infty} \\dfrac{e^{(-|y|\\cdot n\\epsilon / d)}\\cdot n\\epsilon}{2d} dy\\\\\n",
    "\\end{align}$$\n",
    "\n",
    "Now, if we say that $P[\\hat S \\not\\supseteq S] \\leq 0.1$, we can find an upper bound on what the threshold $t$ should be:\n",
    "$$\\begin{align}\n",
    "P[\\hat S \\not\\supseteq S] &\\leq 0.1\\\\\n",
    "\\\\\n",
    "|S| \\cdot \\int_t^{\\infty} \\dfrac{e^{(-|y|\\cdot n\\epsilon / d)}\\cdot n\\epsilon}{2d} dy &\\leq 0.1\\\\\n",
    "\\\\\n",
    "|S|\\dfrac{n\\epsilon}{2d} \\cdot \\int_t^{\\infty} e^{(-|y|\\cdot n\\epsilon / d)} dy &\\leq 0.1\\\\\n",
    "\\\\\n",
    "\\\\\n",
    "\\int_t^{\\infty} e^{(-|y|\\cdot n\\epsilon / d)} dy &\\leq \\dfrac{(0.1)\\cdot 2d}{|S|n\\epsilon}\\\\\n",
    "\\\\\n",
    "\\left[\\dfrac{-d}{n\\epsilon} e^{(-y\\cdot n\\epsilon / d)} \\right]_t^{\\infty} &\\leq \\dfrac{(0.1)\\cdot 2d}{|S|n\\epsilon}\\\\\n",
    "\\\\\n",
    "\\dfrac{-d}{n\\epsilon} \\left[ e^{(-\\infty \\cdot n\\epsilon / d)} - e^{(-t \\cdot n\\epsilon / d)} \\right] &\\leq \\dfrac{(0.1)\\cdot 2d}{|S|n\\epsilon}\\\\\n",
    "\\\\\n",
    "-1 \\left[ 0 - e^{(-t \\cdot n\\epsilon / d)} \\right] &\\leq \\dfrac{(0.2)}{|S|}\\\\\n",
    "\\\\\n",
    "e^{(-t \\cdot n\\epsilon / d)} &\\leq \\dfrac{(0.2)}{|S|}\\\\\n",
    "\\\\\n",
    "-t  &\\geq \\dfrac{d}{n\\epsilon} \\log\\left(\\dfrac{(0.2)}{|S|} \\right)\\\\\n",
    "\\\\\n",
    "t  &\\leq \\dfrac{-d}{n\\epsilon} \\log\\left(\\dfrac{(0.2)}{|S|} \\right)\\\\\n",
    "\\end{align}$$\n",
    "\n",
    "Thus, for the centralized DP SQ algorithm, we find that $t  \\leq \\dfrac{-d}{n\\epsilon} \\log\\left(\\dfrac{(0.2)}{|S|} \\right)$ if we want $P[\\hat S \\not\\supseteq S] \\leq 0.1$."
   ]
  },
  {
   "cell_type": "markdown",
   "metadata": {},
   "source": [
    "### Local DP version of SQ algorithm\n",
    "\n",
    "I will refer to the $d$ columns in each dataset $x_i$ as features.<br>\n",
    "$P[\\hat S \\not\\supseteq S]$ is the probability that set $S$ contains a feature $j$ that $\\hat S$ does not. This equivalent to determining the probability that at least one of the features $j \\in S$ has DP-released $\\hat p_j$ that is greater than the threshold $t$ we specify. Thus, we get\n",
    "$$\n",
    "P[\\hat S \\not\\supseteq S] = \\sum_{j\\in S} P[\\hat p_j > t]\n",
    "$$\n",
    "\n",
    "In the local DP version of the SQ algorithm, $\\hat p_j$ is calculated from the randomized-response \"conjunction matrix\". Thus, $\\hat p_j = \\dfrac{1}{n} \\sum_{i=1}^n \\hat x_{ij}$, where $\\hat x_{ij}$ is the value in the $i$-th row and $j$-th column of the in the randomized-response \"conjunction matrix\". So we can expand $P[\\hat p_j > t]$ as follows\n",
    "$$\\begin{align}\n",
    "\\sum_{j\\in S} P[\\hat p_j > t] &= \\sum_{j\\in S} P \\left[ \\dfrac{1}{n} \\sum_{i=1}^n \\hat x_{ij} > t \\right]\\\\\n",
    "\\\\\n",
    "&= \\sum_{j\\in S} P \\left[ \\sum_{i=1}^n \\hat x_{ij} > nt \\right]\\\\\n",
    "\\end{align}$$\n",
    "\n",
    "Because $j \\in S$, in the original \"conjunction matrix\" the entire column $j$ would be zeroes. However after randomized-response, the zero values in column $j$ may have been flipped to 1s, so\n",
    "$$\n",
    "P[\\hat x_{ij} = 1] \\sim \\text{Bernoulli}\\left( \\dfrac{1}{1+e^{\\epsilon}} \\right)\\\\\n",
    "\\sum_{i=1}^n \\hat x_{ij} \\sim \\text{Bin}\\left(n, \\dfrac{1}{1+e^{\\epsilon}} \\right)\n",
    "$$\n",
    "\n",
    "We can approximate the Binomial distribution using a normal distribution with the mean and the variance of the Binomial distribution:\n",
    "$$\n",
    "\\sum_{i=1}^n \\hat x_{ij} \\sim N( n\\left(\\dfrac{1}{1+e^\\epsilon}\\right), n\\left(\\dfrac{1}{1+e^\\epsilon}\\right)\\left(\\dfrac{e^\\epsilon}{1+e^\\epsilon}\\right) )\n",
    "$$\n",
    "\n",
    "We can now standardize $P \\left[ \\sum_{i=1}^n \\hat x_{ij} > nt \\right]$ using the normal distribution:\n",
    "$$\n",
    "P \\left[ \\dfrac{\\sum_{i=1}^n \\hat x_{ij}-\\frac{n}{1+e^\\epsilon}}{\\sqrt{\\frac{ne^\\epsilon}{(1+e^\\epsilon)^2}} } \n",
    "> \\dfrac{nt-\\frac{n}{1+e^\\epsilon}}{\\sqrt{\\frac{ne^\\epsilon}{(1+e^\\epsilon)^2}}} \\right]\n",
    "= P \\left[ Z \n",
    "> \\dfrac{nt-\\frac{n}{1+e^\\epsilon}}{\\sqrt{\\frac{ne^\\epsilon}{(1+e^\\epsilon)^2}}} \\right]\n",
    "$$\n",
    "\n",
    "So we now have\n",
    "$$\\begin{align}\n",
    "\\sum_{j\\in S} P \\left[ \\sum_{i=1}^n \\hat x_{ij} > nt \\right] &= \\sum_{j\\in S} P \\left[ Z \n",
    "> \\dfrac{nt-\\frac{n}{1+e^\\epsilon}}{\\sqrt{\\frac{ne^\\epsilon}{(1+e^\\epsilon)^2}}} \\right]\\\\\n",
    "&= |S| \\cdot \\Phi \\left( \\dfrac{nt-\\frac{n}{1+e^\\epsilon}}{\\sqrt{\\frac{ne^\\epsilon}{(1+e^\\epsilon)^2}}} \\right)\n",
    "\\end{align}$$\n",
    "\n",
    "Thus for the local DP version of the SQ algorithm $P[\\hat S \\not\\supseteq S] = |S| \\cdot \\Phi \\left( \\dfrac{nt-\\frac{n}{1+e^\\epsilon}}{\\sqrt{\\frac{ne^\\epsilon}{(1+e^\\epsilon)^2}}} \\right)$."
   ]
  },
  {
   "cell_type": "markdown",
   "metadata": {},
   "source": [
    "Now, if we say that $P[\\hat S \\not\\supseteq S] \\leq 0.1$, we can find an upper bound on what the threshold $t$ should be:\n",
    "$$\\begin{align}\n",
    "P[\\hat S \\not\\supseteq S] &\\leq 0.1\\\\\n",
    "\\\\\n",
    "|S| \\cdot \\Phi \\left( \\dfrac{nt-\\frac{n}{1+e^\\epsilon}}{\\sqrt{\\frac{ne^\\epsilon}{(1+e^\\epsilon)^2}}} \\right) &\\leq 0.1\\\\\n",
    "\\\\\n",
    "|S| \\cdot \\Phi \\left( \\dfrac{\\sqrt{n}t(1+e^\\epsilon)-\\sqrt{n}}{\\sqrt{e^\\epsilon}} \\right) &\\leq 0.1\\\\\n",
    "\\end{align}$$\n",
    "$|S| \\leq d$ so we get\n",
    "$$\\begin{align}\n",
    "d \\cdot \\Phi \\left( \\dfrac{\\sqrt{n}t(1+e^\\epsilon)-\\sqrt{n}}{\\sqrt{e^\\epsilon}} \\right) &\\leq 0.1\\\\\n",
    "\\\\\n",
    "\\Phi \\left( \\dfrac{\\sqrt{n}t(1+e^\\epsilon)-\\sqrt{n}}{\\sqrt{e^\\epsilon}} \\right) &\\leq \\dfrac{0.1}{d}\\\\\n",
    "\\dfrac{\\sqrt{n}t(1+e^\\epsilon)-\\sqrt{n}}{\\sqrt{e^\\epsilon}} &\\leq \\Phi^{-1}\\left(\\dfrac{0.1}{d}\\right) \\\\\n",
    "\\sqrt{n}t(1+e^\\epsilon) &\\leq \\sqrt{e^\\epsilon}\\Phi^{-1}\\left(\\dfrac{0.1}{d}\\right) + \\sqrt{n} \\\\\n",
    "t &\\leq \\dfrac{\\sqrt{e^\\epsilon}\\Phi^{-1}\\left(\\dfrac{0.1}{d}\\right) + \\sqrt{n}} {\\sqrt{n}(1+e^\\epsilon)} \\\\\n",
    "\\end{align}$$\n",
    "\n",
    "Thus, for the local DP version of the SQ algorithm, we find that $t  \\leq \\dfrac{\\sqrt{e^\\epsilon}\\Phi^{-1}\\left(\\dfrac{0.1}{d}\\right) + \\sqrt{n}} {\\sqrt{n}(1+e^\\epsilon)}$ if we want $P[\\hat S \\not\\supseteq S] \\leq 0.1$."
   ]
  },
  {
   "cell_type": "markdown",
   "metadata": {},
   "source": [
    "### (c)"
   ]
  },
  {
   "cell_type": "markdown",
   "metadata": {},
   "source": [
    "### Centralized DP version SQ algorithm\n",
    "\n",
    "From part (b), we know that the upper bound on the threshold $t$ is $t \\leq \\dfrac{-d}{n\\epsilon} \\log\\left(\\dfrac{(0.2)}{|S|} \\right)$. For the *CaPUMS5full.csv* data, we can calculate the upper bound using $n=1223992$, $d=10$, $\\epsilon = 1.0$, and $|S|=d=10$.\n",
    "$$\\begin{align}\n",
    "t &= \\dfrac{-d}{n\\epsilon} \\log\\left(\\dfrac{(0.2)}{|S|} \\right)\\\\\n",
    "&= \\dfrac{10}{(1223992)(1.0)} \\log\\left(\\dfrac{(0.2)}{10} \\right)\\\\\n",
    "&= 3.20 \\cdot 10^{-5}\n",
    "\\end{align}$$\n",
    "\n",
    "Thus for the *CaPUMS5full.csv* dataset, the upper bound on the threshold $t$ is $3.20 \\cdot 10^{-5}$. I will use this threshold to show that my centralized DP SQ algorithm works on the *CaPUMS5full.csv* dataset."
   ]
  },
  {
   "cell_type": "code",
   "execution_count": 4,
   "metadata": {},
   "outputs": [
    {
     "name": "stdout",
     "output_type": "stream",
     "text": [
      "[1] \"1223992  rows in CA PUMS\"\n"
     ]
    },
    {
     "data": {
      "text/html": [
       "<table>\n",
       "<thead><tr><th scope=col>sex</th><th scope=col>married</th><th scope=col>black</th><th scope=col>asian</th><th scope=col>collegedegree</th><th scope=col>employed</th><th scope=col>militaryservice</th><th scope=col>uscitizen</th><th scope=col>disability</th><th scope=col>englishability</th><th scope=col>blackfemale</th><th scope=col>targetted</th></tr></thead>\n",
       "<tbody>\n",
       "\t<tr><td>1</td><td>1</td><td>0</td><td>0</td><td>0</td><td>1</td><td>0</td><td>1</td><td>0</td><td>1</td><td>0</td><td>0</td></tr>\n",
       "\t<tr><td>1</td><td>1</td><td>0</td><td>0</td><td>0</td><td>0</td><td>0</td><td>1</td><td>0</td><td>1</td><td>0</td><td>0</td></tr>\n",
       "\t<tr><td>0</td><td>1</td><td>0</td><td>0</td><td>0</td><td>0</td><td>1</td><td>1</td><td>0</td><td>1</td><td>0</td><td>0</td></tr>\n",
       "</tbody>\n",
       "</table>\n"
      ],
      "text/latex": [
       "\\begin{tabular}{r|llllllllllll}\n",
       " sex & married & black & asian & collegedegree & employed & militaryservice & uscitizen & disability & englishability & blackfemale & targetted\\\\\n",
       "\\hline\n",
       "\t 1 & 1 & 0 & 0 & 0 & 1 & 0 & 1 & 0 & 1 & 0 & 0\\\\\n",
       "\t 1 & 1 & 0 & 0 & 0 & 0 & 0 & 1 & 0 & 1 & 0 & 0\\\\\n",
       "\t 0 & 1 & 0 & 0 & 0 & 0 & 1 & 1 & 0 & 1 & 0 & 0\\\\\n",
       "\\end{tabular}\n"
      ],
      "text/markdown": [
       "\n",
       "| sex | married | black | asian | collegedegree | employed | militaryservice | uscitizen | disability | englishability | blackfemale | targetted |\n",
       "|---|---|---|---|---|---|---|---|---|---|---|---|\n",
       "| 1 | 1 | 0 | 0 | 0 | 1 | 0 | 1 | 0 | 1 | 0 | 0 |\n",
       "| 1 | 1 | 0 | 0 | 0 | 0 | 0 | 1 | 0 | 1 | 0 | 0 |\n",
       "| 0 | 1 | 0 | 0 | 0 | 0 | 1 | 1 | 0 | 1 | 0 | 0 |\n",
       "\n"
      ],
      "text/plain": [
       "  sex married black asian collegedegree employed militaryservice uscitizen\n",
       "1 1   1       0     0     0             1        0               1        \n",
       "2 1   1       0     0     0             0        0               1        \n",
       "3 0   1       0     0     0             0        1               1        \n",
       "  disability englishability blackfemale targetted\n",
       "1 0          1              0           0        \n",
       "2 0          1              0           0        \n",
       "3 0          1              0           0        "
      ]
     },
     "metadata": {},
     "output_type": "display_data"
    }
   ],
   "source": [
    "#read in the test data\n",
    "caPUMS <- read.csv('../../data/CaPUMS5full.csv');\n",
    "print(paste(nrow(caPUMS), \" rows in CA PUMS\"));\n",
    "caPUMS[1:3, ]"
   ]
  },
  {
   "cell_type": "code",
   "execution_count": 5,
   "metadata": {},
   "outputs": [
    {
     "name": "stdout",
     "output_type": "stream",
     "text": [
      "[1]  6  8 10\n",
      "[1] \"employed\"       \"uscitizen\"      \"englishability\"\n"
     ]
    }
   ],
   "source": [
    "#get set of features to use as predictors\n",
    "cDPInd <- centrlDP_SQAlg(xData = caPUMS[, 1:10], yData = caPUMS[['targetted']], totEpsilon = 1.0, threshold = 3.2e-5);\n",
    "print(cDPInd$indices) #print the indices chosen as predictors for targetted\n",
    "print(colnames(caPUMS)[cDPInd$indices]) #print the colnames from the original dataset that the indices refer to"
   ]
  },
  {
   "cell_type": "markdown",
   "metadata": {},
   "source": [
    "Using the threshold $t$ I calculated, we see that the columns *employed*, *uscitizen*, and *englishability* are the columns chosen for the set $\\hat S$."
   ]
  },
  {
   "cell_type": "markdown",
   "metadata": {},
   "source": [
    "### Local DP version of SQ algorithm\n",
    "\n",
    "From part (b), we know that the upper bound on the threshold $t$ is $t  \\leq \\dfrac{\\sqrt{e^\\epsilon}\\Phi^{-1}\\left(\\dfrac{0.1}{d}\\right) + \\sqrt{n}} {\\sqrt{n}(1+e^\\epsilon)}$. \n",
    "For the *CaPUMS5full.csv* data, we can calculate the upper bound using $n=1223992$, $d=10$, $\\epsilon = 1.0$, and $|S|=d=10$.\n",
    "$$\\begin{align}\n",
    "t &= \\dfrac{\\sqrt{e^{1}}\\Phi^{-1}\\left(\\dfrac{0.1}{10}\\right) + \\sqrt{1223992}} {\\sqrt{1223992}(1+e^{1})}\\\\\n",
    "&= 0.268\n",
    "\\end{align}$$\n",
    "\n",
    "Thus for the *CaPUMS5full.csv* dataset, the upper bound on the threshold $t$ is $0.268$. I will use this threshold to show that my local DP version of the SQ algorithm works on the *CaPUMS5full.csv* dataset."
   ]
  },
  {
   "cell_type": "code",
   "execution_count": 6,
   "metadata": {},
   "outputs": [
    {
     "name": "stdout",
     "output_type": "stream",
     "text": [
      "[1]  2  3  4  5  6  7  8  9 10\n",
      "[1] \"married\"         \"black\"           \"asian\"           \"collegedegree\"  \n",
      "[5] \"employed\"        \"militaryservice\" \"uscitizen\"       \"disability\"     \n",
      "[9] \"englishability\" \n"
     ]
    }
   ],
   "source": [
    "#perform local DP release for SQ algorithm\n",
    "lDPInd <- localDP_SQAlg(xData = caPUMS[, 1:10], yData = caPUMS[['targetted']], \n",
    "                             totEpsilon = 1.0, threshold = 0.268);\n",
    "print(lDPInd$indices) #print the indices chosen as predictors for targetted\n",
    "print(colnames(caPUMS)[lDPInd$indices]) #print the colnames from the original dataset that the indices refer to"
   ]
  },
  {
   "cell_type": "markdown",
   "metadata": {},
   "source": [
    "### Compare mechanisms\n",
    "\n",
    "Now, I will compare the false positive and false negative rate as a function of $n$ for the two versions of my SQ algorithms. For each $n$, I will generate 10 bootstrapped samples and a produce a centralized and local DP release for the set of features $\\hat S$ that predict **targetted=1**; I will calculate a false positive rate and false negative rate by predicting the value of **targetted** using the conjunction of the features included in $\\hat S$ for each of the 10 DP releases."
   ]
  },
  {
   "cell_type": "code",
   "execution_count": 8,
   "metadata": {},
   "outputs": [],
   "source": [
    "##function to calculate false positive and false negative rates given true and predicted data\n",
    "##\n",
    "## yTrue: vector of true values for targetted column\n",
    "## yPreds: vector of predicted values for targetted column\n",
    "\n",
    "calcFPandFN <- function(yTrue, yPreds){\n",
    "    numPos <- sum(yTrue); #number of positive results is just sum of the vector\n",
    "    numNeg <- length(yTrue) - numPos;\n",
    "    \n",
    "    #calculate the false negative\n",
    "    posInd <- which(yTrue == 1); #get indices of positive results\n",
    "    tps <- sum( yTrue[posInd] == yPreds[posInd]);\n",
    "    fnRate <- 1 - tps/numPos; #FN-rate is 1 - TP-rate\n",
    "    \n",
    "    #calculate the false positive\n",
    "    negInd <- which(yTrue == 0); #get indices of negative results\n",
    "    tns <- sum( yTrue[negInd] == yPreds[negInd]);\n",
    "    fpRate <- 1 - tns/numNeg; #FP-rate is 1 - TN-rate\n",
    "    \n",
    "    return(list(fp=fpRate, fn=fnRate));\n",
    "}\n",
    "\n",
    "## function to get an analytical calculation of the threshold for centralized DP version of SQ algorithm\n",
    "## n: the number of rows in the dataset\n",
    "## d: the number of predictors in the dataset\n",
    "## epsilon: the total privacy-loss parameter\n",
    "centralized_tCalculation <- function(n, d, epsilon){\n",
    "    r <- log(0.2/d);\n",
    "    r <- r * -d/ (n * epsilon);\n",
    "    return(r);\n",
    "    \n",
    "}\n",
    "\n",
    "## function to get an analytical calculation of the threshold for local DP version of SQ algorithm\n",
    "## n: the number of rows in the dataset\n",
    "## d: the number of predictors in the dataset\n",
    "## epsilon: the total privacy-loss parameter\n",
    "local_tCalculation <- function(n, d, epsilon){\n",
    "    numerator <- sqrt(exp(epsilon)) * qnorm(0.1/d) + sqrt(n);\n",
    "    denom <- sqrt(n) * (1 + exp(epsilon));\n",
    "    r <- numerator / denom;\n",
    "    return(r);\n",
    "}\n"
   ]
  },
  {
   "cell_type": "code",
   "execution_count": 32,
   "metadata": {},
   "outputs": [],
   "source": [
    "# set.seed(24);\n",
    "sampSizes <- c(1e2, 1e3, 1e4); #size of datasets\n",
    "numSims <- 5; #number of simulations per bootstrap\n",
    "eps <- 1.0; #total epsilong\n",
    "\n",
    "numRows <- length(sampSizes) * numSims;\n",
    "resultsMatrix <- matrix(NA, nrow = numRows, ncol = 7);\n",
    "\n",
    "r = 1; #row counter\n",
    "for(sSize in sampSizes){\n",
    "    \n",
    "    for(i in 1:numSims){\n",
    "        #sample the indices from the dataset\n",
    "        sample_ind <- sample(x=1:nrow(caPUMS), size=sSize, replace=TRUE);\n",
    "        bootstrap <- caPUMS[sample_ind, ]; #create a bootstrap sample\n",
    "        \n",
    "        ####Perform centralized release\n",
    "        #calculate the threshold for the centralized release\n",
    "        cThres <- centralized_tCalculation(n=sSize, d=10, epsilon=eps);\n",
    "        cDPInd <- centrlDP_SQAlg(xData = bootstrap[, 1:10], yData = bootstrap[['targetted']], \n",
    "                                 totEpsilon = eps, threshold = cThres);\n",
    "        #check if no columns were selected\n",
    "        while(length(cDPInd$indices) == 0){ #re-run release if feature set is empty\n",
    "            cDPInd <- centrlDP_SQAlg(xData = bootstrap[, 1:10], yData = bootstrap[['targetted']], \n",
    "                                 totEpsilon = eps, threshold = cThres);\n",
    "        }\n",
    "        \n",
    "        #get the predictors specified by the bootstrap\n",
    "        bootstrapPreds <- bootstrap[, cDPInd$indices];\n",
    "        if(length(cDPInd$indices) > 1){\n",
    "            #get predictions for bootstrapped sample. If conjunction of all predictors is 1,\n",
    "            #then prediction is 1.\n",
    "            cent_yPreds <- (rowSums(bootstrapPreds) == length(cDPInd$indices) );\n",
    "        }else{ #handle case when there is just one predictor in set\n",
    "            cent_yPreds <- bootstrapPreds;\n",
    "        }\n",
    "        \n",
    "\n",
    "        ####Perform local release\n",
    "        #calculate the threshold for the centralized release\n",
    "        lThres <- local_tCalculation(n=sSize, d=10, epsilon=eps);\n",
    "        lDPInd <- localDP_SQAlg(xData = bootstrap[, 1:10], yData = bootstrap[['targetted']], \n",
    "                                 totEpsilon = eps, threshold = lThres);\n",
    "        #check if no columns were selected\n",
    "        while(length(lDPInd$indices) == 0){ #re-run release if feature set is empty\n",
    "            lDPInd <- localDP_SQAlg(xData = bootstrap[, 1:10], yData = bootstrap[['targetted']], \n",
    "                                 totEpsilon = eps, threshold = lThres);\n",
    "        }\n",
    "        \n",
    "        #get the predictors specified by the bootstrap\n",
    "        bootstrapPreds <- bootstrap[, lDPInd$indices];\n",
    "        if(length(lDPInd$indices) > 1){\n",
    "            #get predictions for bootstrapped sample. If conjunction of all predictors is 1,\n",
    "            #then prediction is 1.\n",
    "            local_yPreds <- (rowSums(bootstrapPreds) == length(lDPInd$indices) );\n",
    "        }else{ #handle case when there is just one predictor in set\n",
    "            local_yPreds <- bootstrapPreds;\n",
    "        }\n",
    "        \n",
    "        \n",
    "        #get the FP and FN rates for centralized release\n",
    "        cstats <- calcFPandFN(yTrue=bootstrap[['targetted']], yPreds=cent_yPreds);\n",
    "        #get the FP and FN rates for local release\n",
    "        lstats <- calcFPandFN(yTrue=bootstrap[['targetted']], yPreds=local_yPreds);\n",
    "        \n",
    "        resultsMatrix[r, ] <- c(sSize, cstats$fp, cstats$fn, cThres, lstats$fp, lstats$fn, lThres);\n",
    "#         resultsMatrix[r, ] <- c(sSize, cstats$fp, cstats$fn, cThres, 0, 0, 0)\n",
    "        r = r+1; #increment row counter\n",
    "    }\n",
    "}"
   ]
  },
  {
   "cell_type": "code",
   "execution_count": 33,
   "metadata": {
    "scrolled": false
   },
   "outputs": [
    {
     "data": {
      "text/html": [
       "<table>\n",
       "<thead><tr><th scope=col>n</th><th scope=col>central_FPR</th><th scope=col>central_FNR</th><th scope=col>central_thres</th><th scope=col>local_FPR</th><th scope=col>local_FNR</th><th scope=col>local_thres</th></tr></thead>\n",
       "<tbody>\n",
       "\t<tr><td>  100       </td><td>0.0000000   </td><td>1           </td><td>0.391202301 </td><td>0.0000000000</td><td>1.0000000   </td><td>0.1657890   </td></tr>\n",
       "\t<tr><td>  100       </td><td>0.0000000   </td><td>1           </td><td>0.391202301 </td><td>0.0000000000</td><td>1.0000000   </td><td>0.1657890   </td></tr>\n",
       "\t<tr><td>  100       </td><td>0.0000000   </td><td>1           </td><td>0.391202301 </td><td>0.0000000000</td><td>1.0000000   </td><td>0.1657890   </td></tr>\n",
       "\t<tr><td>  100       </td><td>0.0000000   </td><td>1           </td><td>0.391202301 </td><td>0.0000000000</td><td>1.0000000   </td><td>0.1657890   </td></tr>\n",
       "\t<tr><td>  100       </td><td>0.0000000   </td><td>1           </td><td>0.391202301 </td><td>0.0000000000</td><td>1.0000000   </td><td>0.1657890   </td></tr>\n",
       "\t<tr><td> 1000       </td><td>0.2913279   </td><td>0           </td><td>0.039120230 </td><td>0.0040650407</td><td>0.8854962   </td><td>0.2363217   </td></tr>\n",
       "\t<tr><td> 1000       </td><td>0.2948886   </td><td>0           </td><td>0.039120230 </td><td>0.0000000000</td><td>1.0000000   </td><td>0.2363217   </td></tr>\n",
       "\t<tr><td> 1000       </td><td>0.3168188   </td><td>0           </td><td>0.039120230 </td><td>0.0000000000</td><td>1.0000000   </td><td>0.2363217   </td></tr>\n",
       "\t<tr><td> 1000       </td><td>0.3021390   </td><td>0           </td><td>0.039120230 </td><td>0.0000000000</td><td>1.0000000   </td><td>0.2363217   </td></tr>\n",
       "\t<tr><td> 1000       </td><td>0.2917214   </td><td>0           </td><td>0.039120230 </td><td>0.0000000000</td><td>1.0000000   </td><td>0.2363217   </td></tr>\n",
       "\t<tr><td>10000       </td><td>0.2938376   </td><td>0           </td><td>0.003912023 </td><td>0.0000000000</td><td>1.0000000   </td><td>0.2586262   </td></tr>\n",
       "\t<tr><td>10000       </td><td>0.2952598   </td><td>0           </td><td>0.003912023 </td><td>0.0001339047</td><td>0.9996051   </td><td>0.2586262   </td></tr>\n",
       "\t<tr><td>10000       </td><td>0.2890127   </td><td>0           </td><td>0.003912023 </td><td>0.0000000000</td><td>1.0000000   </td><td>0.2586262   </td></tr>\n",
       "\t<tr><td>10000       </td><td>0.2988537   </td><td>0           </td><td>0.003912023 </td><td>0.0000000000</td><td>1.0000000   </td><td>0.2586262   </td></tr>\n",
       "\t<tr><td>10000       </td><td>0.2984021   </td><td>0           </td><td>0.003912023 </td><td>0.0000000000</td><td>1.0000000   </td><td>0.2586262   </td></tr>\n",
       "</tbody>\n",
       "</table>\n"
      ],
      "text/latex": [
       "\\begin{tabular}{r|lllllll}\n",
       " n & central\\_FPR & central\\_FNR & central\\_thres & local\\_FPR & local\\_FNR & local\\_thres\\\\\n",
       "\\hline\n",
       "\t   100        & 0.0000000    & 1            & 0.391202301  & 0.0000000000 & 1.0000000    & 0.1657890   \\\\\n",
       "\t   100        & 0.0000000    & 1            & 0.391202301  & 0.0000000000 & 1.0000000    & 0.1657890   \\\\\n",
       "\t   100        & 0.0000000    & 1            & 0.391202301  & 0.0000000000 & 1.0000000    & 0.1657890   \\\\\n",
       "\t   100        & 0.0000000    & 1            & 0.391202301  & 0.0000000000 & 1.0000000    & 0.1657890   \\\\\n",
       "\t   100        & 0.0000000    & 1            & 0.391202301  & 0.0000000000 & 1.0000000    & 0.1657890   \\\\\n",
       "\t  1000        & 0.2913279    & 0            & 0.039120230  & 0.0040650407 & 0.8854962    & 0.2363217   \\\\\n",
       "\t  1000        & 0.2948886    & 0            & 0.039120230  & 0.0000000000 & 1.0000000    & 0.2363217   \\\\\n",
       "\t  1000        & 0.3168188    & 0            & 0.039120230  & 0.0000000000 & 1.0000000    & 0.2363217   \\\\\n",
       "\t  1000        & 0.3021390    & 0            & 0.039120230  & 0.0000000000 & 1.0000000    & 0.2363217   \\\\\n",
       "\t  1000        & 0.2917214    & 0            & 0.039120230  & 0.0000000000 & 1.0000000    & 0.2363217   \\\\\n",
       "\t 10000        & 0.2938376    & 0            & 0.003912023  & 0.0000000000 & 1.0000000    & 0.2586262   \\\\\n",
       "\t 10000        & 0.2952598    & 0            & 0.003912023  & 0.0001339047 & 0.9996051    & 0.2586262   \\\\\n",
       "\t 10000        & 0.2890127    & 0            & 0.003912023  & 0.0000000000 & 1.0000000    & 0.2586262   \\\\\n",
       "\t 10000        & 0.2988537    & 0            & 0.003912023  & 0.0000000000 & 1.0000000    & 0.2586262   \\\\\n",
       "\t 10000        & 0.2984021    & 0            & 0.003912023  & 0.0000000000 & 1.0000000    & 0.2586262   \\\\\n",
       "\\end{tabular}\n"
      ],
      "text/markdown": [
       "\n",
       "| n | central_FPR | central_FNR | central_thres | local_FPR | local_FNR | local_thres |\n",
       "|---|---|---|---|---|---|---|\n",
       "|   100        | 0.0000000    | 1            | 0.391202301  | 0.0000000000 | 1.0000000    | 0.1657890    |\n",
       "|   100        | 0.0000000    | 1            | 0.391202301  | 0.0000000000 | 1.0000000    | 0.1657890    |\n",
       "|   100        | 0.0000000    | 1            | 0.391202301  | 0.0000000000 | 1.0000000    | 0.1657890    |\n",
       "|   100        | 0.0000000    | 1            | 0.391202301  | 0.0000000000 | 1.0000000    | 0.1657890    |\n",
       "|   100        | 0.0000000    | 1            | 0.391202301  | 0.0000000000 | 1.0000000    | 0.1657890    |\n",
       "|  1000        | 0.2913279    | 0            | 0.039120230  | 0.0040650407 | 0.8854962    | 0.2363217    |\n",
       "|  1000        | 0.2948886    | 0            | 0.039120230  | 0.0000000000 | 1.0000000    | 0.2363217    |\n",
       "|  1000        | 0.3168188    | 0            | 0.039120230  | 0.0000000000 | 1.0000000    | 0.2363217    |\n",
       "|  1000        | 0.3021390    | 0            | 0.039120230  | 0.0000000000 | 1.0000000    | 0.2363217    |\n",
       "|  1000        | 0.2917214    | 0            | 0.039120230  | 0.0000000000 | 1.0000000    | 0.2363217    |\n",
       "| 10000        | 0.2938376    | 0            | 0.003912023  | 0.0000000000 | 1.0000000    | 0.2586262    |\n",
       "| 10000        | 0.2952598    | 0            | 0.003912023  | 0.0001339047 | 0.9996051    | 0.2586262    |\n",
       "| 10000        | 0.2890127    | 0            | 0.003912023  | 0.0000000000 | 1.0000000    | 0.2586262    |\n",
       "| 10000        | 0.2988537    | 0            | 0.003912023  | 0.0000000000 | 1.0000000    | 0.2586262    |\n",
       "| 10000        | 0.2984021    | 0            | 0.003912023  | 0.0000000000 | 1.0000000    | 0.2586262    |\n",
       "\n"
      ],
      "text/plain": [
       "   n     central_FPR central_FNR central_thres local_FPR    local_FNR\n",
       "1    100 0.0000000   1           0.391202301   0.0000000000 1.0000000\n",
       "2    100 0.0000000   1           0.391202301   0.0000000000 1.0000000\n",
       "3    100 0.0000000   1           0.391202301   0.0000000000 1.0000000\n",
       "4    100 0.0000000   1           0.391202301   0.0000000000 1.0000000\n",
       "5    100 0.0000000   1           0.391202301   0.0000000000 1.0000000\n",
       "6   1000 0.2913279   0           0.039120230   0.0040650407 0.8854962\n",
       "7   1000 0.2948886   0           0.039120230   0.0000000000 1.0000000\n",
       "8   1000 0.3168188   0           0.039120230   0.0000000000 1.0000000\n",
       "9   1000 0.3021390   0           0.039120230   0.0000000000 1.0000000\n",
       "10  1000 0.2917214   0           0.039120230   0.0000000000 1.0000000\n",
       "11 10000 0.2938376   0           0.003912023   0.0000000000 1.0000000\n",
       "12 10000 0.2952598   0           0.003912023   0.0001339047 0.9996051\n",
       "13 10000 0.2890127   0           0.003912023   0.0000000000 1.0000000\n",
       "14 10000 0.2988537   0           0.003912023   0.0000000000 1.0000000\n",
       "15 10000 0.2984021   0           0.003912023   0.0000000000 1.0000000\n",
       "   local_thres\n",
       "1  0.1657890  \n",
       "2  0.1657890  \n",
       "3  0.1657890  \n",
       "4  0.1657890  \n",
       "5  0.1657890  \n",
       "6  0.2363217  \n",
       "7  0.2363217  \n",
       "8  0.2363217  \n",
       "9  0.2363217  \n",
       "10 0.2363217  \n",
       "11 0.2586262  \n",
       "12 0.2586262  \n",
       "13 0.2586262  \n",
       "14 0.2586262  \n",
       "15 0.2586262  "
      ]
     },
     "metadata": {},
     "output_type": "display_data"
    }
   ],
   "source": [
    "final_results <- as.data.frame(resultsMatrix);\n",
    "colnames(final_results) <- c(\"n\", \"central_FPR\", \"central_FNR\", \"central_thres\", \n",
    "                             \"local_FPR\", \"local_FNR\", \"local_thres\");\n",
    "\n",
    "final_results\n",
    "# write.csv(final_results, file='ctlDP_bootstrap.csv', row.names=FALSE);"
   ]
  },
  {
   "cell_type": "code",
   "execution_count": 34,
   "metadata": {},
   "outputs": [
    {
     "data": {
      "text/html": [
       "<table>\n",
       "<thead><tr><th scope=col>Group.1</th><th scope=col>n</th><th scope=col>central_FPR</th><th scope=col>central_FNR</th><th scope=col>central_thres</th><th scope=col>local_FPR</th><th scope=col>local_FNR</th><th scope=col>local_thres</th></tr></thead>\n",
       "<tbody>\n",
       "\t<tr><td>  100       </td><td>  100       </td><td>0.0000000   </td><td>1           </td><td>0.391202301 </td><td>0.000000e+00</td><td>1.0000000   </td><td>0.1657890   </td></tr>\n",
       "\t<tr><td> 1000       </td><td> 1000       </td><td>0.2993791   </td><td>0           </td><td>0.039120230 </td><td>8.130081e-04</td><td>0.9770992   </td><td>0.2363217   </td></tr>\n",
       "\t<tr><td>10000       </td><td>10000       </td><td>0.2950732   </td><td>0           </td><td>0.003912023 </td><td>2.678093e-05</td><td>0.9999210   </td><td>0.2586262   </td></tr>\n",
       "</tbody>\n",
       "</table>\n"
      ],
      "text/latex": [
       "\\begin{tabular}{r|llllllll}\n",
       " Group.1 & n & central\\_FPR & central\\_FNR & central\\_thres & local\\_FPR & local\\_FNR & local\\_thres\\\\\n",
       "\\hline\n",
       "\t   100        &   100        & 0.0000000    & 1            & 0.391202301  & 0.000000e+00 & 1.0000000    & 0.1657890   \\\\\n",
       "\t  1000        &  1000        & 0.2993791    & 0            & 0.039120230  & 8.130081e-04 & 0.9770992    & 0.2363217   \\\\\n",
       "\t 10000        & 10000        & 0.2950732    & 0            & 0.003912023  & 2.678093e-05 & 0.9999210    & 0.2586262   \\\\\n",
       "\\end{tabular}\n"
      ],
      "text/markdown": [
       "\n",
       "| Group.1 | n | central_FPR | central_FNR | central_thres | local_FPR | local_FNR | local_thres |\n",
       "|---|---|---|---|---|---|---|---|\n",
       "|   100        |   100        | 0.0000000    | 1            | 0.391202301  | 0.000000e+00 | 1.0000000    | 0.1657890    |\n",
       "|  1000        |  1000        | 0.2993791    | 0            | 0.039120230  | 8.130081e-04 | 0.9770992    | 0.2363217    |\n",
       "| 10000        | 10000        | 0.2950732    | 0            | 0.003912023  | 2.678093e-05 | 0.9999210    | 0.2586262    |\n",
       "\n"
      ],
      "text/plain": [
       "  Group.1 n     central_FPR central_FNR central_thres local_FPR    local_FNR\n",
       "1   100     100 0.0000000   1           0.391202301   0.000000e+00 1.0000000\n",
       "2  1000    1000 0.2993791   0           0.039120230   8.130081e-04 0.9770992\n",
       "3 10000   10000 0.2950732   0           0.003912023   2.678093e-05 0.9999210\n",
       "  local_thres\n",
       "1 0.1657890  \n",
       "2 0.2363217  \n",
       "3 0.2586262  "
      ]
     },
     "metadata": {},
     "output_type": "display_data"
    }
   ],
   "source": [
    "agg_final_results <- aggregate(final_results, by = list(final_results$n), FUN = mean);\n",
    "agg_final_results"
   ]
  },
  {
   "cell_type": "code",
   "execution_count": 35,
   "metadata": {},
   "outputs": [
    {
     "data": {
      "image/png": "[encoded data removed]",
      "text/plain": [
       "plot without title"
      ]
     },
     "metadata": {},
     "output_type": "display_data"
    }
   ],
   "source": [
    "library(ggplot2)\n",
    "# plot FPRs and FNRs for both mechanisms\n",
    "p1 <- ggplot(agg_final_results) + \n",
    "    geom_line(aes(x=agg_final_results$n, y=agg_final_results$central_FPR, color = \"Centralized FPR\")) +\n",
    "    geom_line(aes(x=agg_final_results$n, y=agg_final_results$central_FNR,, color = \"Centralized FNR\")) +\n",
    "    geom_line(aes(x=agg_final_results$n, y=agg_final_results$local_FPR, color = \"Local FPR\"), linetype = \"longdash\",) +\n",
    "    geom_line(aes(x=agg_final_results$n, y=agg_final_results$local_FNR, color = \"LocalFNR\"), linetype = \"longdash\",);\n",
    "\n",
    "p1 <- p1 + labs(x = \"n\", y = 'Rate', title = \n",
    "        'False Positive and False Negative rates for varying size of dataset, n\\n(Centralized and Local Models)') + \n",
    "    theme(plot.title = element_text(hjust = 0.5), legend.title = element_blank());\n",
    "\n",
    "options(repr.plot.width=10, repr.plot.height=4); #set plot dimensions\n",
    "p1"
   ]
  }
 ],
 "metadata": {
  "kernelspec": {
   "display_name": "R",
   "language": "R",
   "name": "ir"
  },
  "language_info": {
   "codemirror_mode": "r",
   "file_extension": ".r",
   "mimetype": "text/x-r-source",
   "name": "R",
   "pygments_lexer": "r",
   "version": "3.5.3"
  }
 },
 "nbformat": 4,
 "nbformat_minor": 2
}
