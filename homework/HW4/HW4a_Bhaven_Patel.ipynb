{
 "cells": [
  {
   "cell_type": "markdown",
   "metadata": {},
   "source": [
    "# HW4A: The Local Model\n",
    "\n",
    "### Bhaven Patel\n",
    "### 4/17/2019\n",
    "\n",
    "I worked with Anthony Rentsch, Lipika Ramaswamy, and Karina Huang on this homework.\n",
    "\n",
    "My code can be found on my [Github](https://github.com/bhavenp/cs208/blob/master/homework/HW4/HW4_Bhaven_Patel.ipynb)."
   ]
  },
  {
   "cell_type": "markdown",
   "metadata": {},
   "source": [
    "## Problem 1: Learning Conjunctions in the SQ Model"
   ]
  },
  {
   "cell_type": "markdown",
   "metadata": {},
   "source": [
    "### (a)"
   ]
  },
  {
   "cell_type": "markdown",
   "metadata": {},
   "source": [
    "### Centralized Version of SQ Model\n",
    "\n",
    "\n",
    "For the centralized version of the SQ model, I chose to calculate $p_j = P[x[j]=0 \\,\\wedge\\, y=1]$ for $j=1,...,d$. \n",
    "To do this, I create a \"conjunction matrix\" where the element at the $i$-th row ($i=1,...,n$) and the $j$-th column ($j=1,...,d$) contains an indicator as to whether $x_{ij}=0 \\wedge y_i=1$ in the original dataset. $p_j$ is just the mean of the $j$-th column in the conjunction matrix.\n",
    "\n",
    "Then, laplace noise is added to $p_j$ with a scale equal to $\\dfrac{GS}{\\tilde\\epsilon}$, where the global sensitivity $GS=\\dfrac{1}{n}$ and $\\tilde\\epsilon= \\dfrac{\\epsilon}{d}$. The $GS=\\dfrac{1}{n}$ because changing one value ($0\\rightarrow 1$ or $1\\rightarrow 0$) in the column $j$ changes $p_j$ by $\\dfrac{1}{n}$. Thus, every $p_j$ has a differentially private release $\\hat p_j$\n",
    "$$\n",
    "\\hat p_j = p_j + Lap\\left(\\dfrac{d}{n\\tilde\\epsilon}  \\right)\n",
    "$$\n",
    "\n",
    "Each $\\hat p_j$ is compared to a threshold $t$ to determine if the feature $j$ should be included in the set $\\hat S$ that is returned."
   ]
  },
  {
   "cell_type": "markdown",
   "metadata": {},
   "source": [
    "Below are the helper functions we generally use."
   ]
  },
  {
   "cell_type": "code",
   "execution_count": 1,
   "metadata": {},
   "outputs": [],
   "source": [
    "rm(list=ls())\t\t# Remove any objects in memory\n",
    "\n",
    "# Random draw from Laplace distribution\n",
    "#\n",
    "# mu numeric, center of the distribution\n",
    "# b numeric, spread\n",
    "# size integer, number of draws\n",
    "# \n",
    "# return Random draws from Laplace distribution\n",
    "# example:\n",
    "# \n",
    "# rlap(size=1000)\n",
    "\n",
    "rlap = function(mu=0, b=1, size=1) {\n",
    "    p <- runif(size) - 0.5\n",
    "    draws <- mu - b * sgn(p) * log(1 - 2 * abs(p))\n",
    "    return(draws)\n",
    "}\n",
    "\n",
    "# Sign function\n",
    "# \n",
    "# Function to determine what the sign of the passed values should be.\n",
    "#\n",
    "# x numeric, value or vector or values\n",
    "# return The sign of passed values\n",
    "# example:\n",
    "#\n",
    "# sgn(rnorm(10))\n",
    "\n",
    "sgn <- function(x) {\n",
    "    return(ifelse(x < 0, -1, 1))\n",
    "}"
   ]
  },
  {
   "cell_type": "code",
   "execution_count": 2,
   "metadata": {},
   "outputs": [],
   "source": [
    "##function to create the matrix that holds an indicator if x_j==0 & y==1\n",
    "createConjunctionMat <- function(xData, yData){\n",
    "    #create matrix to hold indicator if x_j==0 & y==1\n",
    "    result_matrix = matrix(0, nrow=nrow(xData), ncol=ncol(xData));\n",
    "    for(i in 1:nrow(xData)){\n",
    "        if(yData[i] == 1){ #only need to consider row if y=1\n",
    "            result_matrix[i, ] <- (xData[i, ] == 0); #check if x_j == 0\n",
    "        }\n",
    "    }\n",
    "    return(result_matrix);\n",
    "}\n",
    "\n",
    "#function to calculate DP-releases for each probability\n",
    "probRelease <- function(xMat, epsilon=1.0){\n",
    "    probs <- colMeans(xMat); #calculate true probabilities\n",
    "    sensitivity <- 1 / nrow(xMat); #sensitivity is 1/n\n",
    "    scale <- sensitivity / epsilon;\n",
    "    dpProbs <- probs + rlap(mu=0, b=scale, size=length(probs)); #add laplace noise to the true probabilities\n",
    "\n",
    "\treturn(list(release=dpProbs, true=probs) );\n",
    "}\n",
    "\n",
    "#function that ties together the different parts for doing a DP release of the probabilities for a \n",
    "## xData: matrix of {0,1}\n",
    "## yData: vector of {0,1}, same length as number of rows in xData\n",
    "## epsilon: total privacy-loss parameter. This will get split up by the number of columns in xData that \n",
    "##          we must release probabilities for\n",
    "## returns a list containing a vector of the indices corresponding to the columns of xData that predict yData well,\n",
    "## a vector of the DP released probabilities calculated for each column, and a vector of the true probabilities\n",
    "\n",
    "centrlDP_SQAlg <- function(xData, yData, totEpsilon=1.0, threshold=1e-4){\n",
    "    pMatrix <- createConjunctionMat(xData=xData, yData=yData); #create conjunction matrix\n",
    "\n",
    "    dpRelease <- probRelease(pMatrix, epsilon = totEpsilon/ncol(xData) ); #get DP release of probabilities\n",
    "    indices <- which(dpRelease$release < threshold); #get indices with probability less than threshold\n",
    "    return(list(indices=indices, dpProbs=dpRelease$release, trueProbs=dpRelease$true) );\n",
    "}"
   ]
  },
  {
   "cell_type": "markdown",
   "metadata": {},
   "source": [
    "Below I show that my centralized version of the SQ algorithm works for the *hw4testdata.csv* file."
   ]
  },
  {
   "cell_type": "code",
   "execution_count": 3,
   "metadata": {},
   "outputs": [
    {
     "data": {
      "text/html": [
       "<dl>\n",
       "\t<dt>$indices</dt>\n",
       "\t\t<dd><ol class=list-inline>\n",
       "\t<li>1</li>\n",
       "\t<li>2</li>\n",
       "\t<li>3</li>\n",
       "</ol>\n",
       "</dd>\n",
       "\t<dt>$dpProbs</dt>\n",
       "\t\t<dd><ol class=list-inline>\n",
       "\t<li>0.00017696776001586</li>\n",
       "\t<li>0.000207267112552507</li>\n",
       "\t<li>-5.58128522710643e-05</li>\n",
       "\t<li>0.0620781446228576</li>\n",
       "\t<li>0.0605533364523468</li>\n",
       "\t<li>0.0611838940326656</li>\n",
       "\t<li>0.0616140889946548</li>\n",
       "\t<li>0.061668819397531</li>\n",
       "\t<li>0.0608976855174546</li>\n",
       "\t<li>0.0610927852373104</li>\n",
       "</ol>\n",
       "</dd>\n",
       "\t<dt>$trueProbs</dt>\n",
       "\t\t<dd><ol class=list-inline>\n",
       "\t<li>0</li>\n",
       "\t<li>0</li>\n",
       "\t<li>0</li>\n",
       "\t<li>0.06197</li>\n",
       "\t<li>0.06052</li>\n",
       "\t<li>0.06118</li>\n",
       "\t<li>0.06155</li>\n",
       "\t<li>0.0618</li>\n",
       "\t<li>0.06086</li>\n",
       "\t<li>0.06104</li>\n",
       "</ol>\n",
       "</dd>\n",
       "</dl>\n"
      ],
      "text/latex": [
       "\\begin{description}\n",
       "\\item[\\$indices] \\begin{enumerate*}\n",
       "\\item 1\n",
       "\\item 2\n",
       "\\item 3\n",
       "\\end{enumerate*}\n",
       "\n",
       "\\item[\\$dpProbs] \\begin{enumerate*}\n",
       "\\item 0.00017696776001586\n",
       "\\item 0.000207267112552507\n",
       "\\item -5.58128522710643e-05\n",
       "\\item 0.0620781446228576\n",
       "\\item 0.0605533364523468\n",
       "\\item 0.0611838940326656\n",
       "\\item 0.0616140889946548\n",
       "\\item 0.061668819397531\n",
       "\\item 0.0608976855174546\n",
       "\\item 0.0610927852373104\n",
       "\\end{enumerate*}\n",
       "\n",
       "\\item[\\$trueProbs] \\begin{enumerate*}\n",
       "\\item 0\n",
       "\\item 0\n",
       "\\item 0\n",
       "\\item 0.06197\n",
       "\\item 0.06052\n",
       "\\item 0.06118\n",
       "\\item 0.06155\n",
       "\\item 0.0618\n",
       "\\item 0.06086\n",
       "\\item 0.06104\n",
       "\\end{enumerate*}\n",
       "\n",
       "\\end{description}\n"
      ],
      "text/markdown": [
       "$indices\n",
       ":   1. 1\n",
       "2. 2\n",
       "3. 3\n",
       "\n",
       "\n",
       "\n",
       "$dpProbs\n",
       ":   1. 0.00017696776001586\n",
       "2. 0.000207267112552507\n",
       "3. -5.58128522710643e-05\n",
       "4. 0.0620781446228576\n",
       "5. 0.0605533364523468\n",
       "6. 0.0611838940326656\n",
       "7. 0.0616140889946548\n",
       "8. 0.061668819397531\n",
       "9. 0.0608976855174546\n",
       "10. 0.0610927852373104\n",
       "\n",
       "\n",
       "\n",
       "$trueProbs\n",
       ":   1. 0\n",
       "2. 0\n",
       "3. 0\n",
       "4. 0.06197\n",
       "5. 0.06052\n",
       "6. 0.06118\n",
       "7. 0.06155\n",
       "8. 0.0618\n",
       "9. 0.06086\n",
       "10. 0.06104\n",
       "\n",
       "\n",
       "\n",
       "\n",
       "\n"
      ],
      "text/plain": [
       "$indices\n",
       "[1] 1 2 3\n",
       "\n",
       "$dpProbs\n",
       " [1]  1.769678e-04  2.072671e-04 -5.581285e-05  6.207814e-02  6.055334e-02\n",
       " [6]  6.118389e-02  6.161409e-02  6.166882e-02  6.089769e-02  6.109279e-02\n",
       "\n",
       "$trueProbs\n",
       " [1] 0.00000 0.00000 0.00000 0.06197 0.06052 0.06118 0.06155 0.06180 0.06086\n",
       "[10] 0.06104\n"
      ]
     },
     "metadata": {},
     "output_type": "display_data"
    }
   ],
   "source": [
    "#read in the test data\n",
    "mydata <- read.csv('../../data/hw4testdata.csv');\n",
    "# mydata[0:10, ]\n",
    "\n",
    "#get set of features to use as predictors\n",
    "set.seed(42);\n",
    "centrlDP_SQAlg(xData = mydata[, 1:10], yData = mydata[['y']], totEpsilon = 1.0, threshold = .01)"
   ]
  },
  {
   "cell_type": "markdown",
   "metadata": {},
   "source": [
    "### Local Model"
   ]
  },
  {
   "cell_type": "markdown",
   "metadata": {},
   "source": [
    "For the local model implementation of the SQ algorithm, I begin by creating a \"conjunction matrix\" where the element in the $i$-th row ($i=1,...,n$) and the $j$-th column ($j=1,...,d$) contains an indicator $\\hat x_{ij}$ as to whether $x_{ij}=0 \\wedge y_i=1$ in the original dataset. This is the same step I took for the centralized DP version of the SQ algorithm.  <br>\n",
    "\n",
    "Then, I perform a randomized response on each row of the conjunction matrix. My $\\epsilon$ is split into $\\tilde\\epsilon= \\dfrac{\\epsilon}{d}$, and each indicator variable $\\hat x_{ij}$ in the row is returned as follows \n",
    "$$\n",
    "Q(\\hat x_{ij}) = \n",
    "\\begin{cases}\n",
    "\\hat x_{ij}, &w.p. \\:\\: \\dfrac{e^{\\tilde\\epsilon} }{1 + e^{\\tilde\\epsilon}} \\\\\n",
    "\\\\\n",
    "1 - \\hat x_{ij}, &w.p. \\:\\: \\dfrac{1}{1 + e^{\\tilde\\epsilon} }\\\\\n",
    "\\end{cases}\n",
    "$$\n",
    "\n",
    "Using the randomized responses on the \"conjunction matrix\", I can calculate $\\hat p_j$ by taking the mean of each column $j$ in the randomized-response matrix. However, we need to calculate the correction factor to apply to the $\\hat p_j$s because want $E[\\hat p_j]=p_j$. We can begin with:\n",
    "$$\\begin{align}\n",
    "E[\\hat p_j] &= p_j\\\\\n",
    "\\\\\n",
    "E \\left[\\dfrac{1}{n} \\sum_{i=1}^n Q(\\hat x_{ij}) \\right] &= \\dfrac{1}{n} \\sum_{i=1}^n \\hat x_{ij}\\\\\n",
    "\\\\\n",
    "\\dfrac{1}{n} \\sum_{i=1}^n  E \\left[ Q(\\hat x_{ij}) \\right] &= \\dfrac{1}{n} \\sum_{i=1}^n \\hat x_{ij}\\\\\n",
    "\\\\\n",
    "\\sum_{i=1}^n  E \\left[ Q(\\hat x_{ij}) \\right] &= \\sum_{i=1}^n \\hat x_{ij}\\\\\n",
    "\\end{align}$$\n",
    "\n",
    "From the definition of $Q(\\hat x_{ij})$ above, we can calculate $E \\left[ Q(\\hat x_{ij}) \\right]$:\n",
    "$$\\begin{align}\n",
    "E \\left[ Q(\\hat x_{ij}) \\right] &= \\hat x_{ij}\\dfrac{e^\\tilde\\epsilon}{1 + e^\\tilde\\epsilon } + (1 - \\hat x_{ij})\\dfrac{ 1}{1 + e^\\tilde\\epsilon }\\\\\n",
    "&= \\hat x_{ij} \\dfrac{e^\\tilde\\epsilon - 1}{1 + e^\\tilde\\epsilon } + \\dfrac{1}{1 + e^\\tilde\\epsilon }\n",
    "\\end{align}$$\n",
    "\n",
    "We can substitute this result in to get\n",
    "$$\\begin{align}\n",
    "\\sum_{i=1}^n  E \\left[ Q(\\hat x_{ij}) \\right] &= \\sum_{i=1}^n \\hat x_{ij}\\\\\n",
    "\\\\\n",
    "\\sum_{i=1}^n \\left( \\hat x_{ij} \\dfrac{e^\\tilde\\epsilon - 1}{1 + e^\\tilde\\epsilon } + \\dfrac{1}{1 + e^\\tilde\\epsilon } \\right) &= \\sum_{i=1}^n \\hat x_{ij}\\\\\n",
    "\\\\\n",
    "\\dfrac{n}{1 + e^\\tilde\\epsilon } + \\dfrac{e^\\tilde\\epsilon - 1}{1 + e^\\tilde\\epsilon } \\sum_{i=1}^n \\hat x_{ij} &= \\sum_{i=1}^n \\hat x_{ij}\\\\\n",
    "\\end{align}$$\n",
    "\n",
    "From this result, we see that we need to multiply the left side by some factor $c$ and add a quantity $d$ so that it is equivalent to the right side.\n",
    "$$\n",
    "d + c\\cdot(\\dfrac{n}{1 + e^\\tilde\\epsilon } + \\dfrac{e^\\tilde\\epsilon - 1}{1 + e^\\tilde\\epsilon } \\sum_{i=1}^n \\hat x_{ij}) = \\sum_{i=1}^n \\hat x_{ij}\\\\\n",
    "$$\n",
    "If $c=\\dfrac{1 + e^\\tilde\\epsilon }{e^\\tilde\\epsilon - 1}$ and $d=\\dfrac{-n}{e^\\tilde\\epsilon -1}$, then the two sides of the equation are equivalent. Thus, we find that we must correct the sum $\\sum_{i=1}^n \\hat x_{ij}$ of each column $j$ by multiplying the sum by $\\dfrac{1 + e^\\tilde\\epsilon }{e^\\tilde\\epsilon - 1}$ and adding a factor $\\dfrac{-n}{e^\\tilde\\epsilon -1}$. We can then divide each of these corrected sums by $n$ to get our $\\hat p_j$s.\n",
    "\n",
    "Each $\\hat p_j$ is compared to a threshold $t$ to determine if the feature $j$ should be included in the set $\\hat S$ that is returned."
   ]
  },
  {
   "cell_type": "code",
   "execution_count": 3,
   "metadata": {},
   "outputs": [],
   "source": [
    "#local release mechanism works for x as a vector. Adjusted from J. Honaker's localRelease.ipynb.\n",
    "##\n",
    "## x: vector of {0,1} for which local release must be performed\n",
    "## values: vector of length two containing the possible values in vector 'x'\n",
    "## epsilon: privacy-loss parameter to use for flipping values in 'x'\n",
    "## returns a vector\n",
    "\n",
    "localReleaseVec <- function(x, values=c(0,1), epsilon){\n",
    "\tdraws <- runif(n=length(x), min=0, max=1); #get number of draws equal to length of the vector\n",
    "\tcutoff <- 1/(1+exp(epsilon));\n",
    "    release <- x; #make a copy of the vector x\n",
    "    for(i in 1:length(x)){\n",
    "        if(draws[i] < cutoff){ #we are going to flip the our value\n",
    "            release[i] <- values[ !values %in% x[i] ] ; #create flag with (!values %in% x) for opposite value of 'x'\n",
    "        }\n",
    "    } \n",
    "    return(release);\n",
    "}\n",
    "\n",
    "\n",
    "#function that ties together the different parts for doing a DP release of the probabilities for a local model\n",
    "## xData: matrix of {0,1}\n",
    "## yData: vector of {0,1}, same length as number of rows in xData\n",
    "## epsilon: total privacy-loss parameter. This will get split up by the number of columns in xData that \n",
    "##          we must release probabilities for\n",
    "## returns a list containing a vector of the indices corresponding to the columns of xData that predict yData well\n",
    "## and a vector of the DP released probabilities calculated for each column, and a vector of the true probabilities\n",
    "\n",
    "localDP_SQAlg <- function(xData, yData, totEpsilon=1.0, threshold=1e-4){\n",
    "    cjMatrix <- createConjunctionMat(xData=xData, yData=yData);#create conjunction matrix\n",
    "    trueProbs <- colMeans(cjMatrix); #calculate the true probabilities for each column/feature\n",
    "    epsSplit <- totEpsilon / ncol(xData); #divide the total epsilon by the number of features\n",
    "\n",
    "    #perform local release of conjunction matrix \n",
    "    lrMatrix <- cjMatrix; #create a copy of the conjunction matrix\n",
    "    for(r in 1:nrow(cjMatrix)){\n",
    "        lrMatrix[r, ] <- localReleaseVec(x=cjMatrix[r, ], values = c(0,1), epsilon = epsSplit);\n",
    "    }\n",
    "    \n",
    "    dpSums <- colSums(lrMatrix); #get sums of the local release of the conjunction matrix\n",
    "    #perform correction\n",
    "    inflation <- (exp(epsSplit) + 1) / (exp(epsSplit) - 1); #coefficient to multiply each sum by\n",
    "    n <- nrow(xData); #get number of rows\n",
    "    additive <- -n / (exp(epsSplit) - 1); #additive factor to apply for because data is {0,1}\n",
    "\n",
    "    dpProbs <- (dpSums * inflation + additive) / n;\n",
    "\n",
    "    indices <- which(dpProbs < threshold); #get indices with probability less than threshold\n",
    "    return(list(indices=indices, dpProbs=dpProbs, trueProbs=trueProbs));\n",
    "}"
   ]
  },
  {
   "cell_type": "markdown",
   "metadata": {},
   "source": [
    "Below I show that my local version of the SQ algorithm works for the *hw4testdata.csv* file."
   ]
  },
  {
   "cell_type": "code",
   "execution_count": 5,
   "metadata": {},
   "outputs": [
    {
     "data": {
      "text/html": [
       "<dl>\n",
       "\t<dt>$indices</dt>\n",
       "\t\t<dd><ol class=list-inline>\n",
       "\t<li>1</li>\n",
       "\t<li>2</li>\n",
       "\t<li>3</li>\n",
       "</ol>\n",
       "</dd>\n",
       "\t<dt>$dpProbs</dt>\n",
       "\t\t<dd><ol class=list-inline>\n",
       "\t<li>-0.0102247625446308</li>\n",
       "\t<li>-0.0560629228517006</li>\n",
       "\t<li>-0.0114257623780041</li>\n",
       "\t<li>0.0420187302070949</li>\n",
       "\t<li>0.049424895846229</li>\n",
       "\t<li>0.0452213964294235</li>\n",
       "\t<li>0.0600337277076906</li>\n",
       "\t<li>0.0822522246250906</li>\n",
       "\t<li>0.0648377270411828</li>\n",
       "\t<li>0.0372147308736027</li>\n",
       "</ol>\n",
       "</dd>\n",
       "\t<dt>$trueProbs</dt>\n",
       "\t\t<dd><ol class=list-inline>\n",
       "\t<li>0</li>\n",
       "\t<li>0</li>\n",
       "\t<li>0</li>\n",
       "\t<li>0.06197</li>\n",
       "\t<li>0.06052</li>\n",
       "\t<li>0.06118</li>\n",
       "\t<li>0.06155</li>\n",
       "\t<li>0.0618</li>\n",
       "\t<li>0.06086</li>\n",
       "\t<li>0.06104</li>\n",
       "</ol>\n",
       "</dd>\n",
       "</dl>\n"
      ],
      "text/latex": [
       "\\begin{description}\n",
       "\\item[\\$indices] \\begin{enumerate*}\n",
       "\\item 1\n",
       "\\item 2\n",
       "\\item 3\n",
       "\\end{enumerate*}\n",
       "\n",
       "\\item[\\$dpProbs] \\begin{enumerate*}\n",
       "\\item -0.0102247625446308\n",
       "\\item -0.0560629228517006\n",
       "\\item -0.0114257623780041\n",
       "\\item 0.0420187302070949\n",
       "\\item 0.049424895846229\n",
       "\\item 0.0452213964294235\n",
       "\\item 0.0600337277076906\n",
       "\\item 0.0822522246250906\n",
       "\\item 0.0648377270411828\n",
       "\\item 0.0372147308736027\n",
       "\\end{enumerate*}\n",
       "\n",
       "\\item[\\$trueProbs] \\begin{enumerate*}\n",
       "\\item 0\n",
       "\\item 0\n",
       "\\item 0\n",
       "\\item 0.06197\n",
       "\\item 0.06052\n",
       "\\item 0.06118\n",
       "\\item 0.06155\n",
       "\\item 0.0618\n",
       "\\item 0.06086\n",
       "\\item 0.06104\n",
       "\\end{enumerate*}\n",
       "\n",
       "\\end{description}\n"
      ],
      "text/markdown": [
       "$indices\n",
       ":   1. 1\n",
       "2. 2\n",
       "3. 3\n",
       "\n",
       "\n",
       "\n",
       "$dpProbs\n",
       ":   1. -0.0102247625446308\n",
       "2. -0.0560629228517006\n",
       "3. -0.0114257623780041\n",
       "4. 0.0420187302070949\n",
       "5. 0.049424895846229\n",
       "6. 0.0452213964294235\n",
       "7. 0.0600337277076906\n",
       "8. 0.0822522246250906\n",
       "9. 0.0648377270411828\n",
       "10. 0.0372147308736027\n",
       "\n",
       "\n",
       "\n",
       "$trueProbs\n",
       ":   1. 0\n",
       "2. 0\n",
       "3. 0\n",
       "4. 0.06197\n",
       "5. 0.06052\n",
       "6. 0.06118\n",
       "7. 0.06155\n",
       "8. 0.0618\n",
       "9. 0.06086\n",
       "10. 0.06104\n",
       "\n",
       "\n",
       "\n",
       "\n",
       "\n"
      ],
      "text/plain": [
       "$indices\n",
       "[1] 1 2 3\n",
       "\n",
       "$dpProbs\n",
       " [1] -0.01022476 -0.05606292 -0.01142576  0.04201873  0.04942490  0.04522140\n",
       " [7]  0.06003373  0.08225222  0.06483773  0.03721473\n",
       "\n",
       "$trueProbs\n",
       " [1] 0.00000 0.00000 0.00000 0.06197 0.06052 0.06118 0.06155 0.06180 0.06086\n",
       "[10] 0.06104\n"
      ]
     },
     "metadata": {},
     "output_type": "display_data"
    }
   ],
   "source": [
    "set.seed(42);\n",
    "mydata <- read.csv('../../data/hw4testdata.csv');\n",
    "localDP_SQAlg(xData = mydata[, 1:10], yData = mydata[['y']], totEpsilon = 1.0, threshold = 0.01)"
   ]
  },
  {
   "cell_type": "markdown",
   "metadata": {},
   "source": [
    "### (b)"
   ]
  },
  {
   "cell_type": "markdown",
   "metadata": {},
   "source": [
    "### Centralized DP version of SQ algorithm\n",
    "\n",
    "I will refer to the $d$ columns in each dataset $x_i$ as features.<br>\n",
    "$P[\\hat S \\not\\supseteq S]$ is the probability that set $S$ contains a feature $j$ that $\\hat S$ does not. This equivalent to determining the probability that at least one of the features $j \\in S$ has DP-released $\\hat p_j$ that is greater than the threshold $t$ we specify. Thus, we get\n",
    "$$\n",
    "P[\\hat S \\not\\supseteq S] = \\sum_{j\\in S} P[\\hat p_j > t]\n",
    "$$\n",
    "\n",
    "For the centralized DP SQ algorithm, I chose $\\hat p_j = p_j + Lap\\left(\\dfrac{d}{n\\tilde\\epsilon}\\right)$. Additionally, we know that for each $j \\in S$, we have $p_j =0$. Thus, we get\n",
    "$$\\begin{align}\n",
    "P[\\hat S \\not\\supseteq S] &= \\sum_{j\\in S} P[p_j + Lap\\left(\\dfrac{d}{n\\tilde\\epsilon}\\right) > t]\\\\\n",
    "&= \\sum_{j\\in S} P[0 + Lap\\left(\\dfrac{d}{n\\tilde\\epsilon}\\right) > t]\n",
    "\\end{align}$$\n",
    "\n",
    "This can be equation can be expanded to be in terms of $t$, $n$, $\\epsilon$, and $|S|$ because we can expand the probability that a value chosen from the Laplace distribution is greater than $t$ and $\\sum_{j\\in S}=|S|$:\n",
    "$$\\begin{align}\n",
    "&= \\sum_{j\\in S} P[0 + Lap\\left(\\dfrac{d}{n\\tilde\\epsilon}\\right) > t] \\\\\n",
    "&= |S| \\cdot \\int_t^{\\infty} \\dfrac{e^{(-|y|\\cdot n\\epsilon / d)}\\cdot n\\epsilon}{2d} dy\\\\\n",
    "\\end{align}$$\n",
    "\n",
    "Now, if we say that $P[\\hat S \\not\\supseteq S] \\leq 0.1$, we can find an upper bound on what the threshold $t$ should be:\n",
    "$$\\begin{align}\n",
    "P[\\hat S \\not\\supseteq S] &\\leq 0.1\\\\\n",
    "\\\\\n",
    "|S| \\cdot \\int_t^{\\infty} \\dfrac{e^{(-|y|\\cdot n\\epsilon / d)}\\cdot n\\epsilon}{2d} dy &\\leq 0.1\\\\\n",
    "\\\\\n",
    "|S|\\dfrac{n\\epsilon}{2d} \\cdot \\int_t^{\\infty} e^{(-|y|\\cdot n\\epsilon / d)} dy &\\leq 0.1\\\\\n",
    "\\\\\n",
    "\\\\\n",
    "\\int_t^{\\infty} e^{(-|y|\\cdot n\\epsilon / d)} dy &\\leq \\dfrac{(0.1)\\cdot 2d}{|S|n\\epsilon}\\\\\n",
    "\\\\\n",
    "\\left[\\dfrac{-d}{n\\epsilon} e^{(-y\\cdot n\\epsilon / d)} \\right]_t^{\\infty} &\\leq \\dfrac{(0.1)\\cdot 2d}{|S|n\\epsilon}\\\\\n",
    "\\\\\n",
    "\\dfrac{-d}{n\\epsilon} \\left[ e^{(-\\infty \\cdot n\\epsilon / d)} - e^{(-t \\cdot n\\epsilon / d)} \\right] &\\leq \\dfrac{(0.1)\\cdot 2d}{|S|n\\epsilon}\\\\\n",
    "\\\\\n",
    "-1 \\left[ 0 - e^{(-t \\cdot n\\epsilon / d)} \\right] &\\leq \\dfrac{(0.2)}{|S|}\\\\\n",
    "\\\\\n",
    "e^{(-t \\cdot n\\epsilon / d)} &\\leq \\dfrac{(0.2)}{|S|}\\\\\n",
    "\\\\\n",
    "-t  &\\geq \\dfrac{d}{n\\epsilon} \\log\\left(\\dfrac{(0.2)}{|S|} \\right)\\\\\n",
    "\\\\\n",
    "t  &\\leq \\dfrac{-d}{n\\epsilon} \\log\\left(\\dfrac{(0.2)}{|S|} \\right)\\\\\n",
    "\\end{align}$$\n",
    "\n",
    "Thus, for the centralized DP SQ algorithm, we find that $t  \\leq \\dfrac{-d}{n\\epsilon} \\log\\left(\\dfrac{(0.2)}{|S|} \\right)$ if we want $P[\\hat S \\not\\supseteq S] \\leq 0.1$."
   ]
  },
  {
   "cell_type": "markdown",
   "metadata": {},
   "source": [
    "### Local DP version of SQ algorithm\n",
    "\n",
    "I will refer to the $d$ columns in each dataset $x_i$ as features.<br>\n",
    "$P[\\hat S \\not\\supseteq S]$ is the probability that set $S$ contains a feature $j$ that $\\hat S$ does not. This equivalent to determining the probability that at least one of the features $j \\in S$ has DP-released $\\hat p_j$ that is greater than the threshold $t$ we specify. Thus, we get\n",
    "$$\n",
    "P[\\hat S \\not\\supseteq S] = \\sum_{j\\in S} P[\\hat p_j > t]\n",
    "$$\n",
    "\n",
    "In the local DP version of the SQ algorithm, $\\hat p_j$ is calculated from the randomized-response \"conjunction matrix\". Thus, $\\hat p_j = \\dfrac{1}{n} \\sum_{i=1}^n \\hat x_{ij}$, where $\\hat x_{ij}$ is the value in the $i$-th row and $j$-th column of the in the randomized-response \"conjunction matrix\". So we can expand $P[\\hat p_j > t]$ as follows\n",
    "$$\\begin{align}\n",
    "\\sum_{j\\in S} P[\\hat p_j > t] &= \\sum_{j\\in S} P \\left[ \\dfrac{1}{n} \\sum_{i=1}^n \\hat x_{ij} > t \\right]\\\\\n",
    "\\\\\n",
    "&= \\sum_{j\\in S} P \\left[ \\sum_{i=1}^n \\hat x_{ij} > nt \\right]\\\\\n",
    "\\end{align}$$\n",
    "\n",
    "Because $j \\in S$, in the original \"conjunction matrix\" the entire column $j$ would be zeroes. However after randomized-response, the zero values in column $j$ may have been flipped to 1s, so\n",
    "$$\n",
    "P[\\hat x_{ij} = 1] \\sim \\text{Bernoulli}\\left( \\dfrac{1}{1+e^{\\epsilon}} \\right)\\\\\n",
    "\\sum_{i=1}^n \\hat x_{ij} \\sim \\text{Bin}\\left(n, \\dfrac{1}{1+e^{\\epsilon}} \\right)\n",
    "$$\n",
    "\n",
    "We can approximate the Binomial distribution using a normal distribution with the mean and the variance of the Binomial distribution:\n",
    "$$\n",
    "\\sum_{i=1}^n \\hat x_{ij} \\sim N( n\\left(\\dfrac{1}{1+e^\\epsilon}\\right), n\\left(\\dfrac{1}{1+e^\\epsilon}\\right)\\left(\\dfrac{e^\\epsilon}{1+e^\\epsilon}\\right) )\n",
    "$$\n",
    "\n",
    "We can now standardize $P \\left[ \\sum_{i=1}^n \\hat x_{ij} > nt \\right]$ using the normal distribution:\n",
    "$$\n",
    "P \\left[ \\dfrac{\\sum_{i=1}^n \\hat x_{ij}-\\frac{n}{1+e^\\epsilon}}{\\sqrt{\\frac{ne^\\epsilon}{(1+e^\\epsilon)^2}} } \n",
    "> \\dfrac{nt-\\frac{n}{1+e^\\epsilon}}{\\sqrt{\\frac{ne^\\epsilon}{(1+e^\\epsilon)^2}}} \\right]\n",
    "= P \\left[ Z \n",
    "> \\dfrac{nt-\\frac{n}{1+e^\\epsilon}}{\\sqrt{\\frac{ne^\\epsilon}{(1+e^\\epsilon)^2}}} \\right]\n",
    "$$\n",
    "\n",
    "So we now have\n",
    "$$\\begin{align}\n",
    "\\sum_{j\\in S} P \\left[ \\sum_{i=1}^n \\hat x_{ij} > nt \\right] &= \\sum_{j\\in S} P \\left[ Z \n",
    "> \\dfrac{nt-\\frac{n}{1+e^\\epsilon}}{\\sqrt{\\frac{ne^\\epsilon}{(1+e^\\epsilon)^2}}} \\right]\\\\\n",
    "&= |S| \\cdot \\Phi \\left( \\dfrac{nt-\\frac{n}{1+e^\\epsilon}}{\\sqrt{\\frac{ne^\\epsilon}{(1+e^\\epsilon)^2}}} \\right)\n",
    "\\end{align}$$\n",
    "\n",
    "Thus for the local DP version of the SQ algorithm $P[\\hat S \\not\\supseteq S] = |S| \\cdot \\Phi \\left( \\dfrac{nt-\\frac{n}{1+e^\\epsilon}}{\\sqrt{\\frac{ne^\\epsilon}{(1+e^\\epsilon)^2}}} \\right)$."
   ]
  },
  {
   "cell_type": "markdown",
   "metadata": {},
   "source": [
    "Now, if we say that $P[\\hat S \\not\\supseteq S] \\leq 0.1$, we can find an upper bound on what the threshold $t$ should be:\n",
    "$$\\begin{align}\n",
    "P[\\hat S \\not\\supseteq S] &\\leq 0.1\\\\\n",
    "\\\\\n",
    "|S| \\cdot \\Phi \\left( \\dfrac{nt-\\frac{n}{1+e^\\epsilon}}{\\sqrt{\\frac{ne^\\epsilon}{(1+e^\\epsilon)^2}}} \\right) &\\leq 0.1\\\\\n",
    "\\\\\n",
    "|S| \\cdot \\Phi \\left( \\dfrac{\\sqrt{n}t(1+e^\\epsilon)-\\sqrt{n}}{\\sqrt{e^\\epsilon}} \\right) &\\leq 0.1\\\\\n",
    "\\end{align}$$\n",
    "$|S| \\leq d$ so we get\n",
    "$$\\begin{align}\n",
    "d \\cdot \\Phi \\left( \\dfrac{\\sqrt{n}t(1+e^\\epsilon)-\\sqrt{n}}{\\sqrt{e^\\epsilon}} \\right) &\\leq 0.1\\\\\n",
    "\\\\\n",
    "\\Phi \\left( \\dfrac{\\sqrt{n}t(1+e^\\epsilon)-\\sqrt{n}}{\\sqrt{e^\\epsilon}} \\right) &\\leq \\dfrac{0.1}{d}\\\\\n",
    "\\dfrac{\\sqrt{n}t(1+e^\\epsilon)-\\sqrt{n}}{\\sqrt{e^\\epsilon}} &\\leq \\Phi^{-1}\\left(\\dfrac{0.1}{d}\\right) \\\\\n",
    "\\sqrt{n}t(1+e^\\epsilon) &\\leq \\sqrt{e^\\epsilon}\\Phi^{-1}\\left(\\dfrac{0.1}{d}\\right) + \\sqrt{n} \\\\\n",
    "t &\\leq \\dfrac{\\sqrt{e^\\epsilon}\\Phi^{-1}\\left(\\dfrac{0.1}{d}\\right) + \\sqrt{n}} {\\sqrt{n}(1+e^\\epsilon)} \\\\\n",
    "\\end{align}$$\n",
    "\n",
    "Thus, for the local DP version of the SQ algorithm, we find that $t  \\leq \\dfrac{\\sqrt{e^\\epsilon}\\Phi^{-1}\\left(\\dfrac{0.1}{d}\\right) + \\sqrt{n}} {\\sqrt{n}(1+e^\\epsilon)}$ if we want $P[\\hat S \\not\\supseteq S] \\leq 0.1$."
   ]
  },
  {
   "cell_type": "markdown",
   "metadata": {},
   "source": [
    "### (c)"
   ]
  },
  {
   "cell_type": "markdown",
   "metadata": {},
   "source": [
    "### Centralized DP version SQ algorithm\n",
    "\n",
    "From part (b), we know that the upper bound on the threshold $t$ is $t \\leq \\dfrac{-d}{n\\epsilon} \\log\\left(\\dfrac{(0.2)}{|S|} \\right)$. For the *CaPUMS5full.csv* data, we can calculate the upper bound using $n=1223992$, $d=10$, $\\epsilon = 1.0$, and $|S|=d=10$.\n",
    "$$\\begin{align}\n",
    "t &= \\dfrac{-d}{n\\epsilon} \\log\\left(\\dfrac{(0.2)}{|S|} \\right)\\\\\n",
    "&= \\dfrac{10}{(1223992)(1.0)} \\log\\left(\\dfrac{(0.2)}{10} \\right)\\\\\n",
    "&= 3.20 \\cdot 10^{-5}\n",
    "\\end{align}$$\n",
    "\n",
    "Thus for the *CaPUMS5full.csv* dataset, the upper bound on the threshold $t$ is $3.20 \\cdot 10^{-5}$. I will use this threshold to show that my centralized DP SQ algorithm works on the *CaPUMS5full.csv* dataset."
   ]
  },
  {
   "cell_type": "code",
   "execution_count": 4,
   "metadata": {},
   "outputs": [
    {
     "name": "stdout",
     "output_type": "stream",
     "text": [
      "[1] \"1223992  rows in CA PUMS\"\n"
     ]
    },
    {
     "data": {
      "text/html": [
       "<table>\n",
       "<thead><tr><th scope=col>sex</th><th scope=col>married</th><th scope=col>black</th><th scope=col>asian</th><th scope=col>collegedegree</th><th scope=col>employed</th><th scope=col>militaryservice</th><th scope=col>uscitizen</th><th scope=col>disability</th><th scope=col>englishability</th><th scope=col>blackfemale</th><th scope=col>targetted</th></tr></thead>\n",
       "<tbody>\n",
       "\t<tr><td>1</td><td>1</td><td>0</td><td>0</td><td>0</td><td>1</td><td>0</td><td>1</td><td>0</td><td>1</td><td>0</td><td>0</td></tr>\n",
       "\t<tr><td>1</td><td>1</td><td>0</td><td>0</td><td>0</td><td>0</td><td>0</td><td>1</td><td>0</td><td>1</td><td>0</td><td>0</td></tr>\n",
       "\t<tr><td>0</td><td>1</td><td>0</td><td>0</td><td>0</td><td>0</td><td>1</td><td>1</td><td>0</td><td>1</td><td>0</td><td>0</td></tr>\n",
       "</tbody>\n",
       "</table>\n"
      ],
      "text/latex": [
       "\\begin{tabular}{r|llllllllllll}\n",
       " sex & married & black & asian & collegedegree & employed & militaryservice & uscitizen & disability & englishability & blackfemale & targetted\\\\\n",
       "\\hline\n",
       "\t 1 & 1 & 0 & 0 & 0 & 1 & 0 & 1 & 0 & 1 & 0 & 0\\\\\n",
       "\t 1 & 1 & 0 & 0 & 0 & 0 & 0 & 1 & 0 & 1 & 0 & 0\\\\\n",
       "\t 0 & 1 & 0 & 0 & 0 & 0 & 1 & 1 & 0 & 1 & 0 & 0\\\\\n",
       "\\end{tabular}\n"
      ],
      "text/markdown": [
       "\n",
       "| sex | married | black | asian | collegedegree | employed | militaryservice | uscitizen | disability | englishability | blackfemale | targetted |\n",
       "|---|---|---|---|---|---|---|---|---|---|---|---|\n",
       "| 1 | 1 | 0 | 0 | 0 | 1 | 0 | 1 | 0 | 1 | 0 | 0 |\n",
       "| 1 | 1 | 0 | 0 | 0 | 0 | 0 | 1 | 0 | 1 | 0 | 0 |\n",
       "| 0 | 1 | 0 | 0 | 0 | 0 | 1 | 1 | 0 | 1 | 0 | 0 |\n",
       "\n"
      ],
      "text/plain": [
       "  sex married black asian collegedegree employed militaryservice uscitizen\n",
       "1 1   1       0     0     0             1        0               1        \n",
       "2 1   1       0     0     0             0        0               1        \n",
       "3 0   1       0     0     0             0        1               1        \n",
       "  disability englishability blackfemale targetted\n",
       "1 0          1              0           0        \n",
       "2 0          1              0           0        \n",
       "3 0          1              0           0        "
      ]
     },
     "metadata": {},
     "output_type": "display_data"
    }
   ],
   "source": [
    "#read in the test data\n",
    "caPUMS <- read.csv('../../data/CaPUMS5full.csv');\n",
    "print(paste(nrow(caPUMS), \" rows in CA PUMS\"));\n",
    "caPUMS[1:3, ]"
   ]
  },
  {
   "cell_type": "code",
   "execution_count": 8,
   "metadata": {},
   "outputs": [
    {
     "name": "stdout",
     "output_type": "stream",
     "text": [
      "[1]  6  8 10\n",
      "[1] \"employed\"       \"uscitizen\"      \"englishability\"\n"
     ]
    }
   ],
   "source": [
    "#get set of features to use as predictors\n",
    "cDPInd <- centrlDP_SQAlg(xData = caPUMS[, 1:10], yData = caPUMS[['targetted']], totEpsilon = 1.0, threshold = 3.2e-5);\n",
    "print(cDPInd$indices) #print the indices chosen as predictors for targetted\n",
    "print(colnames(caPUMS)[cDPInd$indices]) #print the colnames from the original dataset that the indices refer to"
   ]
  },
  {
   "cell_type": "code",
   "execution_count": 10,
   "metadata": {},
   "outputs": [
    {
     "data": {
      "text/html": [
       "<ol class=list-inline>\n",
       "\t<li>0</li>\n",
       "\t<li>0</li>\n",
       "\t<li>0</li>\n",
       "</ol>\n"
      ],
      "text/latex": [
       "\\begin{enumerate*}\n",
       "\\item 0\n",
       "\\item 0\n",
       "\\item 0\n",
       "\\end{enumerate*}\n"
      ],
      "text/markdown": [
       "1. 0\n",
       "2. 0\n",
       "3. 0\n",
       "\n",
       "\n"
      ],
      "text/plain": [
       "[1] 0 0 0"
      ]
     },
     "metadata": {},
     "output_type": "display_data"
    }
   ],
   "source": [
    "#get the true probabilities of the chosen features\n",
    "print(\"True\")\n",
    "cDPInd$trueProbs[cDPInd$indices]"
   ]
  },
  {
   "cell_type": "code",
   "execution_count": 5,
   "metadata": {},
   "outputs": [
    {
     "data": {
      "text/html": [
       "<dl>\n",
       "\t<dt>$indices</dt>\n",
       "\t\t<dd><ol class=list-inline>\n",
       "\t<li>1</li>\n",
       "\t<li>3</li>\n",
       "</ol>\n",
       "</dd>\n",
       "\t<dt>$dpProbs</dt>\n",
       "\t\t<dd><ol class=list-inline>\n",
       "\t<li>-2.91780939154774e-07</li>\n",
       "\t<li>0.0223343102285882</li>\n",
       "\t<li>1.80795049632527e-06</li>\n",
       "\t<li>0.0329113644604611</li>\n",
       "\t<li>0.025055623044478</li>\n",
       "\t<li>0.0154311989676051</li>\n",
       "\t<li>0.0314126361800656</li>\n",
       "\t<li>0.00129763163275449</li>\n",
       "\t<li>0.0232001460585942</li>\n",
       "\t<li>0.000450896465560159</li>\n",
       "</ol>\n",
       "</dd>\n",
       "\t<dt>$trueProbs</dt>\n",
       "\t\t<dd><ol class=list-inline>\n",
       "\t<li>0</li>\n",
       "\t<li>0.022335930300198</li>\n",
       "\t<li>0</li>\n",
       "\t<li>0.0329095288204498</li>\n",
       "\t<li>0.0250573533160347</li>\n",
       "\t<li>0.0154412773939699</li>\n",
       "\t<li>0.0314127870116798</li>\n",
       "\t<li>0.001307198086262</li>\n",
       "\t<li>0.0232019490323466</li>\n",
       "\t<li>0.000448532343348649</li>\n",
       "</ol>\n",
       "</dd>\n",
       "</dl>\n"
      ],
      "text/latex": [
       "\\begin{description}\n",
       "\\item[\\$indices] \\begin{enumerate*}\n",
       "\\item 1\n",
       "\\item 3\n",
       "\\end{enumerate*}\n",
       "\n",
       "\\item[\\$dpProbs] \\begin{enumerate*}\n",
       "\\item -2.91780939154774e-07\n",
       "\\item 0.0223343102285882\n",
       "\\item 1.80795049632527e-06\n",
       "\\item 0.0329113644604611\n",
       "\\item 0.025055623044478\n",
       "\\item 0.0154311989676051\n",
       "\\item 0.0314126361800656\n",
       "\\item 0.00129763163275449\n",
       "\\item 0.0232001460585942\n",
       "\\item 0.000450896465560159\n",
       "\\end{enumerate*}\n",
       "\n",
       "\\item[\\$trueProbs] \\begin{enumerate*}\n",
       "\\item 0\n",
       "\\item 0.022335930300198\n",
       "\\item 0\n",
       "\\item 0.0329095288204498\n",
       "\\item 0.0250573533160347\n",
       "\\item 0.0154412773939699\n",
       "\\item 0.0314127870116798\n",
       "\\item 0.001307198086262\n",
       "\\item 0.0232019490323466\n",
       "\\item 0.000448532343348649\n",
       "\\end{enumerate*}\n",
       "\n",
       "\\end{description}\n"
      ],
      "text/markdown": [
       "$indices\n",
       ":   1. 1\n",
       "2. 3\n",
       "\n",
       "\n",
       "\n",
       "$dpProbs\n",
       ":   1. -2.91780939154774e-07\n",
       "2. 0.0223343102285882\n",
       "3. 1.80795049632527e-06\n",
       "4. 0.0329113644604611\n",
       "5. 0.025055623044478\n",
       "6. 0.0154311989676051\n",
       "7. 0.0314126361800656\n",
       "8. 0.00129763163275449\n",
       "9. 0.0232001460585942\n",
       "10. 0.000450896465560159\n",
       "\n",
       "\n",
       "\n",
       "$trueProbs\n",
       ":   1. 0\n",
       "2. 0.022335930300198\n",
       "3. 0\n",
       "4. 0.0329095288204498\n",
       "5. 0.0250573533160347\n",
       "6. 0.0154412773939699\n",
       "7. 0.0314127870116798\n",
       "8. 0.001307198086262\n",
       "9. 0.0232019490323466\n",
       "10. 0.000448532343348649\n",
       "\n",
       "\n",
       "\n",
       "\n",
       "\n"
      ],
      "text/plain": [
       "$indices\n",
       "[1] 1 3\n",
       "\n",
       "$dpProbs\n",
       " [1] -2.917809e-07  2.233431e-02  1.807950e-06  3.291136e-02  2.505562e-02\n",
       " [6]  1.543120e-02  3.141264e-02  1.297632e-03  2.320015e-02  4.508965e-04\n",
       "\n",
       "$trueProbs\n",
       " [1] 0.0000000000 0.0223359303 0.0000000000 0.0329095288 0.0250573533\n",
       " [6] 0.0154412774 0.0314127870 0.0013071981 0.0232019490 0.0004485323\n"
      ]
     },
     "metadata": {},
     "output_type": "display_data"
    }
   ],
   "source": [
    "#test on blackfemale as target column\n",
    "bfInd <- centrlDP_SQAlg(xData = caPUMS[, 1:10], yData = caPUMS[['blackfemale']], totEpsilon = 1.0, threshold = 3.2e-5);\n",
    "bfInd"
   ]
  },
  {
   "cell_type": "markdown",
   "metadata": {},
   "source": [
    "Using the threshold $t$ I calculated, we see that the columns **employed**, **uscitizen**, and **englishability** are the columns chosen for the set $\\hat S$ and these same columns/features have a true $p_j=0$. However if you look at the first row of the dataset (displayed in an output above), the conjunction of these columns do not perfectly predict **targetted**. Thus, there must be another column/demographic that the advertisers used in defining their targetted population.\n",
    "\n",
    "Thus after some sleuthing, I found that the **sex** column is coded as 1s for \"female\" and 0s for \"males\". I will try to make the opposite of all the demographics to see if one of the \"opposite\"/\"not\" demographics is the missing feature in the conjunction defining the targeted audience. "
   ]
  },
  {
   "cell_type": "code",
   "execution_count": 10,
   "metadata": {},
   "outputs": [
    {
     "data": {
      "text/html": [
       "<table>\n",
       "<thead><tr><th scope=col>sex</th><th scope=col>married</th><th scope=col>black</th><th scope=col>asian</th><th scope=col>collegedegree</th><th scope=col>employed</th><th scope=col>militaryservice</th><th scope=col>uscitizen</th><th scope=col>disability</th><th scope=col>englishability</th><th scope=col>⋯</th><th scope=col>not_ married</th><th scope=col>not_ black</th><th scope=col>not_ asian</th><th scope=col>not_ collegedegree</th><th scope=col>not_ employed</th><th scope=col>not_ militaryservice</th><th scope=col>not_ uscitizen</th><th scope=col>not_ disability</th><th scope=col>not_ englishability</th><th scope=col>targetted</th></tr></thead>\n",
       "<tbody>\n",
       "\t<tr><td>1</td><td>1</td><td>0</td><td>0</td><td>0</td><td>1</td><td>0</td><td>1</td><td>0</td><td>1</td><td>⋯</td><td>0</td><td>1</td><td>1</td><td>1</td><td>0</td><td>1</td><td>0</td><td>1</td><td>0</td><td>0</td></tr>\n",
       "\t<tr><td>1</td><td>1</td><td>0</td><td>0</td><td>0</td><td>0</td><td>0</td><td>1</td><td>0</td><td>1</td><td>⋯</td><td>0</td><td>1</td><td>1</td><td>1</td><td>1</td><td>1</td><td>0</td><td>1</td><td>0</td><td>0</td></tr>\n",
       "\t<tr><td>0</td><td>1</td><td>0</td><td>0</td><td>0</td><td>0</td><td>1</td><td>1</td><td>0</td><td>1</td><td>⋯</td><td>0</td><td>1</td><td>1</td><td>1</td><td>1</td><td>0</td><td>0</td><td>1</td><td>0</td><td>0</td></tr>\n",
       "\t<tr><td>0</td><td>0</td><td>0</td><td>0</td><td>0</td><td>0</td><td>0</td><td>1</td><td>1</td><td>1</td><td>⋯</td><td>1</td><td>1</td><td>1</td><td>1</td><td>1</td><td>1</td><td>0</td><td>0</td><td>0</td><td>0</td></tr>\n",
       "\t<tr><td>0</td><td>1</td><td>0</td><td>0</td><td>0</td><td>0</td><td>0</td><td>1</td><td>0</td><td>1</td><td>⋯</td><td>0</td><td>1</td><td>1</td><td>1</td><td>1</td><td>1</td><td>0</td><td>1</td><td>0</td><td>0</td></tr>\n",
       "</tbody>\n",
       "</table>\n"
      ],
      "text/latex": [
       "\\begin{tabular}{r|lllllllllllllllllllll}\n",
       " sex & married & black & asian & collegedegree & employed & militaryservice & uscitizen & disability & englishability & ⋯ & not\\_ married & not\\_ black & not\\_ asian & not\\_ collegedegree & not\\_ employed & not\\_ militaryservice & not\\_ uscitizen & not\\_ disability & not\\_ englishability & targetted\\\\\n",
       "\\hline\n",
       "\t 1 & 1 & 0 & 0 & 0 & 1 & 0 & 1 & 0 & 1 & ⋯ & 0 & 1 & 1 & 1 & 0 & 1 & 0 & 1 & 0 & 0\\\\\n",
       "\t 1 & 1 & 0 & 0 & 0 & 0 & 0 & 1 & 0 & 1 & ⋯ & 0 & 1 & 1 & 1 & 1 & 1 & 0 & 1 & 0 & 0\\\\\n",
       "\t 0 & 1 & 0 & 0 & 0 & 0 & 1 & 1 & 0 & 1 & ⋯ & 0 & 1 & 1 & 1 & 1 & 0 & 0 & 1 & 0 & 0\\\\\n",
       "\t 0 & 0 & 0 & 0 & 0 & 0 & 0 & 1 & 1 & 1 & ⋯ & 1 & 1 & 1 & 1 & 1 & 1 & 0 & 0 & 0 & 0\\\\\n",
       "\t 0 & 1 & 0 & 0 & 0 & 0 & 0 & 1 & 0 & 1 & ⋯ & 0 & 1 & 1 & 1 & 1 & 1 & 0 & 1 & 0 & 0\\\\\n",
       "\\end{tabular}\n"
      ],
      "text/markdown": [
       "\n",
       "| sex | married | black | asian | collegedegree | employed | militaryservice | uscitizen | disability | englishability | ⋯ | not_ married | not_ black | not_ asian | not_ collegedegree | not_ employed | not_ militaryservice | not_ uscitizen | not_ disability | not_ englishability | targetted |\n",
       "|---|---|---|---|---|---|---|---|---|---|---|---|---|---|---|---|---|---|---|---|---|\n",
       "| 1 | 1 | 0 | 0 | 0 | 1 | 0 | 1 | 0 | 1 | ⋯ | 0 | 1 | 1 | 1 | 0 | 1 | 0 | 1 | 0 | 0 |\n",
       "| 1 | 1 | 0 | 0 | 0 | 0 | 0 | 1 | 0 | 1 | ⋯ | 0 | 1 | 1 | 1 | 1 | 1 | 0 | 1 | 0 | 0 |\n",
       "| 0 | 1 | 0 | 0 | 0 | 0 | 1 | 1 | 0 | 1 | ⋯ | 0 | 1 | 1 | 1 | 1 | 0 | 0 | 1 | 0 | 0 |\n",
       "| 0 | 0 | 0 | 0 | 0 | 0 | 0 | 1 | 1 | 1 | ⋯ | 1 | 1 | 1 | 1 | 1 | 1 | 0 | 0 | 0 | 0 |\n",
       "| 0 | 1 | 0 | 0 | 0 | 0 | 0 | 1 | 0 | 1 | ⋯ | 0 | 1 | 1 | 1 | 1 | 1 | 0 | 1 | 0 | 0 |\n",
       "\n"
      ],
      "text/plain": [
       "  sex married black asian collegedegree employed militaryservice uscitizen\n",
       "1 1   1       0     0     0             1        0               1        \n",
       "2 1   1       0     0     0             0        0               1        \n",
       "3 0   1       0     0     0             0        1               1        \n",
       "4 0   0       0     0     0             0        0               1        \n",
       "5 0   1       0     0     0             0        0               1        \n",
       "  disability englishability ⋯ not_ married not_ black not_ asian\n",
       "1 0          1              ⋯ 0            1          1         \n",
       "2 0          1              ⋯ 0            1          1         \n",
       "3 0          1              ⋯ 0            1          1         \n",
       "4 1          1              ⋯ 1            1          1         \n",
       "5 0          1              ⋯ 0            1          1         \n",
       "  not_ collegedegree not_ employed not_ militaryservice not_ uscitizen\n",
       "1 1                  0             1                    0             \n",
       "2 1                  1             1                    0             \n",
       "3 1                  1             0                    0             \n",
       "4 1                  1             1                    0             \n",
       "5 1                  1             1                    0             \n",
       "  not_ disability not_ englishability targetted\n",
       "1 1               0                   0        \n",
       "2 1               0                   0        \n",
       "3 1               0                   0        \n",
       "4 0               0                   0        \n",
       "5 1               0                   0        "
      ]
     },
     "metadata": {},
     "output_type": "display_data"
    }
   ],
   "source": [
    "#creat new PUMS dataset with not columns\n",
    "newCAPUMS <- caPUMS[, 1:10]; #get initial features\n",
    "for(col in colnames(newCAPUMS)){\n",
    "    newColName <- paste(\"not_\",col);\n",
    "    newCAPUMS[, newColName] <- 1 - newCAPUMS[, col];\n",
    "}\n",
    "newCAPUMS$targetted <- caPUMS$targetted; #add targetted column to new dataset\n",
    "newCAPUMS[1:5, ]"
   ]
  },
  {
   "cell_type": "code",
   "execution_count": 12,
   "metadata": {},
   "outputs": [
    {
     "name": "stdout",
     "output_type": "stream",
     "text": [
      "$indices\n",
      "[1]  6 10 11\n",
      "\n",
      "$dpProbs\n",
      " [1]  2.538813e-01  1.049174e-01  2.383391e-01  2.297780e-01  1.482202e-01\n",
      " [6] -3.539269e-05  1.913699e-01  3.264775e-05  2.163959e-01  2.405709e-05\n",
      "[11] -4.422795e-06  1.489794e-01  1.557758e-02  2.419174e-02  1.056648e-01\n",
      "[16]  2.538953e-01  6.248138e-02  2.538914e-01  3.745450e-02  2.538643e-01\n",
      "\n",
      "$trueProbs\n",
      " [1] 0.25389463 0.10493124 0.23833898 0.22978418 0.14821666 0.00000000\n",
      " [7] 0.19141547 0.00000000 0.21644504 0.00000000 0.00000000 0.14896339\n",
      "[13] 0.01555566 0.02411045 0.10567798 0.25389463 0.06247917 0.25389463\n",
      "[19] 0.03744959 0.25389463\n",
      "\n",
      "[1] \"employed\"       \"englishability\" \"not_ sex\"      \n"
     ]
    }
   ],
   "source": [
    "#get set of features to use as predictors\n",
    "cDPInd <- centrlDP_SQAlg(xData = newCAPUMS[, 1:20], yData = newCAPUMS[['targetted']], \n",
    "                         totEpsilon = 1.0, threshold = 3.2e-5);\n",
    "print(cDPInd) #print the indices chosen as predictors for targetted\n",
    "print(colnames(newCAPUMS)[cDPInd$indices]) #print the colnames from the original dataset that the indices refer to"
   ]
  },
  {
   "cell_type": "markdown",
   "metadata": {},
   "source": [
    "Although my centralized model does not output **uscitizen** as a predictor in this run, we can see that **not_sex** is now included as a predictor to include in the conjunction. Another run of the centralized model may produce **uscitizen** as a predictor or possibly increasing my threshold (which is the upper-bound for $t$ when $d=10$ and now we have $d=20$) could allow us to uncover **uscitizen** as well.\n",
    "\n",
    "From the true probabilities, we see that **employed**, **uscitizen**, **englishability** and **not_sex** all have $p_j=0$, so the conjunction of these predictors should predict the **targetted** column perfectly, as I have shown below. Thus, the centralized model does pretty well in identifying the proper predictor columns."
   ]
  },
  {
   "cell_type": "code",
   "execution_count": 16,
   "metadata": {},
   "outputs": [
    {
     "data": {
      "text/html": [
       "<table>\n",
       "<thead><tr><th></th><th scope=col>employed</th><th scope=col>uscitizen</th><th scope=col>englishability</th><th scope=col>not_ sex</th><th scope=col>targetted</th></tr></thead>\n",
       "<tbody>\n",
       "\t<tr><th scope=row>7</th><td>1</td><td>1</td><td>1</td><td>1</td><td>1</td></tr>\n",
       "\t<tr><th scope=row>9</th><td>1</td><td>1</td><td>1</td><td>1</td><td>1</td></tr>\n",
       "\t<tr><th scope=row>11</th><td>1</td><td>1</td><td>1</td><td>1</td><td>1</td></tr>\n",
       "\t<tr><th scope=row>14</th><td>1</td><td>1</td><td>1</td><td>1</td><td>1</td></tr>\n",
       "\t<tr><th scope=row>16</th><td>1</td><td>1</td><td>1</td><td>1</td><td>1</td></tr>\n",
       "</tbody>\n",
       "</table>\n"
      ],
      "text/latex": [
       "\\begin{tabular}{r|lllll}\n",
       "  & employed & uscitizen & englishability & not\\_ sex & targetted\\\\\n",
       "\\hline\n",
       "\t7 & 1 & 1 & 1 & 1 & 1\\\\\n",
       "\t9 & 1 & 1 & 1 & 1 & 1\\\\\n",
       "\t11 & 1 & 1 & 1 & 1 & 1\\\\\n",
       "\t14 & 1 & 1 & 1 & 1 & 1\\\\\n",
       "\t16 & 1 & 1 & 1 & 1 & 1\\\\\n",
       "\\end{tabular}\n"
      ],
      "text/markdown": [
       "\n",
       "| <!--/--> | employed | uscitizen | englishability | not_ sex | targetted |\n",
       "|---|---|---|---|---|---|\n",
       "| 7 | 1 | 1 | 1 | 1 | 1 |\n",
       "| 9 | 1 | 1 | 1 | 1 | 1 |\n",
       "| 11 | 1 | 1 | 1 | 1 | 1 |\n",
       "| 14 | 1 | 1 | 1 | 1 | 1 |\n",
       "| 16 | 1 | 1 | 1 | 1 | 1 |\n",
       "\n"
      ],
      "text/plain": [
       "   employed uscitizen englishability not_ sex targetted\n",
       "7  1        1         1              1        1        \n",
       "9  1        1         1              1        1        \n",
       "11 1        1         1              1        1        \n",
       "14 1        1         1              1        1        \n",
       "16 1        1         1              1        1        "
      ]
     },
     "metadata": {},
     "output_type": "display_data"
    }
   ],
   "source": [
    "#show that the four columns predict\n",
    "targeted <- newCAPUMS[newCAPUMS$targetted == 1, ];\n",
    "targeted[1:5, c(6,8,10,11,21)]"
   ]
  },
  {
   "cell_type": "markdown",
   "metadata": {},
   "source": [
    "### Local DP version of SQ algorithm\n",
    "\n",
    "From part (b), we know that the upper bound on the threshold $t$ is $t  \\leq \\dfrac{\\sqrt{e^\\epsilon}\\Phi^{-1}\\left(\\dfrac{0.1}{d}\\right) + \\sqrt{n}} {\\sqrt{n}(1+e^\\epsilon)}$. \n",
    "For the *CaPUMS5full.csv* data, we can calculate the upper bound using $n=1223992$, $d=10$, $\\epsilon = 1.0$, and $|S|=d=10$.\n",
    "$$\\begin{align}\n",
    "t &= \\dfrac{\\sqrt{e^{1}}\\Phi^{-1}\\left(\\dfrac{0.1}{10}\\right) + \\sqrt{1223992}} {\\sqrt{1223992}(1+e^{1})}\\\\\n",
    "&= 0.268\n",
    "\\end{align}$$\n",
    "\n",
    "Thus for the *CaPUMS5full.csv* dataset, the upper bound on the threshold $t$ is $0.268$. I will use this threshold to show that my local DP version of the SQ algorithm works on the *CaPUMS5full.csv* dataset."
   ]
  },
  {
   "cell_type": "code",
   "execution_count": 18,
   "metadata": {},
   "outputs": [
    {
     "name": "stdout",
     "output_type": "stream",
     "text": [
      "[1]  6  8 10 11 13 14\n",
      "[1] \"employed\"       \"uscitizen\"      \"englishability\" \"not_ sex\"      \n",
      "[5] \"not_ black\"     \"not_ asian\"    \n"
     ]
    }
   ],
   "source": [
    "#perform local DP release for SQ algorithm\n",
    "lDPInd <- localDP_SQAlg(xData = newCAPUMS[, 1:20], yData = newCAPUMS[['targetted']], \n",
    "                             totEpsilon = 1.0, threshold = 0.1*0.268);\n",
    "print(lDPInd$indices) #print the indices chosen as predictors for targetted\n",
    "print(colnames(newCAPUMS)[lDPInd$indices]) #print the colnames from the dataset that the indices refer to"
   ]
  },
  {
   "cell_type": "markdown",
   "metadata": {},
   "source": [
    "The local DP version of the SQ algorithm was able to identify all four columns that perfectly predict **targetted** in addition to **not_black** and **not_asian**. This is most likely due to the increased noise added with the local model implementation."
   ]
  },
  {
   "cell_type": "markdown",
   "metadata": {},
   "source": [
    "### Compare mechanisms\n",
    "\n",
    "Now, I will compare the false positive and false negative rate as a function of $n$ for the two versions of my SQ algorithms. My $n$s will range from 100 to 500,000. For each $n$, I will generate 5 bootstrapped samples and a produce a centralized and local DP release for the set of features $\\hat S$ that predict **targetted=1**; I will calculate a false positive rate and false negative rate by predicting the value of **targetted** for the rows included in the bootstrap using the conjunction of the features included in $\\hat S$ for each of the 5 DP releases. \n",
    "\n",
    "For my dataset, I am using my augmented version of the *CaPUMS5full.csv dataset* in which I added the opposite/\"not\" columns."
   ]
  },
  {
   "cell_type": "code",
   "execution_count": 20,
   "metadata": {},
   "outputs": [],
   "source": [
    "##function to calculate false positive and false negative rates given true and predicted data\n",
    "##\n",
    "## yTrue: vector of true values for targetted column\n",
    "## yPreds: vector of predicted values for targetted column\n",
    "\n",
    "calcFPandFN <- function(yTrue, yPreds){\n",
    "    numPos <- sum(yTrue); #number of positive results is just sum of the vector\n",
    "    numNeg <- length(yTrue) - numPos;\n",
    "    \n",
    "    #calculate the false negative\n",
    "    posInd <- which(yTrue == 1); #get indices of positive results\n",
    "    tps <- sum( yTrue[posInd] == yPreds[posInd]);\n",
    "    fnRate <- 1 - tps/numPos; #FN-rate is 1 - TP-rate\n",
    "    \n",
    "    #calculate the false positive\n",
    "    negInd <- which(yTrue == 0); #get indices of negative results\n",
    "    tns <- sum( yTrue[negInd] == yPreds[negInd]);\n",
    "    fpRate <- 1 - tns/numNeg; #FP-rate is 1 - TN-rate\n",
    "    \n",
    "    return(list(fp=fpRate, fn=fnRate));\n",
    "}\n",
    "\n",
    "## function to get an analytical calculation of the threshold for centralized DP version of SQ algorithm\n",
    "## n: the number of rows in the dataset\n",
    "## d: the number of predictors in the dataset\n",
    "## epsilon: the total privacy-loss parameter\n",
    "centralized_tCalculation <- function(n, d, epsilon){\n",
    "    r <- log(0.2/d);\n",
    "    r <- r * -d/ (n * epsilon);\n",
    "    return(r);\n",
    "    \n",
    "}\n",
    "\n",
    "## function to get an analytical calculation of the threshold for local DP version of SQ algorithm\n",
    "## n: the number of rows in the dataset\n",
    "## d: the number of predictors in the dataset\n",
    "## epsilon: the total privacy-loss parameter\n",
    "local_tCalculation <- function(n, d, epsilon){\n",
    "    numerator <- sqrt(exp(epsilon)) * qnorm(0.1/d) + sqrt(n);\n",
    "    denom <- sqrt(n) * (1 + exp(epsilon));\n",
    "    r <- numerator / denom;\n",
    "    return(r);\n",
    "}\n"
   ]
  },
  {
   "cell_type": "code",
   "execution_count": 21,
   "metadata": {},
   "outputs": [
    {
     "data": {
      "text/plain": [
       "[1] \"2019-04-17 16:02:18 EDT\""
      ]
     },
     "metadata": {},
     "output_type": "display_data"
    },
    {
     "data": {
      "text/plain": [
       "[1] \"2019-04-17 16:13:37 EDT\""
      ]
     },
     "metadata": {},
     "output_type": "display_data"
    }
   ],
   "source": [
    "# set.seed(24);\n",
    "sampSizes <- c(1e2, 1e3, 5e3, 1e4, 5e4, 1e5, 5e5); #size of datasets\n",
    "numSims <- 5; #number of simulations per bootstrap\n",
    "eps <- 1.0; #total epsilong\n",
    "\n",
    "numRows <- length(sampSizes) * numSims;\n",
    "resultsMatrix <- matrix(NA, nrow = numRows, ncol = 7);\n",
    "\n",
    "Sys.time()\n",
    "r = 1; #row counter\n",
    "for(sSize in sampSizes){\n",
    "    \n",
    "    for(i in 1:numSims){\n",
    "        #sample the indices from the dataset\n",
    "        sample_ind <- sample(x=1:nrow(newCAPUMS), size=sSize, replace=TRUE);\n",
    "        bootstrap <- newCAPUMS[sample_ind, ]; #create a bootstrap sample\n",
    "        \n",
    "        ####Perform centralized release\n",
    "        #calculate the threshold for the centralized release\n",
    "        cThres <- centralized_tCalculation(n=sSize, d=20, epsilon=eps);\n",
    "        cDPInd <- centrlDP_SQAlg(xData = bootstrap[, 1:20], yData = bootstrap[['targetted']], \n",
    "                                 totEpsilon = eps, threshold = cThres);\n",
    "        #check if no columns were selected, then the predictions should be all zeroes\n",
    "        if(length(cDPInd$indices) == 0){\n",
    "            cent_yPreds <- rep(0, sSize); #create vector of zeroes that is the same length as number of \n",
    "        }else{\n",
    "            #get the predictors specified by the bootstrap\n",
    "            bootstrapPreds <- bootstrap[, cDPInd$indices];\n",
    "            if(length(cDPInd$indices) > 1){\n",
    "                #get predictions for bootstrapped sample. If conjunction of all predictors is 1,\n",
    "                #then prediction is 1.\n",
    "                cent_yPreds <- (rowSums(bootstrapPreds) == length(cDPInd$indices) );\n",
    "            }else{ #handle case when there is just one predictor in set\n",
    "                cent_yPreds <- bootstrapPreds;\n",
    "            }\n",
    "        }\n",
    "        \n",
    "\n",
    "        ####Perform local release\n",
    "        #calculate the threshold for the centralized release\n",
    "        lThres <- 0.1*local_tCalculation(n=sSize, d=20, epsilon=eps);\n",
    "        lDPInd <- localDP_SQAlg(xData = bootstrap[, 1:20], yData = bootstrap[['targetted']], \n",
    "                                 totEpsilon = eps, threshold = lThres);\n",
    "        #check if no columns were selected\n",
    "        if(length(lDPInd$indices) == 0){ #re-run release if feature set is empty\n",
    "            local_yPreds <- rep(0, sSize); #create vector of zeroes that is the same length as number of\n",
    "        }else{\n",
    "             #get the predictors specified by the bootstrap\n",
    "            bootstrapPreds <- bootstrap[, lDPInd$indices];\n",
    "            if(length(lDPInd$indices) > 1){\n",
    "                #get predictions for bootstrapped sample. If conjunction of all predictors is 1,\n",
    "                #then prediction is 1.\n",
    "                local_yPreds <- (rowSums(bootstrapPreds) == length(lDPInd$indices) );\n",
    "            }else{ #handle case when there is just one predictor in set\n",
    "                local_yPreds <- bootstrapPreds;\n",
    "            }\n",
    "        }\n",
    "        \n",
    "        \n",
    "        #get the FP and FN rates for centralized release\n",
    "        cstats <- calcFPandFN(yTrue=bootstrap[['targetted']], yPreds=cent_yPreds);\n",
    "        #get the FP and FN rates for local release\n",
    "        lstats <- calcFPandFN(yTrue=bootstrap[['targetted']], yPreds=local_yPreds);\n",
    "        \n",
    "        resultsMatrix[r, ] <- c(sSize, cstats$fp, cstats$fn, cThres, lstats$fp, lstats$fn, lThres);\n",
    "#         resultsMatrix[r, ] <- c(sSize, cstats$fp, cstats$fn, cThres, 0, 0, 0)\n",
    "        r = r+1; #increment row counter\n",
    "    }\n",
    "}\n",
    "Sys.time()"
   ]
  },
  {
   "cell_type": "code",
   "execution_count": 28,
   "metadata": {
    "scrolled": true
   },
   "outputs": [],
   "source": [
    "final_results <- as.data.frame(resultsMatrix);\n",
    "colnames(final_results) <- c(\"n\", \"central_FPR\", \"central_FNR\", \"central_thres\", \n",
    "                             \"local_FPR\", \"local_FNR\", \"local_thres\");\n",
    "# final_results\n",
    "# write.csv(final_results, file='ctlDP_bootstrap.csv', row.names=FALSE);"
   ]
  },
  {
   "cell_type": "code",
   "execution_count": 29,
   "metadata": {
    "scrolled": false
   },
   "outputs": [
    {
     "data": {
      "text/html": [
       "<table>\n",
       "<thead><tr><th scope=col>Group.1</th><th scope=col>n</th><th scope=col>central_FPR</th><th scope=col>central_FNR</th><th scope=col>central_thres</th><th scope=col>local_FPR</th><th scope=col>local_FNR</th><th scope=col>local_thres</th></tr></thead>\n",
       "<tbody>\n",
       "\t<tr><td>1e+02       </td><td>1e+02       </td><td>0.00000000  </td><td>1.00000000  </td><td>0.9210340372</td><td>0.005882353 </td><td>1.0000000   </td><td>0.01547267  </td></tr>\n",
       "\t<tr><td>1e+03       </td><td>1e+03       </td><td>0.00000000  </td><td>0.62768499  </td><td>0.0921034037</td><td>0.000000000 </td><td>1.0000000   </td><td>0.02328236  </td></tr>\n",
       "\t<tr><td>5e+03       </td><td>5e+03       </td><td>0.00000000  </td><td>0.05928565  </td><td>0.0184206807</td><td>0.000000000 </td><td>1.0000000   </td><td>0.02527890  </td></tr>\n",
       "\t<tr><td>1e+04       </td><td>1e+04       </td><td>0.01049119  </td><td>0.00000000  </td><td>0.0092103404</td><td>0.077753735 </td><td>0.9091400   </td><td>0.02575200  </td></tr>\n",
       "\t<tr><td>5e+04       </td><td>5e+04       </td><td>0.00000000  </td><td>0.00000000  </td><td>0.0018420681</td><td>0.360151591 </td><td>0.3097664   </td><td>0.02638336  </td></tr>\n",
       "\t<tr><td>1e+05       </td><td>1e+05       </td><td>0.00000000  </td><td>0.00000000  </td><td>0.0009210340</td><td>0.288927054 </td><td>0.4188957   </td><td>0.02653296  </td></tr>\n",
       "\t<tr><td>5e+05       </td><td>5e+05       </td><td>0.00000000  </td><td>0.00000000  </td><td>0.0001842068</td><td>0.067350927 </td><td>0.1466811   </td><td>0.02673262  </td></tr>\n",
       "</tbody>\n",
       "</table>\n"
      ],
      "text/latex": [
       "\\begin{tabular}{r|llllllll}\n",
       " Group.1 & n & central\\_FPR & central\\_FNR & central\\_thres & local\\_FPR & local\\_FNR & local\\_thres\\\\\n",
       "\\hline\n",
       "\t 1e+02        & 1e+02        & 0.00000000   & 1.00000000   & 0.9210340372 & 0.005882353  & 1.0000000    & 0.01547267  \\\\\n",
       "\t 1e+03        & 1e+03        & 0.00000000   & 0.62768499   & 0.0921034037 & 0.000000000  & 1.0000000    & 0.02328236  \\\\\n",
       "\t 5e+03        & 5e+03        & 0.00000000   & 0.05928565   & 0.0184206807 & 0.000000000  & 1.0000000    & 0.02527890  \\\\\n",
       "\t 1e+04        & 1e+04        & 0.01049119   & 0.00000000   & 0.0092103404 & 0.077753735  & 0.9091400    & 0.02575200  \\\\\n",
       "\t 5e+04        & 5e+04        & 0.00000000   & 0.00000000   & 0.0018420681 & 0.360151591  & 0.3097664    & 0.02638336  \\\\\n",
       "\t 1e+05        & 1e+05        & 0.00000000   & 0.00000000   & 0.0009210340 & 0.288927054  & 0.4188957    & 0.02653296  \\\\\n",
       "\t 5e+05        & 5e+05        & 0.00000000   & 0.00000000   & 0.0001842068 & 0.067350927  & 0.1466811    & 0.02673262  \\\\\n",
       "\\end{tabular}\n"
      ],
      "text/markdown": [
       "\n",
       "| Group.1 | n | central_FPR | central_FNR | central_thres | local_FPR | local_FNR | local_thres |\n",
       "|---|---|---|---|---|---|---|---|\n",
       "| 1e+02        | 1e+02        | 0.00000000   | 1.00000000   | 0.9210340372 | 0.005882353  | 1.0000000    | 0.01547267   |\n",
       "| 1e+03        | 1e+03        | 0.00000000   | 0.62768499   | 0.0921034037 | 0.000000000  | 1.0000000    | 0.02328236   |\n",
       "| 5e+03        | 5e+03        | 0.00000000   | 0.05928565   | 0.0184206807 | 0.000000000  | 1.0000000    | 0.02527890   |\n",
       "| 1e+04        | 1e+04        | 0.01049119   | 0.00000000   | 0.0092103404 | 0.077753735  | 0.9091400    | 0.02575200   |\n",
       "| 5e+04        | 5e+04        | 0.00000000   | 0.00000000   | 0.0018420681 | 0.360151591  | 0.3097664    | 0.02638336   |\n",
       "| 1e+05        | 1e+05        | 0.00000000   | 0.00000000   | 0.0009210340 | 0.288927054  | 0.4188957    | 0.02653296   |\n",
       "| 5e+05        | 5e+05        | 0.00000000   | 0.00000000   | 0.0001842068 | 0.067350927  | 0.1466811    | 0.02673262   |\n",
       "\n"
      ],
      "text/plain": [
       "  Group.1 n     central_FPR central_FNR central_thres local_FPR   local_FNR\n",
       "1 1e+02   1e+02 0.00000000  1.00000000  0.9210340372  0.005882353 1.0000000\n",
       "2 1e+03   1e+03 0.00000000  0.62768499  0.0921034037  0.000000000 1.0000000\n",
       "3 5e+03   5e+03 0.00000000  0.05928565  0.0184206807  0.000000000 1.0000000\n",
       "4 1e+04   1e+04 0.01049119  0.00000000  0.0092103404  0.077753735 0.9091400\n",
       "5 5e+04   5e+04 0.00000000  0.00000000  0.0018420681  0.360151591 0.3097664\n",
       "6 1e+05   1e+05 0.00000000  0.00000000  0.0009210340  0.288927054 0.4188957\n",
       "7 5e+05   5e+05 0.00000000  0.00000000  0.0001842068  0.067350927 0.1466811\n",
       "  local_thres\n",
       "1 0.01547267 \n",
       "2 0.02328236 \n",
       "3 0.02527890 \n",
       "4 0.02575200 \n",
       "5 0.02638336 \n",
       "6 0.02653296 \n",
       "7 0.02673262 "
      ]
     },
     "metadata": {},
     "output_type": "display_data"
    }
   ],
   "source": [
    "agg_final_results <- aggregate(final_results, by = list(final_results$n), FUN = mean);\n",
    "agg_final_results"
   ]
  },
  {
   "cell_type": "code",
   "execution_count": 30,
   "metadata": {},
   "outputs": [
    {
     "data": {
      "image/png": "[encoded data removed]",
      "text/plain": [
       "plot without title"
      ]
     },
     "metadata": {},
     "output_type": "display_data"
    }
   ],
   "source": [
    "library(ggplot2)\n",
    "# plot FPRs and FNRs for both mechanisms\n",
    "x_vals <- log10(agg_final_results$n);\n",
    "p1 <- ggplot(agg_final_results) + \n",
    "    geom_line(aes(x=x_vals, y=agg_final_results$central_FPR, color = \"Centralized FPR\", linetype=\"Centralized FPR\")) +\n",
    "    geom_line(aes(x=x_vals, y=agg_final_results$central_FNR, color = \"Centralized FNR\", linetype = \"Centralized FNR\")) +\n",
    "    geom_line(aes(x=x_vals, y=agg_final_results$local_FPR, color = \"Local FPR\", linetype = \"Local FPR\")) +\n",
    "    geom_line(aes(x=x_vals, y=agg_final_results$local_FNR, color = \"Local FNR\", linetype = \"Local FNR\"));\n",
    "p1 <- p1 + scale_linetype_manual(values = c(\"Centralized FPR\"=\"solid\", \"Centralized FNR\"=\"dashed\", \n",
    "                                            \"Local FPR\" = \"solid\", \"Local FNR\"=\"dashed\"));\n",
    "p1 <- p1 + labs(x = expression(\"log\"[10]*\"(n)\"), y = 'Rate', title = \n",
    "        'False Positive and False Negative rates for varying size of dataset, n\\n(Centralized and Local Models)') + \n",
    "    theme(plot.title = element_text(hjust = 0.5), legend.title = element_blank());\n",
    "\n",
    "options(repr.plot.width=10, repr.plot.height=4); #set plot dimensions\n",
    "p1 #show plot"
   ]
  },
  {
   "cell_type": "markdown",
   "metadata": {},
   "source": [
    "For the centralized DP version of the SQ algorithm, we see that the false-positive rate for the predictions essentially stays at zero as $n$ increases and the false-negative rate decreases from 1.0 at $n=100$ to 0 at $n=10,000$. This is what I would expect because with smaller datasets, it is more difficult to find predictors that when in a conjunction accurately predict the **targetted** value because the global sensitivity ($\\frac{1}{n}$) is higher, so the scale for the Laplace noise that is added is greater. So when $n$ is small, the false-positive rate will be low because it is difficult to find predictors that when in conjunction will give **targetted=1**. As a result, all of the true **targetted=1** points are predicted as **targetted=0**, producing a high false-negative rate. As $n$ increases, the false-negative rate decreases because the centralized model is able to output predictors that when in conjunction do predict the true **targetted=1** points correctly.\n",
    "\n",
    "For the local DP version of the SQ algorithm, we see that false-positive rate stays close to 0 until $n=5000$, where it begins to increase until $n=50,000$, after which it decreases close to 0 at $n=500,000$. This can be rationalized because again with smaller datasets (small $n$) it is difficult to find predictors that when in a conjunction accurately predict the **targetted** value because of the noise introduced by the randomized responses. So with small $n$, we predict everything to be **targetted=0**. As $n$ increases, the false-positive rate picks up while the false-negative rate drops, which is expected because we are finding some subset of predictors that in conjunction accurately predict the true **targetted=1** points but also incorrectly predict some true **targetted=0** points as 1s. As $n$ gets large ($n>100,000$), the subset of predictors $\\hat S$ better reflects the true subset $S$ with less false-positive predictors because the noise from the randomized responses is averaged out by the large $n$. Therefore, we see both the false-positive and false-negative rates go to zero as $n$ increases."
   ]
  }
 ],
 "metadata": {
  "kernelspec": {
   "display_name": "R",
   "language": "R",
   "name": "ir"
  },
  "language_info": {
   "codemirror_mode": "r",
   "file_extension": ".r",
   "mimetype": "text/x-r-source",
   "name": "R",
   "pygments_lexer": "r",
   "version": "3.5.3"
  }
 },
 "nbformat": 4,
 "nbformat_minor": 2
}
