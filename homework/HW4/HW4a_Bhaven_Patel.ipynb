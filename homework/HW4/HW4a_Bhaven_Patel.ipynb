{
 "cells": [
  {
   "cell_type": "markdown",
   "metadata": {},
   "source": [
    "# HW4A: The Local Model\n",
    "\n",
    "### Bhaven Patel\n",
    "### 4/16/2019\n",
    "\n",
    "I worked with Anthony Rentsch, Lipika Ramaswamy, and Karina Huang on this homework.\n",
    "\n",
    "My code can be found on my [Github](https://github.com/bhavenp/cs208/blob/master/homework/HW4/HW4_Bhaven_Patel.ipynb)."
   ]
  },
  {
   "cell_type": "markdown",
   "metadata": {},
   "source": [
    "## Problem 1: Learning Conjunctions in the SQ Model"
   ]
  },
  {
   "cell_type": "markdown",
   "metadata": {},
   "source": [
    "### (a)"
   ]
  },
  {
   "cell_type": "markdown",
   "metadata": {},
   "source": [
    "### Centralized Version of SQ Model\n",
    "\n",
    "\n",
    "For the centralized version of the SQ model, I chose to calculate $p_j = P[x[j]=0 \\,\\wedge\\, y=1]$ for $j=1,...,d$. Then, laplace noise is added to $p_j$ with a scale equal to $\\dfrac{GS}{\\tilde\\epsilon}$, where $GS=\\dfrac{1}{n}$ and $\\tilde\\epsilon= \\dfrac{\\epsilon}{d}$. Thus, every $p_j$ has a differentially private release $\\hat p_j$\n",
    "$$\n",
    "\\hat p_j = p_j + Lap\\left(\\dfrac{d}{n\\tilde\\epsilon}  \\right)\n",
    "$$"
   ]
  },
  {
   "cell_type": "markdown",
   "metadata": {},
   "source": [
    "Below are the helper functions we generally use."
   ]
  },
  {
   "cell_type": "code",
   "execution_count": 1,
   "metadata": {},
   "outputs": [],
   "source": [
    "rm(list=ls())\t\t# Remove any objects in memory\n",
    "set.seed(123)\n",
    "\n",
    "# Random draw from Laplace distribution\n",
    "#\n",
    "# mu numeric, center of the distribution\n",
    "# b numeric, spread\n",
    "# size integer, number of draws\n",
    "# \n",
    "# return Random draws from Laplace distribution\n",
    "# example:\n",
    "# \n",
    "# rlap(size=1000)\n",
    "\n",
    "rlap = function(mu=0, b=1, size=1) {\n",
    "    p <- runif(size) - 0.5\n",
    "    draws <- mu - b * sgn(p) * log(1 - 2 * abs(p))\n",
    "    return(draws)\n",
    "}\n",
    "\n",
    "# Sign function\n",
    "# \n",
    "# Function to determine what the sign of the passed values should be.\n",
    "#\n",
    "# x numeric, value or vector or values\n",
    "# return The sign of passed values\n",
    "# example:\n",
    "#\n",
    "# sgn(rnorm(10))\n",
    "\n",
    "sgn <- function(x) {\n",
    "    return(ifelse(x < 0, -1, 1))\n",
    "}"
   ]
  },
  {
   "cell_type": "code",
   "execution_count": 2,
   "metadata": {},
   "outputs": [],
   "source": [
    "##function to create the matrix that holds an indicator if x_j==0 & y==1\n",
    "createConjunctionMat <- function(xData, yData){\n",
    "    #create matrix to hold indicator if x_j==0 & y==1\n",
    "    result_matrix = matrix(0, nrow=nrow(xData), ncol=ncol(xData));\n",
    "    for(i in 1:nrow(xData)){\n",
    "        if(yData[i] == 1){ #only need to consider row if y=1\n",
    "            result_matrix[i, ] <- (xData[i, ] == 0); #check if x_j == 0\n",
    "        }\n",
    "    }\n",
    "    return(result_matrix);\n",
    "}\n",
    "\n",
    "#function to calculate DP-releases for each probability\n",
    "probRelease <- function(xMat, epsilon=1.0){\n",
    "    probs <- colMeans(xMat); #calculate true probabilities\n",
    "    sensitivity <- 1 / nrow(xMat); #sensitivity is 1/n\n",
    "    scale <- sensitivity / epsilon;\n",
    "    dpProbs <- probs + rlap(mu=0, b=scale, size=length(probs)); #add laplace noise to the true probabilities\n",
    "\n",
    "\treturn(list(release=dpProbs, true=probs) );\n",
    "}\n",
    "\n",
    "#function that ties together the different parts for doing a DP release of the probabilities for a \n",
    "## xData: matrix of {0,1}\n",
    "## yData: vector of {0,1}, same length as number of rows in xData\n",
    "## epsilon: total privacy-loss parameter. This will get split up by the number of columns in xData that \n",
    "##          we must release probabilities for\n",
    "## returns a vector of the indices corresponding to the columns of xData that predict yData well\n",
    "centrlDP_SQAlg <- function(xData, yData, totEpsilon=1.0, threshold=1e-4){\n",
    "    pMatrix <- createConjunctionMat(xData=xData, yData=yData); #create conjunction matrix\n",
    "#     print(totEpsilon/ncol(xData))\n",
    "    dpRelease <- probRelease(pMatrix, epsilon = totEpsilon/ncol(xData) ); #get DP release of probabilities\n",
    "#     cat(dpRelease$true);\n",
    "#     cat(dpRelease$release);\n",
    "    indices <- which(dpRelease$release < threshold); #get indices with probability less than threshold\n",
    "    return(indices);\n",
    "}"
   ]
  },
  {
   "cell_type": "code",
   "execution_count": 13,
   "metadata": {},
   "outputs": [
    {
     "data": {
      "text/html": [
       "<table>\n",
       "<tbody>\n",
       "\t<tr><td>0</td><td>0</td><td>0</td><td>5</td><td>5</td><td>0</td><td>0</td><td>0</td><td>0</td><td>5</td></tr>\n",
       "\t<tr><td>0</td><td>0</td><td>0</td><td>0</td><td>0</td><td>0</td><td>0</td><td>0</td><td>0</td><td>0</td></tr>\n",
       "\t<tr><td>0</td><td>0</td><td>0</td><td>0</td><td>0</td><td>0</td><td>0</td><td>0</td><td>0</td><td>0</td></tr>\n",
       "\t<tr><td>0</td><td>0</td><td>0</td><td>0</td><td>0</td><td>0</td><td>0</td><td>0</td><td>0</td><td>0</td></tr>\n",
       "\t<tr><td>0</td><td>0</td><td>0</td><td>0</td><td>0</td><td>0</td><td>0</td><td>0</td><td>0</td><td>0</td></tr>\n",
       "</tbody>\n",
       "</table>\n"
      ],
      "text/latex": [
       "\\begin{tabular}{llllllllll}\n",
       "\t 0 & 0 & 0 & 5 & 5 & 0 & 0 & 0 & 0 & 5\\\\\n",
       "\t 0 & 0 & 0 & 0 & 0 & 0 & 0 & 0 & 0 & 0\\\\\n",
       "\t 0 & 0 & 0 & 0 & 0 & 0 & 0 & 0 & 0 & 0\\\\\n",
       "\t 0 & 0 & 0 & 0 & 0 & 0 & 0 & 0 & 0 & 0\\\\\n",
       "\t 0 & 0 & 0 & 0 & 0 & 0 & 0 & 0 & 0 & 0\\\\\n",
       "\\end{tabular}\n"
      ],
      "text/markdown": [
       "\n",
       "| 0 | 0 | 0 | 5 | 5 | 0 | 0 | 0 | 0 | 5 |\n",
       "| 0 | 0 | 0 | 0 | 0 | 0 | 0 | 0 | 0 | 0 |\n",
       "| 0 | 0 | 0 | 0 | 0 | 0 | 0 | 0 | 0 | 0 |\n",
       "| 0 | 0 | 0 | 0 | 0 | 0 | 0 | 0 | 0 | 0 |\n",
       "| 0 | 0 | 0 | 0 | 0 | 0 | 0 | 0 | 0 | 0 |\n",
       "\n"
      ],
      "text/plain": [
       "     [,1] [,2] [,3] [,4] [,5] [,6] [,7] [,8] [,9] [,10]\n",
       "[1,] 0    0    0    5    5    0    0    0    0    5    \n",
       "[2,] 0    0    0    0    0    0    0    0    0    0    \n",
       "[3,] 0    0    0    0    0    0    0    0    0    0    \n",
       "[4,] 0    0    0    0    0    0    0    0    0    0    \n",
       "[5,] 0    0    0    0    0    0    0    0    0    0    "
      ]
     },
     "metadata": {},
     "output_type": "display_data"
    }
   ],
   "source": [
    "# pMatrix <- createConjunctionMat(xData=mydata[,0:10], yData=mydata[['y']])\n",
    "# pMatrix[1:5, ]*5\n",
    "# dpRelease <- probRelease(pMatrix, epsilon = 0.5);\n",
    "# dpRelease$true\n",
    "# dpRelease$release\n",
    "\n",
    "#read in the test data\n",
    "# mydata <- read.csv('../../data/hw4testdata.csv');\n",
    "# mydata[0:10, ]\n",
    "\n",
    "#get set of features to use as predictors\n",
    "# centrlDP_SQAlg(xData = mydata[, 1:10], yData = mydata[['y']], totEpsilon = 0.5)"
   ]
  },
  {
   "cell_type": "markdown",
   "metadata": {},
   "source": [
    "### Local Model"
   ]
  },
  {
   "cell_type": "markdown",
   "metadata": {},
   "source": [
    "#### describe local model implementation"
   ]
  },
  {
   "cell_type": "code",
   "execution_count": 3,
   "metadata": {},
   "outputs": [],
   "source": [
    "#local release mechanism works for x as a scalar\n",
    "localRelease <- function(x, values=c(0,1), epsilon){\n",
    "\tdraw <- runif(n=1, min=0, max=1);\n",
    "\tcutoff <- 1/(1+exp(epsilon));\n",
    "    if(draw < cutoff){ #we are going to flip the our value\n",
    "        return(values[ !values %in% x]); #create flag with (!values %in% x) for opposite value of 'x'\n",
    "    }else{ #draw > cutoff so we return true value\n",
    "        return(x);\n",
    "    }\n",
    "}\n",
    "\n",
    "\n",
    "#function to apply correction for our 0/1 values after local release\n",
    "correction <- function(releaseMat, epsilon){\n",
    "\tinflation <- (exp(epsilon) + 1)/(exp(epsilon) - 1); #coefficient to multiply each value in the release by\n",
    "    additive <- -1 / (exp(epsilon) - 1); #additive factor to apply for because data is {0,1}\n",
    "    cat(inflation, additive);\n",
    "\tcorrectedMat <- releaseMat*inflation + additive;\n",
    "\treturn(correctedMat);\n",
    "}\n",
    "\n",
    "\n",
    "#function that ties together the different parts for doing a DP release of the probabilities for a local model\n",
    "## xData: matrix of {0,1}\n",
    "## yData: vector of {0,1}, same length as number of rows in xData\n",
    "## epsilon: total privacy-loss parameter. This will get split up by the number of columns in xData that \n",
    "##          we must release probabilities for\n",
    "## returns a vector of the indices corresponding to the columns of xData that predict yData well\n",
    "localDP_SQAlg <- function(xData, yData, totEpsilon=1.0, threshold=1e-4){\n",
    "    cat(paste(Sys.time(),\"\\n\") )\n",
    "    pMatrix <- createConjunctionMat(xData=xData, yData=yData); #create conjunction matrix\n",
    "    epsSplit <- totEpsilon / ncol(xData); #divide the total epsilon by the number of features\n",
    "    #perform local release of conjunction matrix\n",
    "    \n",
    "    for(r in 1:nrow(pMatrix)){\n",
    "#         cat(paste(r, Sys.time(), \"\\n\") );\n",
    "        for(c in 1:ncol(pMatrix)){\n",
    "            pMatrix[r, c] <- localRelease(x=pMatrix[r, c], values = c(0,1), epsilon = epsSplit);\n",
    "        }\n",
    "    }\n",
    "    cat(paste(Sys.time(),\"\\n\") )\n",
    "#     #perform correction\n",
    "#     correctedMat <- correction(releaseMat = pMatrix, epsilon = epsSplit);\n",
    "#     dpRelease <- colMeans(correctedMat); #calculate the probabilities for each feature\n",
    "    \n",
    "#     indices <- which(dpRelease < threshold); #get indices with probability less than threshold\n",
    "#     return(indices);\n",
    "}"
   ]
  },
  {
   "cell_type": "code",
   "execution_count": 4,
   "metadata": {},
   "outputs": [
    {
     "name": "stdout",
     "output_type": "stream",
     "text": [
      "2019-04-14 23:29:22 \n",
      "2019-04-14 23:33:31 \n"
     ]
    }
   ],
   "source": [
    "mydata <- read.csv('../../data/hw4testdata.csv');\n",
    "localDP_SQAlg(xData = mydata[, 1:10], yData = mydata[['y']], totEpsilon = 0.5)"
   ]
  },
  {
   "cell_type": "markdown",
   "metadata": {},
   "source": [
    "### (b)"
   ]
  },
  {
   "cell_type": "markdown",
   "metadata": {},
   "source": [
    "### Centralized DP algorithm\n",
    "\n",
    "I will refer to the $d$ columns in each dataset $x_i$ as features.<br>\n",
    "$P[\\hat S \\supseteq S]$ is the probability that set $S$ contains a feature $j$ that $\\hat S$ does not. This equivalent to determining the probability that at least one of the features $j \\in S$ has DP-released $\\hat p_j$ that is greater than the threshold $t$ we specify. Thus, we get\n",
    "$$\n",
    "P[\\hat S \\supseteq S] = \\sum_{j\\in S} P[\\hat p_j > t]\n",
    "$$\n",
    "\n",
    "For the centralized DP SQ algorithm, I chose $\\hat p_j = p_j + Lap\\left(\\dfrac{d}{n\\tilde\\epsilon}\\right)$. Additionally, we know that for each $j \\in S$, we have $p_j =0$. Thus, we get\n",
    "$$\\begin{align}\n",
    "P[\\hat S \\supseteq S] &= \\sum_{j\\in S} P[p_j + Lap\\left(\\dfrac{d}{n\\tilde\\epsilon}\\right) > t]\\\\\n",
    "&= \\sum_{j\\in S} P[0 + Lap\\left(\\dfrac{d}{n\\tilde\\epsilon}\\right) > t]\n",
    "\\end{align}$$\n",
    "\n",
    "This can be equation can be expanded to be in terms of $t$, $n$, $\\epsilon$, and $|S|$ because we can expand the probability that a value chosen from the Laplace distribution is greater than $t$ and $\\sum_{j\\in S}=|S|$:\n",
    "$$\\begin{align}\n",
    "&= \\sum_{j\\in S} P[0 + Lap\\left(\\dfrac{d}{n\\tilde\\epsilon}\\right) > t] \\\\\n",
    "&= |S| \\cdot \\int_t^{\\infty} \\dfrac{e^{(-|y|\\cdot n\\epsilon / d)}\\cdot n\\epsilon}{2d} dy\\\\\n",
    "\\end{align}$$\n",
    "\n",
    "Now, if we say that $P[\\hat S \\supseteq S] \\leq 0.1$, we can find a lower bound on what the threshold $t$ should be:\n",
    "$$\\begin{align}\n",
    "P[\\hat S \\supseteq S] &\\leq 0.1\\\\\n",
    "\\\\\n",
    "|S| \\cdot \\int_t^{\\infty} \\dfrac{e^{(-|y|\\cdot n\\epsilon / d)}\\cdot n\\epsilon}{2d} dy &\\leq 0.1\\\\\n",
    "\\\\\n",
    "|S|\\dfrac{n\\epsilon}{2d} \\cdot \\int_t^{\\infty} e^{(-|y|\\cdot n\\epsilon / d)} dy &\\leq 0.1\\\\\n",
    "\\\\\n",
    "\\\\\n",
    "\\int_t^{\\infty} e^{(-|y|\\cdot n\\epsilon / d)} dy &\\leq \\dfrac{(0.1)\\cdot 2d}{|S|n\\epsilon}\\\\\n",
    "\\\\\n",
    "\\left[\\dfrac{-d}{n\\epsilon} e^{(-y\\cdot n\\epsilon / d)} \\right]_t^{\\infty} &\\leq \\dfrac{(0.1)\\cdot 2d}{|S|n\\epsilon}\\\\\n",
    "\\\\\n",
    "\\dfrac{-d}{n\\epsilon} \\left[ e^{(-\\infty \\cdot n\\epsilon / d)} - e^{(-t \\cdot n\\epsilon / d)} \\right] &\\leq \\dfrac{(0.1)\\cdot 2d}{|S|n\\epsilon}\\\\\n",
    "\\\\\n",
    "-1 \\left[ 0 - e^{(-t \\cdot n\\epsilon / d)} \\right] &\\leq \\dfrac{(0.2)}{|S|}\\\\\n",
    "\\\\\n",
    "e^{(-t \\cdot n\\epsilon / d)} &\\leq \\dfrac{(0.2)}{|S|}\\\\\n",
    "\\\\\n",
    "-t  &\\leq \\dfrac{d}{n\\epsilon} \\log\\left(\\dfrac{(0.2)}{|S|} \\right)\\\\\n",
    "\\\\\n",
    "t  &\\leq \\dfrac{-d}{n\\epsilon} \\log\\left(\\dfrac{(0.2)}{|S|} \\right)\\\\\n",
    "\\end{align}$$\n",
    "\n",
    "Thus, for the centralized DP SQ algorithm, we find that $t  \\leq \\dfrac{-d}{n\\epsilon} \\log\\left(\\dfrac{(0.2)}{|S|} \\right)$ if we want $P[\\hat S \\supseteq S] \\leq 0.1$."
   ]
  },
  {
   "cell_type": "markdown",
   "metadata": {},
   "source": [
    "### (c)"
   ]
  },
  {
   "cell_type": "code",
   "execution_count": 48,
   "metadata": {},
   "outputs": [
    {
     "data": {
      "text/html": [
       "<table>\n",
       "<thead><tr><th scope=col>sex</th><th scope=col>married</th><th scope=col>black</th><th scope=col>asian</th><th scope=col>collegedegree</th><th scope=col>employed</th><th scope=col>militaryservice</th><th scope=col>uscitizen</th><th scope=col>disability</th><th scope=col>englishability</th><th scope=col>blackfemale</th><th scope=col>targetted</th></tr></thead>\n",
       "<tbody>\n",
       "\t<tr><td>1</td><td>1</td><td>0</td><td>0</td><td>0</td><td>1</td><td>0</td><td>1</td><td>0</td><td>1</td><td>0</td><td>0</td></tr>\n",
       "\t<tr><td>1</td><td>1</td><td>0</td><td>0</td><td>0</td><td>0</td><td>0</td><td>1</td><td>0</td><td>1</td><td>0</td><td>0</td></tr>\n",
       "\t<tr><td>0</td><td>1</td><td>0</td><td>0</td><td>0</td><td>0</td><td>1</td><td>1</td><td>0</td><td>1</td><td>0</td><td>0</td></tr>\n",
       "\t<tr><td>0</td><td>0</td><td>0</td><td>0</td><td>0</td><td>0</td><td>0</td><td>1</td><td>1</td><td>1</td><td>0</td><td>0</td></tr>\n",
       "\t<tr><td>0</td><td>1</td><td>0</td><td>0</td><td>0</td><td>0</td><td>0</td><td>1</td><td>0</td><td>1</td><td>0</td><td>0</td></tr>\n",
       "\t<tr><td>1</td><td>1</td><td>0</td><td>0</td><td>0</td><td>0</td><td>0</td><td>1</td><td>0</td><td>1</td><td>0</td><td>0</td></tr>\n",
       "\t<tr><td>0</td><td>1</td><td>0</td><td>0</td><td>0</td><td>1</td><td>0</td><td>1</td><td>0</td><td>1</td><td>0</td><td>1</td></tr>\n",
       "\t<tr><td>1</td><td>1</td><td>0</td><td>0</td><td>0</td><td>0</td><td>0</td><td>1</td><td>0</td><td>1</td><td>0</td><td>0</td></tr>\n",
       "\t<tr><td>0</td><td>1</td><td>0</td><td>0</td><td>0</td><td>1</td><td>0</td><td>1</td><td>0</td><td>1</td><td>0</td><td>1</td></tr>\n",
       "\t<tr><td>1</td><td>1</td><td>0</td><td>0</td><td>0</td><td>1</td><td>0</td><td>1</td><td>0</td><td>1</td><td>0</td><td>0</td></tr>\n",
       "</tbody>\n",
       "</table>\n"
      ],
      "text/latex": [
       "\\begin{tabular}{r|llllllllllll}\n",
       " sex & married & black & asian & collegedegree & employed & militaryservice & uscitizen & disability & englishability & blackfemale & targetted\\\\\n",
       "\\hline\n",
       "\t 1 & 1 & 0 & 0 & 0 & 1 & 0 & 1 & 0 & 1 & 0 & 0\\\\\n",
       "\t 1 & 1 & 0 & 0 & 0 & 0 & 0 & 1 & 0 & 1 & 0 & 0\\\\\n",
       "\t 0 & 1 & 0 & 0 & 0 & 0 & 1 & 1 & 0 & 1 & 0 & 0\\\\\n",
       "\t 0 & 0 & 0 & 0 & 0 & 0 & 0 & 1 & 1 & 1 & 0 & 0\\\\\n",
       "\t 0 & 1 & 0 & 0 & 0 & 0 & 0 & 1 & 0 & 1 & 0 & 0\\\\\n",
       "\t 1 & 1 & 0 & 0 & 0 & 0 & 0 & 1 & 0 & 1 & 0 & 0\\\\\n",
       "\t 0 & 1 & 0 & 0 & 0 & 1 & 0 & 1 & 0 & 1 & 0 & 1\\\\\n",
       "\t 1 & 1 & 0 & 0 & 0 & 0 & 0 & 1 & 0 & 1 & 0 & 0\\\\\n",
       "\t 0 & 1 & 0 & 0 & 0 & 1 & 0 & 1 & 0 & 1 & 0 & 1\\\\\n",
       "\t 1 & 1 & 0 & 0 & 0 & 1 & 0 & 1 & 0 & 1 & 0 & 0\\\\\n",
       "\\end{tabular}\n"
      ],
      "text/markdown": [
       "\n",
       "| sex | married | black | asian | collegedegree | employed | militaryservice | uscitizen | disability | englishability | blackfemale | targetted |\n",
       "|---|---|---|---|---|---|---|---|---|---|---|---|\n",
       "| 1 | 1 | 0 | 0 | 0 | 1 | 0 | 1 | 0 | 1 | 0 | 0 |\n",
       "| 1 | 1 | 0 | 0 | 0 | 0 | 0 | 1 | 0 | 1 | 0 | 0 |\n",
       "| 0 | 1 | 0 | 0 | 0 | 0 | 1 | 1 | 0 | 1 | 0 | 0 |\n",
       "| 0 | 0 | 0 | 0 | 0 | 0 | 0 | 1 | 1 | 1 | 0 | 0 |\n",
       "| 0 | 1 | 0 | 0 | 0 | 0 | 0 | 1 | 0 | 1 | 0 | 0 |\n",
       "| 1 | 1 | 0 | 0 | 0 | 0 | 0 | 1 | 0 | 1 | 0 | 0 |\n",
       "| 0 | 1 | 0 | 0 | 0 | 1 | 0 | 1 | 0 | 1 | 0 | 1 |\n",
       "| 1 | 1 | 0 | 0 | 0 | 0 | 0 | 1 | 0 | 1 | 0 | 0 |\n",
       "| 0 | 1 | 0 | 0 | 0 | 1 | 0 | 1 | 0 | 1 | 0 | 1 |\n",
       "| 1 | 1 | 0 | 0 | 0 | 1 | 0 | 1 | 0 | 1 | 0 | 0 |\n",
       "\n"
      ],
      "text/plain": [
       "   sex married black asian collegedegree employed militaryservice uscitizen\n",
       "1  1   1       0     0     0             1        0               1        \n",
       "2  1   1       0     0     0             0        0               1        \n",
       "3  0   1       0     0     0             0        1               1        \n",
       "4  0   0       0     0     0             0        0               1        \n",
       "5  0   1       0     0     0             0        0               1        \n",
       "6  1   1       0     0     0             0        0               1        \n",
       "7  0   1       0     0     0             1        0               1        \n",
       "8  1   1       0     0     0             0        0               1        \n",
       "9  0   1       0     0     0             1        0               1        \n",
       "10 1   1       0     0     0             1        0               1        \n",
       "   disability englishability blackfemale targetted\n",
       "1  0          1              0           0        \n",
       "2  0          1              0           0        \n",
       "3  0          1              0           0        \n",
       "4  1          1              0           0        \n",
       "5  0          1              0           0        \n",
       "6  0          1              0           0        \n",
       "7  0          1              0           1        \n",
       "8  0          1              0           0        \n",
       "9  0          1              0           1        \n",
       "10 0          1              0           0        "
      ]
     },
     "metadata": {},
     "output_type": "display_data"
    }
   ],
   "source": [
    "#read in the test data\n",
    "mydata <- read.csv('../../data/CaPUMS5full.csv');\n",
    "mydata[0:10, ]\n",
    "\n",
    "#get set of features to use as predictors\n",
    "attrInd <- centrlDP_SQAlg(xData = mydata[, 1:10], yData = mydata[['targetted']], totEpsilon = 1, threshold = 1e-4);\n",
    "cat(attrInd);"
   ]
  },
  {
   "cell_type": "code",
   "execution_count": 49,
   "metadata": {},
   "outputs": [
    {
     "data": {
      "text/html": [
       "1223992"
      ],
      "text/latex": [
       "1223992"
      ],
      "text/markdown": [
       "1223992"
      ],
      "text/plain": [
       "[1] 1223992"
      ]
     },
     "metadata": {},
     "output_type": "display_data"
    }
   ],
   "source": [
    "mydata <- read.csv('../../data/CaPUMS5full.csv');\n",
    "nrow(mydata)"
   ]
  }
 ],
 "metadata": {
  "kernelspec": {
   "display_name": "R",
   "language": "R",
   "name": "ir"
  },
  "language_info": {
   "codemirror_mode": "r",
   "file_extension": ".r",
   "mimetype": "text/x-r-source",
   "name": "R",
   "pygments_lexer": "r",
   "version": "3.5.3"
  }
 },
 "nbformat": 4,
 "nbformat_minor": 2
}
