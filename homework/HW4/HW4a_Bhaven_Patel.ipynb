{
 "cells": [
  {
   "cell_type": "markdown",
   "metadata": {},
   "source": [
    "# HW4A: The Local Model\n",
    "\n",
    "### Bhaven Patel\n",
    "### 4/16/2019\n",
    "\n",
    "I worked with Anthony Rentsch, Lipika Ramaswamy, and Karina Huang on this homework.\n",
    "\n",
    "My code can be found on my [Github](https://github.com/bhavenp/cs208/blob/master/homework/HW4/HW4_Bhaven_Patel.ipynb)."
   ]
  },
  {
   "cell_type": "markdown",
   "metadata": {},
   "source": [
    "## Problem 1: Learning Conjunctions in the SQ Model"
   ]
  },
  {
   "cell_type": "markdown",
   "metadata": {},
   "source": [
    "### (a)"
   ]
  },
  {
   "cell_type": "markdown",
   "metadata": {},
   "source": [
    "### Centralized Version of SQ Model\n",
    "\n",
    "\n",
    "For the centralized version of the SQ model, I chose to calculate $p_j = P[x[j]=0 \\,\\wedge\\, y=1]$ for $j=1,...,d$. \n",
    "To do this, I create a \"conjunction matrix\" where the element at the $i$-th row ($i=1,...,n$) and the $j$-th column ($j=1,...,d$) contains an indicator as to whether $x_{ij}=0 \\wedge y_i=1$ in the original dataset. $p_j$ is just the mean of the $j$-th column in the conjunction matrix.\n",
    "\n",
    "Then, laplace noise is added to $p_j$ with a scale equal to $\\dfrac{GS}{\\tilde\\epsilon}$, where the global sensitivity $GS=\\dfrac{1}{n}$ and $\\tilde\\epsilon= \\dfrac{\\epsilon}{d}$. The $GS=\\dfrac{1}{n}$ because changing one value ($0\\rightarrow 1$ or $1\\rightarrow 0$) in the column $j$ changes $p_j$ by $\\dfrac{1}{n}$. Thus, every $p_j$ has a differentially private release $\\hat p_j$\n",
    "$$\n",
    "\\hat p_j = p_j + Lap\\left(\\dfrac{d}{n\\tilde\\epsilon}  \\right)\n",
    "$$"
   ]
  },
  {
   "cell_type": "markdown",
   "metadata": {},
   "source": [
    "Below are the helper functions we generally use."
   ]
  },
  {
   "cell_type": "code",
   "execution_count": 1,
   "metadata": {},
   "outputs": [],
   "source": [
    "rm(list=ls())\t\t# Remove any objects in memory\n",
    "\n",
    "# Random draw from Laplace distribution\n",
    "#\n",
    "# mu numeric, center of the distribution\n",
    "# b numeric, spread\n",
    "# size integer, number of draws\n",
    "# \n",
    "# return Random draws from Laplace distribution\n",
    "# example:\n",
    "# \n",
    "# rlap(size=1000)\n",
    "\n",
    "rlap = function(mu=0, b=1, size=1) {\n",
    "    p <- runif(size) - 0.5\n",
    "    draws <- mu - b * sgn(p) * log(1 - 2 * abs(p))\n",
    "    return(draws)\n",
    "}\n",
    "\n",
    "# Sign function\n",
    "# \n",
    "# Function to determine what the sign of the passed values should be.\n",
    "#\n",
    "# x numeric, value or vector or values\n",
    "# return The sign of passed values\n",
    "# example:\n",
    "#\n",
    "# sgn(rnorm(10))\n",
    "\n",
    "sgn <- function(x) {\n",
    "    return(ifelse(x < 0, -1, 1))\n",
    "}"
   ]
  },
  {
   "cell_type": "code",
   "execution_count": 37,
   "metadata": {},
   "outputs": [],
   "source": [
    "##function to create the matrix that holds an indicator if x_j==0 & y==1\n",
    "createConjunctionMat <- function(xData, yData){\n",
    "    #create matrix to hold indicator if x_j==0 & y==1\n",
    "    result_matrix = matrix(0, nrow=nrow(xData), ncol=ncol(xData));\n",
    "    for(i in 1:nrow(xData)){\n",
    "        if(yData[i] == 1){ #only need to consider row if y=1\n",
    "            result_matrix[i, ] <- (xData[i, ] == 0); #check if x_j == 0\n",
    "        }\n",
    "    }\n",
    "    return(result_matrix);\n",
    "}\n",
    "\n",
    "#function to calculate DP-releases for each probability\n",
    "probRelease <- function(xMat, epsilon=1.0){\n",
    "    probs <- colMeans(xMat); #calculate true probabilities\n",
    "    sensitivity <- 1 / nrow(xMat); #sensitivity is 1/n\n",
    "    scale <- sensitivity / epsilon;\n",
    "    dpProbs <- probs + rlap(mu=0, b=scale, size=length(probs)); #add laplace noise to the true probabilities\n",
    "\n",
    "\treturn(list(release=dpProbs, true=probs) );\n",
    "}\n",
    "\n",
    "#function that ties together the different parts for doing a DP release of the probabilities for a \n",
    "## xData: matrix of {0,1}\n",
    "## yData: vector of {0,1}, same length as number of rows in xData\n",
    "## epsilon: total privacy-loss parameter. This will get split up by the number of columns in xData that \n",
    "##          we must release probabilities for\n",
    "## returns a vector of the indices corresponding to the columns of xData that predict yData well\n",
    "centrlDP_SQAlg <- function(xData, yData, totEpsilon=1.0, threshold=1e-4){\n",
    "    pMatrix <- createConjunctionMat(xData=xData, yData=yData); #create conjunction matrix\n",
    "#     print(totEpsilon/ncol(xData))\n",
    "    dpRelease <- probRelease(pMatrix, epsilon = totEpsilon/ncol(xData) ); #get DP release of probabilities\n",
    "#     cat(dpRelease$true);\n",
    "#     cat(dpRelease$release);\n",
    "    indices <- which(dpRelease$release < threshold); #get indices with probability less than threshold\n",
    "    return(list(indices=indices, probs=dpRelease$release) );\n",
    "}"
   ]
  },
  {
   "cell_type": "code",
   "execution_count": 6,
   "metadata": {},
   "outputs": [
    {
     "name": "stdout",
     "output_type": "stream",
     "text": [
      "0.0001769678 0.0002072671 -5.581285e-05 0.06207814 0.06055334 0.06118389 0.06161409 0.06166882 0.06089769 0.06109279"
     ]
    },
    {
     "data": {
      "text/html": [
       "<ol class=list-inline>\n",
       "\t<li>1</li>\n",
       "\t<li>2</li>\n",
       "\t<li>3</li>\n",
       "</ol>\n"
      ],
      "text/latex": [
       "\\begin{enumerate*}\n",
       "\\item 1\n",
       "\\item 2\n",
       "\\item 3\n",
       "\\end{enumerate*}\n"
      ],
      "text/markdown": [
       "1. 1\n",
       "2. 2\n",
       "3. 3\n",
       "\n",
       "\n"
      ],
      "text/plain": [
       "[1] 1 2 3"
      ]
     },
     "metadata": {},
     "output_type": "display_data"
    }
   ],
   "source": [
    "# pMatrix <- createConjunctionMat(xData=mydata[,0:10], yData=mydata[['y']])\n",
    "# pMatrix[1:5, ]*5\n",
    "# dpRelease <- probRelease(pMatrix, epsilon = 0.5);\n",
    "# dpRelease$true\n",
    "# dpRelease$release\n",
    "\n",
    "#read in the test data\n",
    "# mydata <- read.csv('../../data/hw4testdata.csv');\n",
    "# mydata[0:10, ]\n",
    "\n",
    "#get set of features to use as predictors\n",
    "# set.seed(42);\n",
    "# centrlDP_SQAlg(xData = mydata[, 1:10], yData = mydata[['y']], totEpsilon = 1.0, threshold = .01)"
   ]
  },
  {
   "cell_type": "markdown",
   "metadata": {},
   "source": [
    "### Local Model"
   ]
  },
  {
   "cell_type": "markdown",
   "metadata": {},
   "source": [
    "#### describe local model implementation"
   ]
  },
  {
   "cell_type": "code",
   "execution_count": 7,
   "metadata": {},
   "outputs": [],
   "source": [
    "#local release mechanism works for x as a scalar\n",
    "# localRelease <- function(x, values=c(0,1), epsilon){\n",
    "# \tdraw <- runif(n=1, min=0, max=1);\n",
    "# \tcutoff <- 1/(1+exp(epsilon));\n",
    "#     if(draw < cutoff){ #we are going to flip the our value\n",
    "#         return(values[ !values %in% x]); #create flag with (!values %in% x) for opposite value of 'x'\n",
    "#     }else{ #draw > cutoff so we return true value\n",
    "#         return(x);\n",
    "#     }\n",
    "# }\n",
    "\n",
    "#local release mechanism works for x as a vector\n",
    "localReleaseVec <- function(x, values=c(0,1), epsilon){\n",
    "\tdraws <- runif(n=length(x), min=0, max=1); #get number of draws equal to length of the vector\n",
    "\tcutoff <- 1/(1+exp(epsilon));\n",
    "    release <- x; #make a copy of the vector x\n",
    "    for(i in 1:length(x)){\n",
    "        if(draws[i] < cutoff){ #we are going to flip the our value\n",
    "            release[i] <- values[ !values %in% x[i] ] ; #create flag with (!values %in% x) for opposite value of 'x'\n",
    "        }\n",
    "    } \n",
    "    return(release);\n",
    "}\n",
    "\n",
    "\n",
    "#function that ties together the different parts for doing a DP release of the probabilities for a local model\n",
    "## xData: matrix of {0,1}\n",
    "## yData: vector of {0,1}, same length as number of rows in xData\n",
    "## epsilon: total privacy-loss parameter. This will get split up by the number of columns in xData that \n",
    "##          we must release probabilities for\n",
    "## returns a vector of the indices corresponding to the columns of xData that predict yData well\n",
    "localDP_SQAlg <- function(xData, yData, totEpsilon=1.0, threshold=1e-4){\n",
    "#     cat(paste(Sys.time(),\"\\n\") )\n",
    "    cjMatrix <- createConjunctionMat(xData=xData, yData=yData);#create conjunction matrix\n",
    "#     cat(colMeans(cjMatrix));\n",
    "    \n",
    "    epsSplit <- totEpsilon / ncol(xData); #divide the total epsilon by the number of features\n",
    "    #perform local release of conjunction matrix \n",
    "    lrMatrix <- cjMatrix; #create a copy of the conjunction matrix\n",
    "    for(r in 1:nrow(cjMatrix)){\n",
    "        lrMatrix[r, ] <- localReleaseVec(x=cjMatrix[r, ], values = c(0,1), epsilon = epsSplit);\n",
    "    }\n",
    "    \n",
    "\n",
    "    dpSums <- colSums(lrMatrix); #get sums of the local release of the conjunction matrix\n",
    "#     cat('\\n', dpSums);\n",
    "    #perform correction\n",
    "    inflation <- (exp(epsSplit) + 1) / (exp(epsSplit) - 1); #coefficient to multiply each sum by\n",
    "    n <- nrow(xData); #get number of rows\n",
    "    additive <- -n / (exp(epsSplit) - 1); #additive factor to apply for because data is {0,1}\n",
    "#     print(paste(inflation, additive))\n",
    "    dpProbs <- (dpSums * inflation + additive) / n;\n",
    "#     cat('\\n', dpProbs);\n",
    "    indices <- which(dpProbs < threshold); #get indices with probability less than threshold\n",
    "    return(list(indices=indices, probs=dpProbs));\n",
    "}"
   ]
  },
  {
   "cell_type": "code",
   "execution_count": 12,
   "metadata": {},
   "outputs": [
    {
     "name": "stdout",
     "output_type": "stream",
     "text": [
      "\n",
      " 47568 47611 47588 47627 48018 47710 47742 48021 48027 47963\n",
      " 0.01319473 0.0218019 0.01719807 0.02500457 0.1032697 0.0416184 0.04802373 0.1038702 0.1050712 0.09226056"
     ]
    }
   ],
   "source": [
    "# set.seed(42);\n",
    "mydata <- read.csv('../../data/hw4testdata.csv');\n",
    "testRelease <- localDP_SQAlg(xData = mydata[, 1:10], yData = mydata[['y']], totEpsilon = 1.0, threshold = 0.01)"
   ]
  },
  {
   "cell_type": "code",
   "execution_count": 13,
   "metadata": {},
   "outputs": [
    {
     "data": {
      "text/html": [],
      "text/latex": [],
      "text/markdown": [],
      "text/plain": [
       "integer(0)"
      ]
     },
     "metadata": {},
     "output_type": "display_data"
    }
   ],
   "source": [
    "testRelease"
   ]
  },
  {
   "cell_type": "markdown",
   "metadata": {},
   "source": [
    "### (b)"
   ]
  },
  {
   "cell_type": "markdown",
   "metadata": {},
   "source": [
    "### Centralized DP algorithm\n",
    "\n",
    "I will refer to the $d$ columns in each dataset $x_i$ as features.<br>\n",
    "$P[\\hat S \\supseteq S]$ is the probability that set $S$ contains a feature $j$ that $\\hat S$ does not. This equivalent to determining the probability that at least one of the features $j \\in S$ has DP-released $\\hat p_j$ that is greater than the threshold $t$ we specify. Thus, we get\n",
    "$$\n",
    "P[\\hat S \\supseteq S] = \\sum_{j\\in S} P[\\hat p_j > t]\n",
    "$$\n",
    "\n",
    "For the centralized DP SQ algorithm, I chose $\\hat p_j = p_j + Lap\\left(\\dfrac{d}{n\\tilde\\epsilon}\\right)$. Additionally, we know that for each $j \\in S$, we have $p_j =0$. Thus, we get\n",
    "$$\\begin{align}\n",
    "P[\\hat S \\supseteq S] &= \\sum_{j\\in S} P[p_j + Lap\\left(\\dfrac{d}{n\\tilde\\epsilon}\\right) > t]\\\\\n",
    "&= \\sum_{j\\in S} P[0 + Lap\\left(\\dfrac{d}{n\\tilde\\epsilon}\\right) > t]\n",
    "\\end{align}$$\n",
    "\n",
    "This can be equation can be expanded to be in terms of $t$, $n$, $\\epsilon$, and $|S|$ because we can expand the probability that a value chosen from the Laplace distribution is greater than $t$ and $\\sum_{j\\in S}=|S|$:\n",
    "$$\\begin{align}\n",
    "&= \\sum_{j\\in S} P[0 + Lap\\left(\\dfrac{d}{n\\tilde\\epsilon}\\right) > t] \\\\\n",
    "&= |S| \\cdot \\int_t^{\\infty} \\dfrac{e^{(-|y|\\cdot n\\epsilon / d)}\\cdot n\\epsilon}{2d} dy\\\\\n",
    "\\end{align}$$\n",
    "\n",
    "Now, if we say that $P[\\hat S \\supseteq S] \\leq 0.1$, we can find a lower bound on what the threshold $t$ should be:\n",
    "$$\\begin{align}\n",
    "P[\\hat S \\supseteq S] &\\leq 0.1\\\\\n",
    "\\\\\n",
    "|S| \\cdot \\int_t^{\\infty} \\dfrac{e^{(-|y|\\cdot n\\epsilon / d)}\\cdot n\\epsilon}{2d} dy &\\leq 0.1\\\\\n",
    "\\\\\n",
    "|S|\\dfrac{n\\epsilon}{2d} \\cdot \\int_t^{\\infty} e^{(-|y|\\cdot n\\epsilon / d)} dy &\\leq 0.1\\\\\n",
    "\\\\\n",
    "\\\\\n",
    "\\int_t^{\\infty} e^{(-|y|\\cdot n\\epsilon / d)} dy &\\leq \\dfrac{(0.1)\\cdot 2d}{|S|n\\epsilon}\\\\\n",
    "\\\\\n",
    "\\left[\\dfrac{-d}{n\\epsilon} e^{(-y\\cdot n\\epsilon / d)} \\right]_t^{\\infty} &\\leq \\dfrac{(0.1)\\cdot 2d}{|S|n\\epsilon}\\\\\n",
    "\\\\\n",
    "\\dfrac{-d}{n\\epsilon} \\left[ e^{(-\\infty \\cdot n\\epsilon / d)} - e^{(-t \\cdot n\\epsilon / d)} \\right] &\\leq \\dfrac{(0.1)\\cdot 2d}{|S|n\\epsilon}\\\\\n",
    "\\\\\n",
    "-1 \\left[ 0 - e^{(-t \\cdot n\\epsilon / d)} \\right] &\\leq \\dfrac{(0.2)}{|S|}\\\\\n",
    "\\\\\n",
    "e^{(-t \\cdot n\\epsilon / d)} &\\leq \\dfrac{(0.2)}{|S|}\\\\\n",
    "\\\\\n",
    "-t  &\\leq \\dfrac{d}{n\\epsilon} \\log\\left(\\dfrac{(0.2)}{|S|} \\right)\\\\\n",
    "\\\\\n",
    "t  &\\leq \\dfrac{-d}{n\\epsilon} \\log\\left(\\dfrac{(0.2)}{|S|} \\right)\\\\\n",
    "\\end{align}$$\n",
    "\n",
    "Thus, for the centralized DP SQ algorithm, we find that $t  \\leq \\dfrac{-d}{n\\epsilon} \\log\\left(\\dfrac{(0.2)}{|S|} \\right)$ if we want $P[\\hat S \\supseteq S] \\leq 0.1$."
   ]
  },
  {
   "cell_type": "markdown",
   "metadata": {},
   "source": [
    "### (c)"
   ]
  },
  {
   "cell_type": "code",
   "execution_count": 38,
   "metadata": {},
   "outputs": [
    {
     "name": "stdout",
     "output_type": "stream",
     "text": [
      "$indices\n",
      "[1]  6  8 10\n",
      "\n",
      "$probs\n",
      " [1]  2.538818e-01  1.049306e-01  2.383351e-01  2.297698e-01  1.482211e-01\n",
      " [6] -6.899099e-06  1.914219e-01  4.434741e-06  2.164476e-01  3.150693e-06\n",
      "\n"
     ]
    }
   ],
   "source": [
    "#read in the test data\n",
    "mydata <- read.csv('../../data/CaPUMS5full.csv');\n",
    "# mydata[0:10, ]\n",
    "\n",
    "#get set of features to use as predictors\n",
    "attrInd <- centrlDP_SQAlg(xData = mydata[, 1:10], yData = mydata[['targetted']], totEpsilon = 1.0, threshold = 1e-4);\n",
    "print(attrInd)"
   ]
  },
  {
   "cell_type": "code",
   "execution_count": 33,
   "metadata": {},
   "outputs": [
    {
     "name": "stdout",
     "output_type": "stream",
     "text": [
      "\n",
      " 596597 588430 596150 596116 589969 581356 592187 581080 594653 581563\n",
      " 0.2481711 0.1146113 0.240861 0.240305 0.1397795 -0.001074012 0.1760517 -0.005587603 0.2163797 0.002311182[1]  6  8 10\n"
     ]
    }
   ],
   "source": [
    "localRelInd <- localDP_SQAlg(xData = mydata[, 1:10], yData = mydata[['targetted']], totEpsilon = 1.0, threshold = 1e-2);\n",
    "print(localRelInd)"
   ]
  },
  {
   "cell_type": "code",
   "execution_count": 32,
   "metadata": {},
   "outputs": [
    {
     "data": {
      "text/html": [
       "<ol class=list-inline>\n",
       "\t<li>0</li>\n",
       "\t<li>1</li>\n",
       "\t<li>0</li>\n",
       "</ol>\n"
      ],
      "text/latex": [
       "\\begin{enumerate*}\n",
       "\\item 0\n",
       "\\item 1\n",
       "\\item 0\n",
       "\\end{enumerate*}\n"
      ],
      "text/markdown": [
       "1. 0\n",
       "2. 1\n",
       "3. 0\n",
       "\n",
       "\n"
      ],
      "text/plain": [
       "[1] 0 1 0"
      ]
     },
     "metadata": {},
     "output_type": "display_data"
    }
   ],
   "source": [
    "localReleaseVec(x = c(0,1,0), epsilon = 1.0, values = c(0,1))"
   ]
  }
 ],
 "metadata": {
  "kernelspec": {
   "display_name": "R",
   "language": "R",
   "name": "ir"
  },
  "language_info": {
   "codemirror_mode": "r",
   "file_extension": ".r",
   "mimetype": "text/x-r-source",
   "name": "R",
   "pygments_lexer": "r",
   "version": "3.5.3"
  }
 },
 "nbformat": 4,
 "nbformat_minor": 2
}
