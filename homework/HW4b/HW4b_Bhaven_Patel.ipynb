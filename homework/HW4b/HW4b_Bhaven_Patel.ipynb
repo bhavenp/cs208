{
 "cells": [
  {
   "cell_type": "markdown",
   "metadata": {},
   "source": [
    "# HW4B: Stochastic Gradient Descent and Lipschitz Extensions\n",
    "\n",
    "### Bhaven Patel\n",
    "### 4/30/2019\n",
    "\n",
    "I worked with Anthony Rentsch, Lipika Ramaswamy, and Karina Huang on this homework.\n",
    "\n",
    "My code can be found on my [Github](https://github.com/bhavenp/cs208/blob/master/homework/HW4/HW4_Bhaven_Patel.ipynb)."
   ]
  },
  {
   "cell_type": "markdown",
   "metadata": {},
   "source": [
    "## Problem 1"
   ]
  },
  {
   "cell_type": "markdown",
   "metadata": {},
   "source": [
    "### (a)"
   ]
  },
  {
   "cell_type": "markdown",
   "metadata": {},
   "source": [
    "$G = \\mathbb{R}^n$, $H = [a,b]^n$, $x\\sim x'$ differ on one row, $f(x) = \\dfrac{1}{n} \\sum_{i=1}^n x_i$\n",
    "\n",
    "**(i)**<br>\n",
    "The global sensitivity $GS_f(x) = \\infty$ because we can change any value in the dataset $x$ from to $\\infty$ (or some arbitrarily large number) to get a neighboring dataset $x'$. Thus, this would change the mean by $\\infty$.\n",
    "<br>\n",
    "<br>\n",
    "\n",
    "**(ii)**<br>\n",
    "The minimum local sensitivity $\\min_{x \\in G}LS_f(x) = \\infty$ because the best case dataset $x$ would be a one-value dataset/array $x=[x_1]$, where $x_1$ is any value. The worst case neighboring dataset $x'$ would be a one-value dataset/array $x'=[x'_1]$, where $x'_1 = \\infty$ (or some very large number). Thus, the difference between $f(x)$ and $f(x')$ would be infinite like the global sensitivity case.\n",
    "<br>\n",
    "<br>\n",
    "\n",
    "**(iii)**<br>\n",
    "The restricted sensitivity of $RS_f^H = \\dfrac{b-a}{n}$ because in the worst case we have a dataset $x=[a]^n$ and a neighboring dataset $x'=[a,...,a, b]$, so the difference between $f(x)$ and $f(x')$ would be $\\dfrac{b-a}{n}$, which is much less than the global sensitivity or the minimum local sensitivity.\n",
    "<br>\n",
    "<br>\n",
    "\n",
    "**Lipschitz entension**<br>\n",
    "A Lipschitz entension of $f$ would be\n",
    "$$\n",
    "f'(x) = \\dfrac{1}{n} \\sum_{i=1}^n [x_i]_a^b\n",
    "$$\n",
    "where each $x_i$ is clipped to be between $a$ and $b$. \n",
    "\n",
    "This obeys the first condition of a Lipschitz entension that $f'(x)$ agrees with $f(x)$ on $H$ because any datasets $x \\in H$ are already clipped so the elements $x_i$ are between $a$ and $b$, so $f'(x) = f(x)$.\n",
    "\n",
    "$f'(x)$ also obeys the second condition of a Lipschitz entension that $GS_{f'} = RS_{f'}^H$ because the $GS_{f'}=\\dfrac{b-a}{n}$ because all the values in the datasets $x$ and $x'$ will be clipped to be between $a$ and $b$, so the worst case difference between $f'(x)$ and $f'(x')$ is $\\dfrac{b-a}{n}$. $RS_{f'}^H =\\dfrac{b-a}{n}$ too because $x \\in H$ means all the values in the dataset $x$ will be clipped to be between $a$ and $b$, so the worst case difference between  $f'(x)$ and $f'(x')$, where $x,\\,x' \\in H$, is also $\\dfrac{b-a}{n}$.\n",
    "\n",
    "Thus, $f'(x)$ is a Lipschitz entension of $f$."
   ]
  },
  {
   "cell_type": "markdown",
   "metadata": {},
   "source": [
    "### (b)\n",
    "$G = \\mathbb{R}^n$, $H = [a,b]^n$, $x\\sim x'$ differ on one row, $f(x) = \\text{median}(x_1,...,x_n)$\n",
    "\n",
    "**(i)**<br>\n",
    "The global sensitivity $GS_f(x) = \\infty$ because say the dataset $x$ is composed of $0$s and $\\infty$s (or some arbitrarily large numbers), where there is 1 more $0$ than $\\infty$ so $f(x)=0$. In the worst case, a neighboring dataset $x'$ would have one of the $0$s changed to an $\\infty$, so $f(x')=\\infty$. Thus, the median has changed by $\\infty$, so $GS_f(x) = \\infty$.\n",
    "<br>\n",
    "<br>\n",
    "\n",
    "**(ii)**<br>\n",
    "The minimum local sensitivity $\\min_{x \\in G}LS_f(x) = 0$ because the best case dataset $x$ would be $x=[0]^n$, so $f(x)=0$. The worst case neighboring dataset $x'$ would be dataset $x'=[0,...,0, \\infty]$, and $f(x')=0$. Thus, the difference between $f(x)$ and $f(x')$ would be 0.\n",
    "<br>\n",
    "<br>\n",
    "\n",
    "**(iii)**<br>\n",
    "The restricted sensitivity of $RS_f^H = b-a$ because in the worst case we have a dataset $x$ composed of $a$s and $b$s, where there is 1 more $a$ than $b$ so $f(x)=a$. In the worst case, a neighboring dataset $x'$ would have one of the $a$s changed to a $b$, so $f(x')=b$. Thus, the median has changed by $b-a$, so $RS_f^H = b-a$. "
   ]
  },
  {
   "cell_type": "markdown",
   "metadata": {},
   "source": [
    "### (c)\n",
    "$G = \\text{the set of undirected graphs}$, $H = \\text{the set of graphs in G in which every vertex has degree at most }d,\\; 2 \\leq d \\leq n − 1$,<br> \n",
    "$x\\sim x'$ differ on one node/vertex, $f(x) = \\text{# of isolated vertices}$\n",
    "\n",
    "**(i)**<br>\n",
    "The global sensitivity $GS_f(x) = 1$ because say the graph $x \\in G$ can have any number of isolated vertices $v$, so $f(x) = v$. In the worst case, a neighboring graph $x'$ is the same as $x$ except an additional isolated vertex has been added, so $f(x') = v+1$. Thus, difference between $f(x)$ and $f(x')$ is at maximum $1$.\n",
    "<br>\n",
    "<br>\n",
    "\n",
    "**(ii)**<br>\n",
    "The minimum local sensitivity $\\min_{x \\in G}LS_f(x) = 1$ because the best case graph $x$ would have 0 isolated vertices, so $f(x)=0$. The worst case neighboring graph $x'$ would be $x$ plus an isolated vertex, so $f(x') = 1$. Thus, difference between $f(x)$ and $f(x')$ is at maximum $1$, which is the same for the global sensitivity.\n",
    "<br>\n",
    "<br>\n",
    "\n",
    "**(iii)**<br>\n",
    "The restricted sensitivity of $RS_f^H = 0$ because for any graph $x \\in H$, $f(x)=0$ because each vertex in $x$ must have at least degree 2. A neighboring graph $x'$ would be equivalent to $x$ except for an additional vertex, which would have a minimum degree of 2, so $f(x')=0$. Thus, there is no difference between $f(x)$ and $f(x')$ for neighboring datasets $x,\\, x' \\in H$, so $RS_f^H = 0$."
   ]
  }
 ],
 "metadata": {
  "kernelspec": {
   "display_name": "R",
   "language": "R",
   "name": "ir"
  },
  "language_info": {
   "codemirror_mode": "r",
   "file_extension": ".r",
   "mimetype": "text/x-r-source",
   "name": "R",
   "pygments_lexer": "r",
   "version": "3.5.3"
  }
 },
 "nbformat": 4,
 "nbformat_minor": 2
}
